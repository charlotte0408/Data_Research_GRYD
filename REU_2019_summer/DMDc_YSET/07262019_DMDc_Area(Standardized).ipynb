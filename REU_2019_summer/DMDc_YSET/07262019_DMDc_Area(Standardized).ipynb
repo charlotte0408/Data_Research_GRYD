{
 "cells": [
  {
   "cell_type": "markdown",
   "metadata": {},
   "source": [
    "## In this note book Standardize the scores"
   ]
  },
  {
   "cell_type": "markdown",
   "metadata": {},
   "source": [
    "## Data Import and Matrix Split"
   ]
  },
  {
   "cell_type": "code",
   "execution_count": 1,
   "metadata": {},
   "outputs": [],
   "source": [
    "import numpy as np\n",
    "import pandas as pd\n",
    "import matplotlib.pyplot as plt\n",
    "import warnings\n",
    "import matplotlib.pyplot as plt\n",
    "warnings.filterwarnings('ignore')\n",
    "from sklearn.preprocessing import MinMaxScaler"
   ]
  },
  {
   "cell_type": "code",
   "execution_count": 2,
   "metadata": {},
   "outputs": [],
   "source": [
    "df = pd.read_csv('Intersection_Y1R1R2_0702Y1_R1_R2_on_0702clean_data.csv')"
   ]
  },
  {
   "cell_type": "code",
   "execution_count": 3,
   "metadata": {},
   "outputs": [],
   "source": [
    "df = pd.read_csv('Intersection_Y1R1R2_0702Y1_0702.csv')\n",
    "Y1 = df.loc[:, 'UniqueID':'t39_combo']\n",
    "Y1['Area'] = df['GRYD_Zone']"
   ]
  },
  {
   "cell_type": "code",
   "execution_count": 16,
   "metadata": {},
   "outputs": [
    {
     "data": {
      "text/plain": [
       "22.0    205\n",
       "5.0     202\n",
       "21.0    164\n",
       "11.0    151\n",
       "14.0    125\n",
       "1.0     121\n",
       "2.0     110\n",
       "9.0      99\n",
       "17.0     80\n",
       "12.0     74\n",
       "3.0      66\n",
       "20.0     65\n",
       "15.0     47\n",
       "19.0     39\n",
       "18.0     31\n",
       "4.0      23\n",
       "23.0     15\n",
       "7.0      10\n",
       "8.0       7\n",
       "13.0      6\n",
       "10.0      4\n",
       "Name: Area, dtype: int64"
      ]
     },
     "execution_count": 16,
     "metadata": {},
     "output_type": "execute_result"
    }
   ],
   "source": [
    "Y1['Area'].value_counts()"
   ]
  },
  {
   "cell_type": "code",
   "execution_count": 5,
   "metadata": {},
   "outputs": [],
   "source": [
    "df = pd.read_csv('Intersection_Y1R1R2_0702R1_0702.csv')\n",
    "R1 = df.loc[:, 'UniqueID':'t39_combo']\n",
    "R1['Area'] = df['GRYD_Zone']"
   ]
  },
  {
   "cell_type": "code",
   "execution_count": 6,
   "metadata": {},
   "outputs": [
    {
     "data": {
      "text/plain": [
       "<bound method NDFrame.head of       UniqueID  a1_combo  a2_combo  a3_combo  a4_combo  a5_combo  a6_combo  \\\n",
       "0       3538.0       3.0       2.0       3.0       1.0       2.0       1.0   \n",
       "1       3552.0       2.0       2.0       2.0       1.0       2.0       1.0   \n",
       "2       3569.0       2.0       5.0       5.0       1.0       2.0       3.0   \n",
       "3       3570.0       2.0       2.0       2.0       1.0       3.0       1.0   \n",
       "4       3586.0       3.0       3.0       2.0       1.0       2.0       1.0   \n",
       "5       3599.0       2.0       4.0       3.0       1.0       1.0       1.0   \n",
       "6       3614.0       1.0       4.0       1.0       1.0       3.0       1.0   \n",
       "7       3615.0       3.0       3.0       2.0       1.0       2.0       1.0   \n",
       "8       3659.0       2.0       3.0       2.0       1.0       4.0       1.0   \n",
       "9       3687.0       2.0       2.0       2.0       2.0       4.0       2.0   \n",
       "10      3703.0       2.0       4.0       2.0       1.0       1.0       1.0   \n",
       "11      3737.0       1.0       3.0       2.0       1.0       5.0       1.0   \n",
       "12      3790.0       2.0       2.0       1.0       2.0       3.0       2.0   \n",
       "13      3799.0       2.0       4.0       2.0       2.0       3.0       2.0   \n",
       "14      3890.0       1.0       3.0       3.0       1.0       2.0       1.0   \n",
       "15      3891.0       3.0       2.0       2.0       2.0       2.0       2.0   \n",
       "16      3959.0       3.0       2.0       2.0       1.0       1.0       1.0   \n",
       "17      3960.0       2.0       4.0       3.0       2.0       2.0       1.0   \n",
       "18      3965.0       3.0       4.0       2.0       2.0       3.0       2.0   \n",
       "19      4003.0       1.0       3.0       3.0       1.0       1.0       1.0   \n",
       "20      4005.0       4.0       4.0       4.0       3.0       4.0       4.0   \n",
       "21      4006.0       2.0       5.0       4.0       1.0       4.0       1.0   \n",
       "22      4015.0       1.0       2.0       1.0       1.0       3.0       1.0   \n",
       "23      4024.0       1.0       1.0       2.0       1.0       1.0       1.0   \n",
       "24      4041.0       4.0       3.0       2.0       2.0       2.0       1.0   \n",
       "25      4044.0       3.0       4.0       3.0       2.0       4.0       1.0   \n",
       "26      4052.0       3.0       4.0       3.0       1.0       1.0       3.0   \n",
       "27      4104.0       2.0       4.0       1.0       1.0       1.0       1.0   \n",
       "28      4128.0       1.0       2.0       3.0       1.0       2.0       1.0   \n",
       "29      4246.0       2.0       4.0       2.0       4.0       1.0       1.0   \n",
       "...        ...       ...       ...       ...       ...       ...       ...   \n",
       "1646   41815.0       1.0       2.0       1.0       1.0       3.0       1.0   \n",
       "1647   41981.0       3.0       4.0       3.0       2.0       5.0       3.0   \n",
       "1648   41999.0       4.0       4.0       4.0       3.0       3.0       4.0   \n",
       "1649   42004.0       3.0       3.0       1.0       1.0       1.0       1.0   \n",
       "1650   42008.0       2.0       2.0       3.0       1.0       3.0       2.0   \n",
       "1651   42026.0       1.0       3.0       2.0       2.0       2.0       1.0   \n",
       "1652   42131.0       2.0       2.0       2.0       4.0       1.0       1.0   \n",
       "1653   42134.0       2.0       5.0       3.0       2.0       2.0       1.0   \n",
       "1654   42162.0       4.0       3.0       2.0       2.0       2.0       1.0   \n",
       "1655   42294.0       2.0       2.0       2.0       4.0       4.0       2.0   \n",
       "1656   42297.0       4.0       4.0       4.0       4.0       3.0       3.0   \n",
       "1657   42372.0       3.0       3.0       3.0       1.0       1.0       1.0   \n",
       "1658   42457.0       4.0       4.0       3.0       1.0       1.0       1.0   \n",
       "1659   42461.0       3.0       4.0       2.0       2.0       2.0       2.0   \n",
       "1660   42544.0       2.0       4.0       4.0       5.0       4.0       1.0   \n",
       "1661   42602.0       2.0       3.0       4.0       3.0       4.0       2.0   \n",
       "1662   42619.0       2.0       2.0       3.0       3.0       3.0       1.0   \n",
       "1663   42818.0       4.0       5.0       4.0       3.0       5.0       3.0   \n",
       "1664   42819.0       4.0       5.0       5.0       3.0       5.0       3.0   \n",
       "1665   42853.0       4.0       4.0       4.0       4.0       4.0       4.0   \n",
       "1666   42963.0       1.0       3.0       2.0       1.0       1.0       1.0   \n",
       "1667   42989.0       3.0       3.0       4.0       1.0       2.0       2.0   \n",
       "1668   42992.0       5.0       4.0       5.0       3.0       5.0       3.0   \n",
       "1669   43070.0       3.0       4.0       3.0       1.0       4.0       1.0   \n",
       "1670   43096.0       2.0       2.0       2.0       1.0       1.0       2.0   \n",
       "1671   43097.0       1.0       1.0       1.0       2.0       1.0       1.0   \n",
       "1672   43139.0       4.0       5.0       5.0       4.0       5.0       4.0   \n",
       "1673   43232.0       4.0       5.0       4.0       2.0       5.0       4.0   \n",
       "1674   43557.0       2.0       1.0       2.0       1.0       2.0       1.0   \n",
       "1675   43947.0       3.0       3.0       3.0       3.0       3.0       3.0   \n",
       "\n",
       "      b7_combo  b8_combo  b9_combo  ...   g31_combo  h32_combo  h33_combo  \\\n",
       "0          2.0       2.0       2.0  ...         2.0        3.0        3.0   \n",
       "1          2.0       2.0       2.0  ...         4.0        1.0        1.0   \n",
       "2          4.0       2.0       5.0  ...         1.0        4.0        4.0   \n",
       "3          2.0       2.0       2.0  ...         1.0        1.0        1.0   \n",
       "4          1.0       1.0       1.0  ...         5.0        2.0        2.0   \n",
       "5          1.0       2.0       1.0  ...         1.0        3.0        2.0   \n",
       "6          1.0       1.0       1.0  ...         1.0        2.0        2.0   \n",
       "7          4.0       1.0       4.0  ...         3.0        2.0        3.0   \n",
       "8          2.0       2.0       2.0  ...         1.0        2.0        2.0   \n",
       "9          1.0       2.0       2.0  ...         2.0        4.0        4.0   \n",
       "10         1.0       1.0       2.0  ...         1.0        2.0        2.0   \n",
       "11         2.0       1.0       1.0  ...         1.0        4.0        4.0   \n",
       "12         1.0       1.0       1.0  ...         3.0        2.0        2.0   \n",
       "13         4.0       4.0       2.0  ...         1.0        4.0        4.0   \n",
       "14         1.0       1.0       1.0  ...         1.0        2.0        3.0   \n",
       "15         2.0       1.0       2.0  ...         5.0        2.0        3.0   \n",
       "16         1.0       1.0       1.0  ...         1.0        1.0        2.0   \n",
       "17         1.0       1.0       1.0  ...         2.0        2.0        2.0   \n",
       "18         2.0       3.0       2.0  ...         1.0        3.0        4.0   \n",
       "19         1.0       1.0       1.0  ...         5.0        2.0        1.0   \n",
       "20         4.0       4.0       4.0  ...         4.0        3.0        3.0   \n",
       "21         1.0       2.0       2.0  ...         1.0        2.0        2.0   \n",
       "22         1.0       1.0       1.0  ...         1.0        1.0        1.0   \n",
       "23         2.0       1.0       1.0  ...         1.0        1.0        2.0   \n",
       "24         2.0       2.0       2.0  ...         2.0        2.0        2.0   \n",
       "25         2.0       2.0       2.0  ...         2.0        2.0        1.0   \n",
       "26         1.0       2.0       5.0  ...         1.0        2.0        2.0   \n",
       "27         1.0       1.0       1.0  ...         1.0        2.0        2.0   \n",
       "28         1.0       1.0       1.0  ...         1.0        3.0        3.0   \n",
       "29         2.0       2.0       2.0  ...         1.0        3.0        3.0   \n",
       "...        ...       ...       ...  ...         ...        ...        ...   \n",
       "1646       1.0       1.0       1.0  ...         3.0        4.0        2.0   \n",
       "1647       3.0       4.0       4.0  ...         2.0        3.0        3.0   \n",
       "1648       2.0       2.0       2.0  ...         5.0        5.0        5.0   \n",
       "1649       1.0       1.0       3.0  ...         1.0        2.0        1.0   \n",
       "1650       2.0       2.0       1.0  ...         4.0        1.0        2.0   \n",
       "1651       1.0       2.0       1.0  ...         3.0        1.0        1.0   \n",
       "1652       2.0       3.0       2.0  ...         1.0        4.0        2.0   \n",
       "1653       1.0       2.0       3.0  ...         1.0        2.0        2.0   \n",
       "1654       1.0       2.0       2.0  ...         1.0        2.0        1.0   \n",
       "1655       3.0       2.0       2.0  ...         1.0        2.0        2.0   \n",
       "1656       4.0       4.0       3.0  ...         1.0        3.0        2.0   \n",
       "1657       1.0       1.0       1.0  ...         1.0        1.0        1.0   \n",
       "1658       3.0       4.0       4.0  ...         4.0        2.0        2.0   \n",
       "1659       2.0       1.0       2.0  ...         1.0        1.0        2.0   \n",
       "1660       1.0       2.0       5.0  ...         4.0        5.0        3.0   \n",
       "1661       2.0       3.0       3.0  ...         2.0        2.0        2.0   \n",
       "1662       2.0       2.0       2.0  ...         1.0        2.0        2.0   \n",
       "1663       3.0       3.0       5.0  ...         5.0        2.0        1.0   \n",
       "1664       3.0       3.0       5.0  ...         5.0        2.0        2.0   \n",
       "1665       4.0       4.0       4.0  ...         2.0        2.0        1.0   \n",
       "1666       1.0       2.0       2.0  ...         1.0        1.0        1.0   \n",
       "1667       3.0       3.0       3.0  ...         5.0        3.0        2.0   \n",
       "1668       4.0       4.0       5.0  ...         5.0        3.0        2.0   \n",
       "1669       2.0       2.0       3.0  ...         2.0        1.0        2.0   \n",
       "1670       2.0       2.0       2.0  ...         1.0        1.0        1.0   \n",
       "1671       2.0       2.0       2.0  ...         1.0        2.0        1.0   \n",
       "1672       5.0       5.0       5.0  ...         5.0        4.0        3.0   \n",
       "1673       4.0       4.0       4.0  ...         5.0        5.0        3.0   \n",
       "1674       2.0       2.0       2.0  ...         1.0        2.0        1.0   \n",
       "1675       3.0       3.0       3.0  ...         3.0        2.0        2.0   \n",
       "\n",
       "      h34_combo  h35_combo  h36_combo  h37_combo  t38_combo  t39_combo  Area  \n",
       "0           3.0        1.0        3.0        1.0        0.0        0.0   4.0  \n",
       "1           1.0        2.0        2.0        2.0        0.0        0.0   5.0  \n",
       "2           4.0        5.0        5.0        5.0        0.0        1.0  17.0  \n",
       "3           1.0        1.0        1.0        1.0        0.0        0.0  17.0  \n",
       "4           1.0        2.0        3.0        2.0        0.0        0.0   4.0  \n",
       "5           2.0        2.0        2.0        2.0        0.0        0.0  22.0  \n",
       "6           1.0        2.0        2.0        2.0        0.0        0.0   4.0  \n",
       "7           1.0        3.0        2.0        4.0        4.0        0.0  17.0  \n",
       "8           1.0        1.0        2.0        2.0        1.0        0.0   4.0  \n",
       "9           4.0        4.0        4.0        4.0        2.0        3.0   4.0  \n",
       "10          1.0        1.0        2.0        1.0        0.0        1.0   1.0  \n",
       "11          1.0        1.0        1.0        1.0        0.0        0.0  17.0  \n",
       "12          2.0        1.0        3.0        3.0        3.0        3.0  17.0  \n",
       "13          2.0        2.0        4.0        2.0        2.0        3.0   5.0  \n",
       "14          1.0        2.0        2.0        2.0        0.0        0.0   5.0  \n",
       "15          3.0        2.0        4.0        2.0        0.0        0.0   5.0  \n",
       "16          1.0        1.0        1.0        2.0        0.0        0.0   5.0  \n",
       "17          1.0        1.0        2.0        1.0        0.0        0.0   5.0  \n",
       "18          1.0        2.0        4.0        2.0        0.0        1.0   5.0  \n",
       "19          1.0        3.0        4.0        4.0        3.0        0.0   5.0  \n",
       "20          2.0        3.0        3.0        3.0        3.0        4.0   1.0  \n",
       "21          1.0        4.0        3.0        2.0        0.0        0.0   5.0  \n",
       "22          1.0        1.0        1.0        1.0        0.0        0.0  22.0  \n",
       "23          1.0        1.0        1.0        1.0        0.0        0.0  22.0  \n",
       "24          1.0        1.0        1.0        1.0        0.0        0.0  11.0  \n",
       "25          1.0        2.0        2.0        1.0        1.0        0.0   1.0  \n",
       "26          1.0        1.0        1.0        1.0        0.0        0.0  22.0  \n",
       "27          1.0        1.0        2.0        1.0        0.0        0.0   1.0  \n",
       "28          2.0        2.0        2.0        2.0        0.0        2.0  17.0  \n",
       "29          3.0        1.0        3.0        4.0        3.0        0.0   1.0  \n",
       "...         ...        ...        ...        ...        ...        ...   ...  \n",
       "1646        1.0        2.0        4.0        2.0        0.0        0.0  22.0  \n",
       "1647        1.0        1.0        1.0        1.0        1.0        1.0   1.0  \n",
       "1648        2.0        2.0        4.0        1.0        2.0        0.0  11.0  \n",
       "1649        1.0        1.0        1.0        2.0        0.0        0.0  11.0  \n",
       "1650        1.0        2.0        3.0        2.0        1.0        2.0  11.0  \n",
       "1651        1.0        1.0        1.0        1.0        0.0        0.0  22.0  \n",
       "1652        2.0        1.0        2.0        1.0        1.0        1.0   2.0  \n",
       "1653        1.0        2.0        2.0        2.0        0.0        0.0  14.0  \n",
       "1654        1.0        2.0        2.0        2.0        2.0        0.0  17.0  \n",
       "1655        1.0        1.0        1.0        1.0        1.0        1.0   2.0  \n",
       "1656        1.0        2.0        2.0        1.0        1.0        0.0   2.0  \n",
       "1657        1.0        1.0        1.0        1.0        0.0        0.0  15.0  \n",
       "1658        1.0        2.0        1.0        1.0        0.0        2.0   3.0  \n",
       "1659        1.0        1.0        2.0        1.0        0.0        1.0   5.0  \n",
       "1660        1.0        3.0        2.0        2.0        4.0        2.0  11.0  \n",
       "1661        1.0        1.0        2.0        1.0        0.0        0.0  17.0  \n",
       "1662        1.0        1.0        1.0        1.0        1.0        0.0   2.0  \n",
       "1663        1.0        1.0        1.0        1.0        0.0        0.0   2.0  \n",
       "1664        1.0        1.0        1.0        1.0        0.0        0.0   2.0  \n",
       "1665        1.0        1.0        1.0        1.0        1.0        1.0   3.0  \n",
       "1666        1.0        1.0        2.0        2.0        0.0        1.0  22.0  \n",
       "1667        1.0        1.0        1.0        1.0        0.0        0.0   2.0  \n",
       "1668        1.0        1.0        2.0        1.0        0.0        0.0   2.0  \n",
       "1669        2.0        1.0        4.0        2.0        3.0        0.0  18.0  \n",
       "1670        1.0        1.0        1.0        1.0        0.0        0.0   2.0  \n",
       "1671        1.0        1.0        1.0        1.0        0.0        0.0   2.0  \n",
       "1672        1.0        1.0        2.0        1.0        0.0        0.0   2.0  \n",
       "1673        1.0        1.0        3.0        2.0        0.0        0.0   2.0  \n",
       "1674        1.0        1.0        1.0        1.0        0.0        0.0   1.0  \n",
       "1675        1.0        1.0        2.0        2.0        0.0        0.0  15.0  \n",
       "\n",
       "[1676 rows x 41 columns]>"
      ]
     },
     "execution_count": 6,
     "metadata": {},
     "output_type": "execute_result"
    }
   ],
   "source": [
    "R1.head"
   ]
  },
  {
   "cell_type": "code",
   "execution_count": 7,
   "metadata": {},
   "outputs": [],
   "source": [
    "df = pd.read_csv('Intersection_Y1R1R2_0702R2_0702.csv')\n",
    "R2 = df.loc[:, 'UniqueID':'t39_combo']\n",
    "R2['Area'] = df['GRYD_Zone']"
   ]
  },
  {
   "cell_type": "markdown",
   "metadata": {},
   "source": [
    "### Drop IDs with Nan values"
   ]
  },
  {
   "cell_type": "code",
   "execution_count": 9,
   "metadata": {},
   "outputs": [
    {
     "data": {
      "text/plain": [
       "32"
      ]
     },
     "execution_count": 9,
     "metadata": {},
     "output_type": "execute_result"
    }
   ],
   "source": [
    "index_list = []\n",
    "index_list.extend(Y1[Y1['Area'].isnull()].index.tolist())\n",
    "\n",
    "#make this list unique\n",
    "my_set = set(index_list)\n",
    "unique_index_list = list(my_set)\n",
    "unique_index_list"
   ]
  },
  {
   "cell_type": "code",
   "execution_count": 10,
   "metadata": {},
   "outputs": [
    {
     "data": {
      "text/plain": [
       "[22357.0,\n",
       " 22369.0,\n",
       " 22380.0,\n",
       " 22395.0,\n",
       " 22407.0,\n",
       " 22412.0,\n",
       " 22418.0,\n",
       " 22419.0,\n",
       " 22421.0,\n",
       " 22422.0,\n",
       " 22423.0,\n",
       " 22474.0,\n",
       " 4439.0,\n",
       " 22478.0,\n",
       " 22479.0,\n",
       " 22494.0,\n",
       " 22507.0,\n",
       " 22519.0,\n",
       " 22520.0,\n",
       " 22521.0,\n",
       " 22571.0,\n",
       " 4669.0,\n",
       " 4684.0,\n",
       " 22573.0,\n",
       " 22577.0,\n",
       " 4774.0,\n",
       " 4916.0,\n",
       " 4956.0,\n",
       " 4995.0,\n",
       " 5001.0,\n",
       " 5231.0,\n",
       " 5957.0]"
      ]
     },
     "execution_count": 10,
     "metadata": {},
     "output_type": "execute_result"
    }
   ],
   "source": [
    "#make list of UniqueIDs associated with these NaN values\n",
    "ID_list = []\n",
    "for i in unique_index_list:\n",
    "    ID_list.append(Y1.loc[i,'UniqueID'])\n",
    "ID_list"
   ]
  },
  {
   "cell_type": "code",
   "execution_count": 11,
   "metadata": {},
   "outputs": [],
   "source": [
    "#drop these IDs from the data\n",
    "for id in ID_list:\n",
    "    Y1 = Y1[Y1['UniqueID']!=id]"
   ]
  },
  {
   "cell_type": "code",
   "execution_count": 12,
   "metadata": {},
   "outputs": [],
   "source": [
    "#drop these IDs from the data\n",
    "for id in ID_list:\n",
    "    R1 = R1[R1['UniqueID']!=id]"
   ]
  },
  {
   "cell_type": "code",
   "execution_count": 13,
   "metadata": {},
   "outputs": [],
   "source": [
    "#drop these IDs from the data\n",
    "for id in ID_list:\n",
    "    R2 = R2[R2['UniqueID']!=id]"
   ]
  },
  {
   "cell_type": "markdown",
   "metadata": {},
   "source": [
    "## Add area control indicator in the input matrix"
   ]
  },
  {
   "cell_type": "code",
   "execution_count": null,
   "metadata": {},
   "outputs": [],
   "source": [
    "Y1['Gender1'] = 0\n",
    "Y1['Gender2'] = 0\n",
    "for i in Y1.index:\n",
    "    if Y1.loc[i,'Gender'] == 1:\n",
    "        Y1.set_value(i,'Gender1',1) \n",
    "        Y1.set_value(i,'Gender2',0) \n",
    "    else:\n",
    "        Y1.set_value(i,'Gender1',0) \n",
    "        Y1.set_value(i,'Gender2',1) "
   ]
  },
  {
   "cell_type": "code",
   "execution_count": null,
   "metadata": {},
   "outputs": [],
   "source": [
    "R1['Gender1'] = 0\n",
    "R1['Gender2'] = 0\n",
    "for i in R1.index:\n",
    "    if R1.loc[i,'Gender'] == 1:\n",
    "        R1.set_value(i,'Gender1',1) \n",
    "        R1.set_value(i,'Gender2',0) \n",
    "    else:\n",
    "        R1.set_value(i,'Gender1',0) \n",
    "        R1.set_value(i,'Gender2',1) "
   ]
  },
  {
   "cell_type": "code",
   "execution_count": null,
   "metadata": {},
   "outputs": [],
   "source": [
    "R2['Gender1'] = 0\n",
    "R2['Gender2'] = 0\n",
    "for i in R2.index:\n",
    "    if R2.loc[i,'Gender'] == 1:\n",
    "        R2.set_value(i,'Gender1',1) \n",
    "        R2.set_value(i,'Gender2',0) \n",
    "    else:\n",
    "        R2.set_value(i,'Gender1',0) \n",
    "        R2.set_value(i,'Gender2',1) "
   ]
  },
  {
   "cell_type": "code",
   "execution_count": null,
   "metadata": {},
   "outputs": [],
   "source": [
    "R2.head()"
   ]
  },
  {
   "cell_type": "code",
   "execution_count": null,
   "metadata": {},
   "outputs": [],
   "source": [
    "Y1 = Y1.drop('UniqueID',axis = 1)\n",
    "Y1 = Y1.drop('Gender',axis = 1)"
   ]
  },
  {
   "cell_type": "code",
   "execution_count": null,
   "metadata": {},
   "outputs": [],
   "source": [
    "Y1 = Y1.transpose()\n",
    "Y1.shape"
   ]
  },
  {
   "cell_type": "code",
   "execution_count": null,
   "metadata": {},
   "outputs": [],
   "source": [
    "R1 = R1.drop('UniqueID',axis = 1)\n",
    "R1 = R1.drop('Gender',axis = 1)\n",
    "R1 = R1.transpose()"
   ]
  },
  {
   "cell_type": "code",
   "execution_count": null,
   "metadata": {},
   "outputs": [],
   "source": [
    "R2 = R2.drop('UniqueID',axis = 1)\n",
    "R2 = R2.drop('Gender',axis = 1)\n",
    "R2 = R2.transpose()"
   ]
  },
  {
   "cell_type": "markdown",
   "metadata": {},
   "source": [
    "## Standardize all responses to (0,1)"
   ]
  },
  {
   "cell_type": "code",
   "execution_count": null,
   "metadata": {},
   "outputs": [],
   "source": [
    "for i in range(1634):\n",
    "    Y1.iloc[37,i]=Y1.iloc[37,i]+1\n",
    "    Y1.iloc[38,i]=Y1.iloc[38,i]+1\n",
    "    R1.iloc[37,i]=R1.iloc[37,i]+1\n",
    "    R1.iloc[38,i]=R1.iloc[38,i]+1\n",
    "    R2.iloc[37,i]=R2.iloc[37,i]+1\n",
    "    R2.iloc[38,i]=R2.iloc[38,i]+1"
   ]
  },
  {
   "cell_type": "code",
   "execution_count": null,
   "metadata": {},
   "outputs": [],
   "source": [
    "newlist=[]\n",
    "for i in range(9):\n",
    "    newlist.append(i)\n",
    "for i in range(16,39):\n",
    "    newlist.append(i)"
   ]
  },
  {
   "cell_type": "code",
   "execution_count": null,
   "metadata": {},
   "outputs": [],
   "source": [
    "for i in newlist:\n",
    "    for j in range (1634):\n",
    "        Y1.iloc[i,j]=(Y1.iloc[i,j]-1)/4\n",
    "        R1.iloc[i,j]=(R1.iloc[i,j]-1)/4\n",
    "        R2.iloc[i,j]=(R2.iloc[i,j]-1)/4"
   ]
  },
  {
   "cell_type": "code",
   "execution_count": null,
   "metadata": {},
   "outputs": [],
   "source": [
    "Y1_r = Y1[0:39]"
   ]
  },
  {
   "cell_type": "code",
   "execution_count": null,
   "metadata": {},
   "outputs": [],
   "source": [
    "R1_r = R1[0:39]"
   ]
  },
  {
   "cell_type": "code",
   "execution_count": null,
   "metadata": {},
   "outputs": [],
   "source": [
    "R2_r = R2[0:39]"
   ]
  },
  {
   "cell_type": "code",
   "execution_count": null,
   "metadata": {},
   "outputs": [],
   "source": [
    "Y1.shape"
   ]
  },
  {
   "cell_type": "code",
   "execution_count": null,
   "metadata": {},
   "outputs": [],
   "source": [
    "R1.shape"
   ]
  },
  {
   "cell_type": "code",
   "execution_count": null,
   "metadata": {},
   "outputs": [],
   "source": [
    "R2.shape"
   ]
  },
  {
   "cell_type": "code",
   "execution_count": null,
   "metadata": {},
   "outputs": [],
   "source": [
    "Y1.head()"
   ]
  },
  {
   "cell_type": "markdown",
   "metadata": {},
   "source": [
    "## DMDc for Gender"
   ]
  },
  {
   "cell_type": "markdown",
   "metadata": {},
   "source": [
    "### Y1 to R1"
   ]
  },
  {
   "cell_type": "code",
   "execution_count": null,
   "metadata": {},
   "outputs": [],
   "source": [
    "#Define the dimension parameters for later code\n",
    "\n",
    "XwC = 41\n",
    "X = 39\n",
    "C = 2"
   ]
  },
  {
   "cell_type": "code",
   "execution_count": null,
   "metadata": {},
   "outputs": [],
   "source": [
    "#SVD for the Omega matrices(Combination of the original X-input matrix and control factors)\n",
    "\n",
    "U_Y1,Sig_Y1,V_Y1=np.linalg.svd(Y1, full_matrices=False)    \n",
    "V_Y1_T=V_Y1.conjugate().transpose()\n",
    "Sig_inv_Y1=np.zeros((XwC, XwC))\n",
    "for i in range(XwC):\n",
    "    for j in range(XwC):\n",
    "        if i==j:\n",
    "            Sig_inv_Y1[i][j]=1/Sig_Y1[i]"
   ]
  },
  {
   "cell_type": "code",
   "execution_count": null,
   "metadata": {},
   "outputs": [],
   "source": [
    "#Splitting U matrixes to one include only information of responses and another one with control factors\n",
    "\n",
    "U_Y1_Q = U_Y1[:X,:]\n",
    "U_Y1_Q_T = U_Y1_Q.conjugate().transpose()\n",
    "U_Y1_G = U_Y1[X:XwC,:]\n",
    "U_Y1_G_T = U_Y1_G.conjugate().transpose()"
   ]
  },
  {
   "cell_type": "code",
   "execution_count": null,
   "metadata": {},
   "outputs": [],
   "source": [
    "#SVD for the X' matrix(the next time input matrix of only questions)\n",
    "\n",
    "U_R1_r,Sig_R1_r,V_R1_r=np.linalg.svd(R1_r, full_matrices=False)\n",
    "U_R1_r_T = U_R1_r.conjugate().transpose()\n",
    "V_R1_r_T=V_R1_r.conjugate().transpose()\n",
    "Sig_inv_R1_r=np.zeros((X, X))\n",
    "for i in range(X):\n",
    "    for j in range(X):\n",
    "        if i==j:\n",
    "            Sig_inv_R1_r[i][j]=1/Sig_R1_r[i]"
   ]
  },
  {
   "cell_type": "code",
   "execution_count": null,
   "metadata": {},
   "outputs": [],
   "source": [
    "U_Y1_Q.shape"
   ]
  },
  {
   "cell_type": "code",
   "execution_count": null,
   "metadata": {},
   "outputs": [],
   "source": [
    "#Calculate the transformation A matrix (dimension X*X)\n",
    "\n",
    "A_step1=np.dot(U_R1_r_T,R1_r)\n",
    "A_step2=np.dot(A_step1,V_Y1_T)\n",
    "A_step3=np.dot(A_step2,Sig_inv_Y1)\n",
    "A_step4=np.dot(A_step3,U_Y1_Q_T)\n",
    "A_Y1_R1 = np.dot(A_step4,U_R1_r)\n",
    "A_Y1_R1"
   ]
  },
  {
   "cell_type": "code",
   "execution_count": null,
   "metadata": {},
   "outputs": [],
   "source": [
    "#Calculate the transformation B matrix\n",
    "\n",
    "B_Y1_R1=np.dot(A_step3,U_Y1_G_T)\n",
    "B_Y1_R1.shape"
   ]
  },
  {
   "cell_type": "code",
   "execution_count": null,
   "metadata": {},
   "outputs": [],
   "source": [
    "B_Y1_R1"
   ]
  },
  {
   "cell_type": "code",
   "execution_count": null,
   "metadata": {},
   "outputs": [],
   "source": [
    "values_Y1, vectors_Y1 = np.linalg.eig(A_Y1_R1)"
   ]
  },
  {
   "cell_type": "code",
   "execution_count": null,
   "metadata": {},
   "outputs": [],
   "source": [
    "values_Y1"
   ]
  },
  {
   "cell_type": "code",
   "execution_count": null,
   "metadata": {},
   "outputs": [],
   "source": [
    "eiglog_Y1 = np.log(values_Y1)"
   ]
  },
  {
   "cell_type": "code",
   "execution_count": null,
   "metadata": {},
   "outputs": [],
   "source": [
    "lamphi_Y1=np.zeros(39)\n",
    "for i in range (39):\n",
    "    rep=vectors_Y1[i]\n",
    "    norm=np.linalg.norm(rep)\n",
    "    val=np.absolute(values_Y1[i])*norm\n",
    "    lamphi_Y1[i]=val"
   ]
  },
  {
   "cell_type": "markdown",
   "metadata": {},
   "source": [
    "### R1 to R2"
   ]
  },
  {
   "cell_type": "code",
   "execution_count": null,
   "metadata": {},
   "outputs": [],
   "source": [
    "#SVD for the Omega matrices(Combination of the original X-input matrix and control factors)\n",
    "\n",
    "U_R1,Sig_R1,V_R1=np.linalg.svd(R1, full_matrices=False)    \n",
    "V_R1_T=V_R1.conjugate().transpose()\n",
    "Sig_inv_R1=np.zeros((XwC, XwC))\n",
    "for i in range(XwC):\n",
    "    for j in range(XwC):\n",
    "        if i==j:\n",
    "            Sig_inv_R1[i][j]=1/Sig_R1[i]"
   ]
  },
  {
   "cell_type": "code",
   "execution_count": null,
   "metadata": {},
   "outputs": [],
   "source": [
    "#Splitting U matrixes to one include only information of responses and another one with control factors\n",
    "\n",
    "U_R1_Q = U_R1[:X,:]\n",
    "U_R1_Q_T = U_R1_Q.conjugate().transpose()\n",
    "U_R1_G = U_R1[X:XwC,:]\n",
    "U_R1_G_T = U_R1_G.conjugate().transpose()"
   ]
  },
  {
   "cell_type": "code",
   "execution_count": null,
   "metadata": {},
   "outputs": [],
   "source": [
    "#SVD for the X' matrix(the next time input matrix of only questions)\n",
    "\n",
    "U_R2_r,Sig_R2_r,V_R2_r=np.linalg.svd(R2_r, full_matrices=False)\n",
    "U_R2_r_T = U_R2_r.conjugate().transpose()\n",
    "V_R2_r_T=V_R2_r.conjugate().transpose()\n",
    "Sig_inv_R2_r=np.zeros((X, X))\n",
    "for i in range(X):\n",
    "    for j in range(X):\n",
    "        if i==j:\n",
    "            Sig_inv_R2_r[i][j]=1/Sig_R2_r[i]"
   ]
  },
  {
   "cell_type": "code",
   "execution_count": null,
   "metadata": {},
   "outputs": [],
   "source": [
    "#Calculate the transformation A matrix (dimension X*X)\n",
    "\n",
    "A_step1=np.dot(U_R2_r_T,R2_r)\n",
    "A_step2=np.dot(A_step1,V_R1_T)\n",
    "A_step3=np.dot(A_step2,Sig_inv_R1)\n",
    "A_step4=np.dot(A_step3,U_R1_Q_T)\n",
    "A_R1_R2 = np.dot(A_step4,U_R2_r)\n",
    "A_R1_R2.shape"
   ]
  },
  {
   "cell_type": "code",
   "execution_count": null,
   "metadata": {},
   "outputs": [],
   "source": [
    "#Calculate the transformation B matrix\n",
    "\n",
    "B_R1_R2=np.dot(A_step3,U_R1_G_T)\n",
    "B_R1_R2.shape"
   ]
  },
  {
   "cell_type": "code",
   "execution_count": null,
   "metadata": {},
   "outputs": [],
   "source": [
    "values_R1, vectors_R1 = np.linalg.eig(A_R1_R2)"
   ]
  },
  {
   "cell_type": "code",
   "execution_count": null,
   "metadata": {},
   "outputs": [],
   "source": [
    "eiglog_R1 = np.log(values_R1)"
   ]
  },
  {
   "cell_type": "code",
   "execution_count": null,
   "metadata": {},
   "outputs": [],
   "source": [
    "lamphi_R1=np.zeros(39)\n",
    "for i in range (39):\n",
    "    rep=vectors_R1[i]\n",
    "    norm=np.linalg.norm(rep)\n",
    "    val=np.absolute(values_R1[i])*norm\n",
    "    lamphi_R1[i]=val"
   ]
  },
  {
   "cell_type": "markdown",
   "metadata": {},
   "source": [
    "## Graphs"
   ]
  },
  {
   "cell_type": "code",
   "execution_count": null,
   "metadata": {},
   "outputs": [],
   "source": [
    "label=['a1', 'a2',\n",
    "       'a3', 'a4', 'a5', 'a6', 'b7', 'b8',\n",
    "       'b9', 'c10', 'c11', 'c12', 'c13',\n",
    "       'c14', 'c15', 'c16', 'de17', 'de18',\n",
    "       'de19', 'de20', 'f21', 'f22', 'f23o',\n",
    "       'f24', 'f25', 'f26', 'g27', 'g28',\n",
    "       'g29', 'g30', 'g31', 'h32', 'h33',\n",
    "       'h34', 'h35', 'h36', 'h37', 't38',\n",
    "       't39']"
   ]
  },
  {
   "cell_type": "markdown",
   "metadata": {},
   "source": [
    "### Y1 to R1"
   ]
  },
  {
   "cell_type": "code",
   "execution_count": null,
   "metadata": {},
   "outputs": [],
   "source": [
    "plt.scatter(eiglog_Y1.real,eiglog_Y1.imag)\n",
    "plt.title('Intake to Retest 1(log of eigenvalues)') \n",
    "plt.xlabel('Real(Growth)')\n",
    "plt.ylabel('Imaginary(Frequency)')\n",
    "plt.show()"
   ]
  },
  {
   "cell_type": "code",
   "execution_count": null,
   "metadata": {},
   "outputs": [],
   "source": [
    "#plot real and imaginary parts of the eigenvalues\n",
    "plt.scatter(values_Y1.real,values_Y1.imag)\n",
    "plt.title('Intake to Retest 1(eigenvalues)') \n",
    "plt.xlabel('Real(Growth)')\n",
    "plt.ylabel('Imaginary(Frequency)')\n",
    "plt.show()"
   ]
  },
  {
   "cell_type": "code",
   "execution_count": null,
   "metadata": {},
   "outputs": [],
   "source": [
    "#plot of real part of log(eigenvalue) vs lambda*eigenvector\n",
    "plt.scatter(eiglog_Y1.real,lamphi_Y1)\n",
    "plt.title('Intake to Retest 1') \n",
    "plt.xlabel('Growth')\n",
    "plt.ylabel(u'\\u03BB' ' |' u'\\u03C6''|')\n",
    "plt.show()"
   ]
  },
  {
   "cell_type": "code",
   "execution_count": null,
   "metadata": {},
   "outputs": [],
   "source": [
    "#plot of imaginary part of log(eigenvalue) vs lambda*eigenvector\n",
    "plt.scatter(eiglog_Y1.imag,lamphi_Y1)\n",
    "plt.title('Intake to Retest 1') \n",
    "plt.xlabel('Frequency')\n",
    "plt.ylabel(u'\\u03BB' ' |' u'\\u03C6''|')\n",
    "plt.show()"
   ]
  },
  {
   "cell_type": "code",
   "execution_count": null,
   "metadata": {},
   "outputs": [],
   "source": [
    "index=np.zeros(39)\n",
    "weiabs=np.zeros(39)\n",
    "for i in range (39):\n",
    "    index[i]=i\n",
    "for j in range (39):\n",
    "    weiabs[j]=vectors_Y1[j,0].real\n",
    "plt.title('Y1:R1 Dominant Eigenvector Entries') \n",
    "plt.xticks(np.arange(min(index), max(index)+1, 1.0), label, rotation='vertical')\n",
    "plt.bar(index,weiabs)\n",
    "plt.show()"
   ]
  },
  {
   "cell_type": "markdown",
   "metadata": {},
   "source": [
    "### R1 to R2"
   ]
  },
  {
   "cell_type": "code",
   "execution_count": null,
   "metadata": {},
   "outputs": [],
   "source": [
    "plt.scatter(eiglog_R1.real,eiglog_R1.imag)\n",
    "plt.title('Retest 1 to Retest 2(log of eigenvalues)') \n",
    "plt.xlabel('Real(Growth)')\n",
    "plt.ylabel('Imaginary(Frequency)')\n",
    "plt.show()"
   ]
  },
  {
   "cell_type": "code",
   "execution_count": null,
   "metadata": {},
   "outputs": [],
   "source": [
    "#plot of real part of log(eigenvalue) vs lambda*eigenvector\n",
    "plt.scatter(eiglog_R1.real,lamphi_R1)\n",
    "plt.title('Retest 1 to Retest 2') \n",
    "plt.xlabel('Growth')\n",
    "plt.ylabel(u'\\u03BB' ' |' u'\\u03C6''|')\n",
    "plt.show()"
   ]
  },
  {
   "cell_type": "code",
   "execution_count": null,
   "metadata": {},
   "outputs": [],
   "source": [
    "#plot of imaginary part of log(eigenvalue) vs lambda*eigenvector\n",
    "plt.scatter(eiglog_R1.imag,lamphi_R1)\n",
    "plt.title('Retest 1 to Retest 2') \n",
    "plt.xlabel('Frequency')\n",
    "plt.ylabel(u'\\u03BB' ' |' u'\\u03C6''|')\n",
    "plt.show()"
   ]
  },
  {
   "cell_type": "code",
   "execution_count": null,
   "metadata": {},
   "outputs": [],
   "source": [
    "index=np.zeros(39)\n",
    "weiabs=np.zeros(39)\n",
    "for i in range (39):\n",
    "    index[i]=i\n",
    "for j in range (39):\n",
    "    weiabs[j]=vectors_R1[j,0].real\n",
    "plt.title('R1:R2 Dominant Eigenvector Entries') \n",
    "plt.xticks(np.arange(min(index), max(index)+1, 1.0), label, rotation='vertical')\n",
    "plt.bar(index,weiabs)\n",
    "plt.show()"
   ]
  }
 ],
 "metadata": {
  "kernelspec": {
   "display_name": "Python 3",
   "language": "python",
   "name": "python3"
  },
  "language_info": {
   "codemirror_mode": {
    "name": "ipython",
    "version": 3
   },
   "file_extension": ".py",
   "mimetype": "text/x-python",
   "name": "python",
   "nbconvert_exporter": "python",
   "pygments_lexer": "ipython3",
   "version": "3.6.5"
  }
 },
 "nbformat": 4,
 "nbformat_minor": 2
}
