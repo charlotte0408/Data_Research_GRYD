{
 "cells": [
  {
   "cell_type": "markdown",
   "metadata": {},
   "source": [
    "## Data Import and Matrix Split"
   ]
  },
  {
   "cell_type": "code",
   "execution_count": 1,
   "metadata": {},
   "outputs": [],
   "source": [
    "import numpy as np\n",
    "import pandas as pd\n",
    "import matplotlib.pyplot as plt\n",
    "import warnings\n",
    "import matplotlib.pyplot as plt\n",
    "warnings.filterwarnings('ignore')"
   ]
  },
  {
   "cell_type": "markdown",
   "metadata": {},
   "source": [
    "### Fill in gender in R1 and R2 matrix"
   ]
  },
  {
   "cell_type": "code",
   "execution_count": 2,
   "metadata": {},
   "outputs": [],
   "source": [
    "df = pd.read_csv('Intersection_Y1R1R2_0702Y1_R1_R2_on_0702clean_data.csv')"
   ]
  },
  {
   "cell_type": "code",
   "execution_count": 3,
   "metadata": {},
   "outputs": [],
   "source": [
    "df = pd.read_csv('Intersection_Y1R1R2_0702Y1_0702.csv')\n",
    "Y1 = df.loc[:, 'UniqueID':'t39_combo']\n",
    "Y1['Gender'] = df['Gender']"
   ]
  },
  {
   "cell_type": "code",
   "execution_count": 4,
   "metadata": {},
   "outputs": [
    {
     "data": {
      "text/html": [
       "<div>\n",
       "<style scoped>\n",
       "    .dataframe tbody tr th:only-of-type {\n",
       "        vertical-align: middle;\n",
       "    }\n",
       "\n",
       "    .dataframe tbody tr th {\n",
       "        vertical-align: top;\n",
       "    }\n",
       "\n",
       "    .dataframe thead th {\n",
       "        text-align: right;\n",
       "    }\n",
       "</style>\n",
       "<table border=\"1\" class=\"dataframe\">\n",
       "  <thead>\n",
       "    <tr style=\"text-align: right;\">\n",
       "      <th></th>\n",
       "      <th>Unnamed: 0</th>\n",
       "      <th>Unnamed: 0.1</th>\n",
       "      <th>UniqueID</th>\n",
       "      <th>a1_combo</th>\n",
       "      <th>a2_combo</th>\n",
       "      <th>a3_combo</th>\n",
       "      <th>a4_combo</th>\n",
       "      <th>a5_combo</th>\n",
       "      <th>a6_combo</th>\n",
       "      <th>b7_combo</th>\n",
       "      <th>...</th>\n",
       "      <th>Age</th>\n",
       "      <th>Date</th>\n",
       "      <th>Gender</th>\n",
       "      <th>GRYD_Zone</th>\n",
       "      <th>Ethnicity_Asian</th>\n",
       "      <th>Ethnicity_Black</th>\n",
       "      <th>Ethnicity_Latino</th>\n",
       "      <th>Ethnicity_White</th>\n",
       "      <th>Ethnicity_Other</th>\n",
       "      <th>RiskFactor</th>\n",
       "    </tr>\n",
       "  </thead>\n",
       "  <tbody>\n",
       "    <tr>\n",
       "      <th>0</th>\n",
       "      <td>0</td>\n",
       "      <td>851</td>\n",
       "      <td>3538.0</td>\n",
       "      <td>3.0</td>\n",
       "      <td>3.0</td>\n",
       "      <td>4.0</td>\n",
       "      <td>4.0</td>\n",
       "      <td>3.0</td>\n",
       "      <td>2.0</td>\n",
       "      <td>3.0</td>\n",
       "      <td>...</td>\n",
       "      <td>13.0</td>\n",
       "      <td>2009-11-12</td>\n",
       "      <td>1.0</td>\n",
       "      <td>4.0</td>\n",
       "      <td>0.0</td>\n",
       "      <td>0.0</td>\n",
       "      <td>1.0</td>\n",
       "      <td>0.0</td>\n",
       "      <td>0.0</td>\n",
       "      <td>7.0</td>\n",
       "    </tr>\n",
       "    <tr>\n",
       "      <th>1</th>\n",
       "      <td>3</td>\n",
       "      <td>869</td>\n",
       "      <td>3552.0</td>\n",
       "      <td>3.0</td>\n",
       "      <td>4.0</td>\n",
       "      <td>4.0</td>\n",
       "      <td>3.0</td>\n",
       "      <td>4.0</td>\n",
       "      <td>2.0</td>\n",
       "      <td>4.0</td>\n",
       "      <td>...</td>\n",
       "      <td>14.0</td>\n",
       "      <td>2009-11-16</td>\n",
       "      <td>2.0</td>\n",
       "      <td>5.0</td>\n",
       "      <td>0.0</td>\n",
       "      <td>0.0</td>\n",
       "      <td>1.0</td>\n",
       "      <td>0.0</td>\n",
       "      <td>0.0</td>\n",
       "      <td>7.0</td>\n",
       "    </tr>\n",
       "    <tr>\n",
       "      <th>2</th>\n",
       "      <td>6</td>\n",
       "      <td>892</td>\n",
       "      <td>3569.0</td>\n",
       "      <td>3.0</td>\n",
       "      <td>5.0</td>\n",
       "      <td>4.0</td>\n",
       "      <td>1.0</td>\n",
       "      <td>4.0</td>\n",
       "      <td>2.0</td>\n",
       "      <td>5.0</td>\n",
       "      <td>...</td>\n",
       "      <td>13.0</td>\n",
       "      <td>2009-11-17</td>\n",
       "      <td>1.0</td>\n",
       "      <td>17.0</td>\n",
       "      <td>0.0</td>\n",
       "      <td>0.0</td>\n",
       "      <td>1.0</td>\n",
       "      <td>0.0</td>\n",
       "      <td>0.0</td>\n",
       "      <td>7.0</td>\n",
       "    </tr>\n",
       "    <tr>\n",
       "      <th>3</th>\n",
       "      <td>9</td>\n",
       "      <td>895</td>\n",
       "      <td>3570.0</td>\n",
       "      <td>3.0</td>\n",
       "      <td>4.0</td>\n",
       "      <td>2.0</td>\n",
       "      <td>3.0</td>\n",
       "      <td>4.0</td>\n",
       "      <td>3.0</td>\n",
       "      <td>3.0</td>\n",
       "      <td>...</td>\n",
       "      <td>10.0</td>\n",
       "      <td>2009-11-18</td>\n",
       "      <td>1.0</td>\n",
       "      <td>17.0</td>\n",
       "      <td>1.0</td>\n",
       "      <td>0.0</td>\n",
       "      <td>0.0</td>\n",
       "      <td>0.0</td>\n",
       "      <td>0.0</td>\n",
       "      <td>5.0</td>\n",
       "    </tr>\n",
       "    <tr>\n",
       "      <th>4</th>\n",
       "      <td>12</td>\n",
       "      <td>919</td>\n",
       "      <td>3586.0</td>\n",
       "      <td>4.0</td>\n",
       "      <td>4.0</td>\n",
       "      <td>5.0</td>\n",
       "      <td>5.0</td>\n",
       "      <td>4.0</td>\n",
       "      <td>1.0</td>\n",
       "      <td>3.0</td>\n",
       "      <td>...</td>\n",
       "      <td>11.0</td>\n",
       "      <td>2009-11-19</td>\n",
       "      <td>2.0</td>\n",
       "      <td>4.0</td>\n",
       "      <td>0.0</td>\n",
       "      <td>0.0</td>\n",
       "      <td>1.0</td>\n",
       "      <td>0.0</td>\n",
       "      <td>0.0</td>\n",
       "      <td>7.0</td>\n",
       "    </tr>\n",
       "  </tbody>\n",
       "</table>\n",
       "<p>5 rows × 90 columns</p>\n",
       "</div>"
      ],
      "text/plain": [
       "   Unnamed: 0  Unnamed: 0.1  UniqueID  a1_combo  a2_combo  a3_combo  a4_combo  \\\n",
       "0           0           851    3538.0       3.0       3.0       4.0       4.0   \n",
       "1           3           869    3552.0       3.0       4.0       4.0       3.0   \n",
       "2           6           892    3569.0       3.0       5.0       4.0       1.0   \n",
       "3           9           895    3570.0       3.0       4.0       2.0       3.0   \n",
       "4          12           919    3586.0       4.0       4.0       5.0       5.0   \n",
       "\n",
       "   a5_combo  a6_combo  b7_combo     ...       Age        Date  Gender  \\\n",
       "0       3.0       2.0       3.0     ...      13.0  2009-11-12     1.0   \n",
       "1       4.0       2.0       4.0     ...      14.0  2009-11-16     2.0   \n",
       "2       4.0       2.0       5.0     ...      13.0  2009-11-17     1.0   \n",
       "3       4.0       3.0       3.0     ...      10.0  2009-11-18     1.0   \n",
       "4       4.0       1.0       3.0     ...      11.0  2009-11-19     2.0   \n",
       "\n",
       "   GRYD_Zone  Ethnicity_Asian  Ethnicity_Black  Ethnicity_Latino  \\\n",
       "0        4.0              0.0              0.0               1.0   \n",
       "1        5.0              0.0              0.0               1.0   \n",
       "2       17.0              0.0              0.0               1.0   \n",
       "3       17.0              1.0              0.0               0.0   \n",
       "4        4.0              0.0              0.0               1.0   \n",
       "\n",
       "   Ethnicity_White  Ethnicity_Other  RiskFactor  \n",
       "0              0.0              0.0         7.0  \n",
       "1              0.0              0.0         7.0  \n",
       "2              0.0              0.0         7.0  \n",
       "3              0.0              0.0         5.0  \n",
       "4              0.0              0.0         7.0  \n",
       "\n",
       "[5 rows x 90 columns]"
      ]
     },
     "execution_count": 4,
     "metadata": {},
     "output_type": "execute_result"
    }
   ],
   "source": [
    "df.head()"
   ]
  },
  {
   "cell_type": "code",
   "execution_count": 5,
   "metadata": {},
   "outputs": [],
   "source": [
    "df = pd.read_csv('Intersection_Y1R1R2_0702R1_0702.csv')\n",
    "R1 = df.loc[:, 'UniqueID':'t39_combo']\n",
    "R1['Gender'] = df['Gender']"
   ]
  },
  {
   "cell_type": "code",
   "execution_count": 6,
   "metadata": {},
   "outputs": [],
   "source": [
    "df = pd.read_csv('Intersection_Y1R1R2_0702R2_0702.csv')\n",
    "R2 = df.loc[:, 'UniqueID':'t39_combo']\n",
    "R2['Gender'] = df['Gender']"
   ]
  },
  {
   "cell_type": "code",
   "execution_count": 7,
   "metadata": {},
   "outputs": [],
   "source": [
    "# change all nan gender values in R1 according to their values in Y1\n",
    "\n",
    "for index in R1.index:\n",
    "    if pd.isnull(R1.loc[index, 'Gender']):\n",
    "        gender = Y1.loc[index,'Gender']\n",
    "        R1.loc[index, 'Gender'] = gender"
   ]
  },
  {
   "cell_type": "code",
   "execution_count": 8,
   "metadata": {},
   "outputs": [],
   "source": [
    "# change all nan gender values in R2 according to their values in Y1\n",
    "\n",
    "for index in R2.index:\n",
    "    if pd.isnull(R2.loc[index, 'Gender']):\n",
    "        gender = Y1.loc[index,'Gender']\n",
    "        R2.loc[index, 'Gender'] = gender"
   ]
  },
  {
   "cell_type": "code",
   "execution_count": 9,
   "metadata": {},
   "outputs": [],
   "source": [
    "Gender_Incos = []\n",
    "for index in Y1.index:\n",
    "    if (Y1.loc[index, 'Gender'] != R1.loc[index, 'Gender']) or (R1.loc[index, 'Gender'] != R2.loc[index, 'Gender']) or (Y1.loc[index, 'Gender'] != R2.loc[index, 'Gender']) :\n",
    "        Gender_Incos.append(Y1.loc[index, 'UniqueID'])"
   ]
  },
  {
   "cell_type": "markdown",
   "metadata": {},
   "source": [
    "### Drop IDs with Nan values"
   ]
  },
  {
   "cell_type": "code",
   "execution_count": 10,
   "metadata": {},
   "outputs": [
    {
     "data": {
      "text/plain": [
       "[]"
      ]
     },
     "execution_count": 10,
     "metadata": {},
     "output_type": "execute_result"
    }
   ],
   "source": [
    "#indices\n",
    "columns = Y1.columns.tolist()\n",
    "columns = columns[:-1]\n",
    "\n",
    "#create list of indices that have NaN values in their rows\n",
    "index_list=[]\n",
    "for col in columns:   \n",
    "    index_list.extend(Y1[Y1[col].isnull()].index.tolist())\n",
    "index_list\n",
    "\n",
    "#make this list unique\n",
    "my_set = set(index_list)\n",
    "unique_index_list = list(my_set)\n",
    "unique_index_list"
   ]
  },
  {
   "cell_type": "code",
   "execution_count": 11,
   "metadata": {},
   "outputs": [
    {
     "data": {
      "text/plain": [
       "[512, 770, 169, 624, 402, 56, 1087, 927]"
      ]
     },
     "execution_count": 11,
     "metadata": {},
     "output_type": "execute_result"
    }
   ],
   "source": [
    "#create list of indices that have NaN values in their rows\n",
    "index_list=[]\n",
    "for col in columns:   \n",
    "    index_list.extend(R1[R1[col].isnull()].index.tolist())\n",
    "index_list\n",
    "\n",
    "#make this list unique\n",
    "my_set = set(index_list)\n",
    "unique_index_list1 = list(my_set)\n",
    "unique_index_list1"
   ]
  },
  {
   "cell_type": "code",
   "execution_count": 12,
   "metadata": {},
   "outputs": [
    {
     "data": {
      "text/plain": [
       "[1297, 182, 347, 446, 763]"
      ]
     },
     "execution_count": 12,
     "metadata": {},
     "output_type": "execute_result"
    }
   ],
   "source": [
    "#create list of indices that have NaN values in their rows\n",
    "index_list=[]\n",
    "for col in columns:   \n",
    "    index_list.extend(R2[R2[col].isnull()].index.tolist())\n",
    "index_list\n",
    "\n",
    "#make this list unique\n",
    "my_set = set(index_list)\n",
    "unique_index_list2 = list(my_set)\n",
    "unique_index_list2"
   ]
  },
  {
   "cell_type": "code",
   "execution_count": 13,
   "metadata": {},
   "outputs": [
    {
     "data": {
      "text/plain": [
       "[14334.0, 17710.0, 11189.0, 16486.0, 12668.0, 4960.0, 25920.0, 22418.0]"
      ]
     },
     "execution_count": 13,
     "metadata": {},
     "output_type": "execute_result"
    }
   ],
   "source": [
    "#make list of UniqueIDs associated with these NaN values\n",
    "ID_list = []\n",
    "for i in unique_index_list1:\n",
    "    ID_list.append(R1.loc[i,'UniqueID'])\n",
    "ID_list"
   ]
  },
  {
   "cell_type": "code",
   "execution_count": 14,
   "metadata": {},
   "outputs": [
    {
     "data": {
      "text/plain": [
       "[14334.0,\n",
       " 17710.0,\n",
       " 11189.0,\n",
       " 16486.0,\n",
       " 12668.0,\n",
       " 4960.0,\n",
       " 25920.0,\n",
       " 22418.0,\n",
       " 32402.0,\n",
       " 11205.0,\n",
       " 12560.0,\n",
       " 13876.0,\n",
       " 17696.0]"
      ]
     },
     "execution_count": 14,
     "metadata": {},
     "output_type": "execute_result"
    }
   ],
   "source": [
    "#make list of UniqueIDs associated with these NaN values\n",
    "for i in unique_index_list2:\n",
    "    ID_list.append(R2.loc[i,'UniqueID'])\n",
    "ID_list"
   ]
  },
  {
   "cell_type": "code",
   "execution_count": 15,
   "metadata": {},
   "outputs": [],
   "source": [
    "ID_list.extend(Gender_Incos)"
   ]
  },
  {
   "cell_type": "code",
   "execution_count": 16,
   "metadata": {},
   "outputs": [
    {
     "data": {
      "text/plain": [
       "[14334.0,\n",
       " 17710.0,\n",
       " 11189.0,\n",
       " 16486.0,\n",
       " 12668.0,\n",
       " 4960.0,\n",
       " 25920.0,\n",
       " 22418.0,\n",
       " 32402.0,\n",
       " 11205.0,\n",
       " 12560.0,\n",
       " 13876.0,\n",
       " 17696.0,\n",
       " 5957.0,\n",
       " 6183.0,\n",
       " 11177.0,\n",
       " 11195.0,\n",
       " 11218.0,\n",
       " 11394.0,\n",
       " 11419.0,\n",
       " 11752.0,\n",
       " 12926.0,\n",
       " 12952.0,\n",
       " 13071.0,\n",
       " 17040.0,\n",
       " 17651.0,\n",
       " 17851.0,\n",
       " 17959.0,\n",
       " 21493.0,\n",
       " 22624.0,\n",
       " 28767.0,\n",
       " 29298.0,\n",
       " 29415.0,\n",
       " 29542.0,\n",
       " 29704.0,\n",
       " 31457.0,\n",
       " 31947.0,\n",
       " 32298.0,\n",
       " 33616.0,\n",
       " 34230.0,\n",
       " 41607.0,\n",
       " 43947.0]"
      ]
     },
     "execution_count": 16,
     "metadata": {},
     "output_type": "execute_result"
    }
   ],
   "source": [
    "ID_list"
   ]
  },
  {
   "cell_type": "code",
   "execution_count": 17,
   "metadata": {},
   "outputs": [],
   "source": [
    "#drop these IDs from the data\n",
    "for id in ID_list:\n",
    "    Y1 = Y1[Y1['UniqueID']!=id]"
   ]
  },
  {
   "cell_type": "code",
   "execution_count": 18,
   "metadata": {},
   "outputs": [],
   "source": [
    "#drop these IDs from the data\n",
    "for id in ID_list:\n",
    "    R1 = R1[R1['UniqueID']!=id]"
   ]
  },
  {
   "cell_type": "code",
   "execution_count": 19,
   "metadata": {},
   "outputs": [],
   "source": [
    "#drop these IDs from the data\n",
    "for id in ID_list:\n",
    "    R2 = R2[R2['UniqueID']!=id]"
   ]
  },
  {
   "cell_type": "markdown",
   "metadata": {},
   "source": [
    "## Add gender control indicator in the input matrix"
   ]
  },
  {
   "cell_type": "code",
   "execution_count": 20,
   "metadata": {},
   "outputs": [],
   "source": [
    "Y1['Gender1'] = 0\n",
    "Y1['Gender2'] = 0\n",
    "for i in Y1.index:\n",
    "    if Y1.loc[i,'Gender'] == 1:\n",
    "        Y1.set_value(i,'Gender1',1) \n",
    "        Y1.set_value(i,'Gender2',0) \n",
    "    else:\n",
    "        Y1.set_value(i,'Gender1',0) \n",
    "        Y1.set_value(i,'Gender2',1) "
   ]
  },
  {
   "cell_type": "code",
   "execution_count": 21,
   "metadata": {},
   "outputs": [],
   "source": [
    "R1['Gender1'] = 0\n",
    "R1['Gender2'] = 0\n",
    "for i in R1.index:\n",
    "    if R1.loc[i,'Gender'] == 1:\n",
    "        R1.set_value(i,'Gender1',1) \n",
    "        R1.set_value(i,'Gender2',0) \n",
    "    else:\n",
    "        R1.set_value(i,'Gender1',0) \n",
    "        R1.set_value(i,'Gender2',1) "
   ]
  },
  {
   "cell_type": "code",
   "execution_count": 22,
   "metadata": {},
   "outputs": [],
   "source": [
    "R2['Gender1'] = 0\n",
    "R2['Gender2'] = 0\n",
    "for i in R2.index:\n",
    "    if R2.loc[i,'Gender'] == 1:\n",
    "        R2.set_value(i,'Gender1',1) \n",
    "        R2.set_value(i,'Gender2',0) \n",
    "    else:\n",
    "        R2.set_value(i,'Gender1',0) \n",
    "        R2.set_value(i,'Gender2',1) "
   ]
  },
  {
   "cell_type": "code",
   "execution_count": 23,
   "metadata": {},
   "outputs": [
    {
     "data": {
      "text/html": [
       "<div>\n",
       "<style scoped>\n",
       "    .dataframe tbody tr th:only-of-type {\n",
       "        vertical-align: middle;\n",
       "    }\n",
       "\n",
       "    .dataframe tbody tr th {\n",
       "        vertical-align: top;\n",
       "    }\n",
       "\n",
       "    .dataframe thead th {\n",
       "        text-align: right;\n",
       "    }\n",
       "</style>\n",
       "<table border=\"1\" class=\"dataframe\">\n",
       "  <thead>\n",
       "    <tr style=\"text-align: right;\">\n",
       "      <th></th>\n",
       "      <th>UniqueID</th>\n",
       "      <th>a1_combo</th>\n",
       "      <th>a2_combo</th>\n",
       "      <th>a3_combo</th>\n",
       "      <th>a4_combo</th>\n",
       "      <th>a5_combo</th>\n",
       "      <th>a6_combo</th>\n",
       "      <th>b7_combo</th>\n",
       "      <th>b8_combo</th>\n",
       "      <th>b9_combo</th>\n",
       "      <th>...</th>\n",
       "      <th>h33_combo</th>\n",
       "      <th>h34_combo</th>\n",
       "      <th>h35_combo</th>\n",
       "      <th>h36_combo</th>\n",
       "      <th>h37_combo</th>\n",
       "      <th>t38_combo</th>\n",
       "      <th>t39_combo</th>\n",
       "      <th>Gender</th>\n",
       "      <th>Gender1</th>\n",
       "      <th>Gender2</th>\n",
       "    </tr>\n",
       "  </thead>\n",
       "  <tbody>\n",
       "    <tr>\n",
       "      <th>0</th>\n",
       "      <td>3538.0</td>\n",
       "      <td>2.0</td>\n",
       "      <td>4.0</td>\n",
       "      <td>2.0</td>\n",
       "      <td>1.0</td>\n",
       "      <td>2.0</td>\n",
       "      <td>1.0</td>\n",
       "      <td>2.0</td>\n",
       "      <td>2.0</td>\n",
       "      <td>2.0</td>\n",
       "      <td>...</td>\n",
       "      <td>2.0</td>\n",
       "      <td>1.0</td>\n",
       "      <td>2.0</td>\n",
       "      <td>2.0</td>\n",
       "      <td>1.0</td>\n",
       "      <td>0.0</td>\n",
       "      <td>0.0</td>\n",
       "      <td>1.0</td>\n",
       "      <td>1</td>\n",
       "      <td>0</td>\n",
       "    </tr>\n",
       "    <tr>\n",
       "      <th>1</th>\n",
       "      <td>3552.0</td>\n",
       "      <td>2.0</td>\n",
       "      <td>2.0</td>\n",
       "      <td>2.0</td>\n",
       "      <td>1.0</td>\n",
       "      <td>2.0</td>\n",
       "      <td>1.0</td>\n",
       "      <td>2.0</td>\n",
       "      <td>1.0</td>\n",
       "      <td>2.0</td>\n",
       "      <td>...</td>\n",
       "      <td>2.0</td>\n",
       "      <td>1.0</td>\n",
       "      <td>1.0</td>\n",
       "      <td>3.0</td>\n",
       "      <td>1.0</td>\n",
       "      <td>0.0</td>\n",
       "      <td>0.0</td>\n",
       "      <td>2.0</td>\n",
       "      <td>0</td>\n",
       "      <td>1</td>\n",
       "    </tr>\n",
       "    <tr>\n",
       "      <th>2</th>\n",
       "      <td>3569.0</td>\n",
       "      <td>4.0</td>\n",
       "      <td>4.0</td>\n",
       "      <td>3.0</td>\n",
       "      <td>1.0</td>\n",
       "      <td>1.0</td>\n",
       "      <td>2.0</td>\n",
       "      <td>4.0</td>\n",
       "      <td>4.0</td>\n",
       "      <td>4.0</td>\n",
       "      <td>...</td>\n",
       "      <td>4.0</td>\n",
       "      <td>3.0</td>\n",
       "      <td>2.0</td>\n",
       "      <td>4.0</td>\n",
       "      <td>2.0</td>\n",
       "      <td>0.0</td>\n",
       "      <td>1.0</td>\n",
       "      <td>1.0</td>\n",
       "      <td>1</td>\n",
       "      <td>0</td>\n",
       "    </tr>\n",
       "    <tr>\n",
       "      <th>3</th>\n",
       "      <td>3570.0</td>\n",
       "      <td>2.0</td>\n",
       "      <td>3.0</td>\n",
       "      <td>2.0</td>\n",
       "      <td>2.0</td>\n",
       "      <td>2.0</td>\n",
       "      <td>1.0</td>\n",
       "      <td>2.0</td>\n",
       "      <td>1.0</td>\n",
       "      <td>2.0</td>\n",
       "      <td>...</td>\n",
       "      <td>1.0</td>\n",
       "      <td>1.0</td>\n",
       "      <td>1.0</td>\n",
       "      <td>1.0</td>\n",
       "      <td>1.0</td>\n",
       "      <td>0.0</td>\n",
       "      <td>0.0</td>\n",
       "      <td>1.0</td>\n",
       "      <td>1</td>\n",
       "      <td>0</td>\n",
       "    </tr>\n",
       "    <tr>\n",
       "      <th>4</th>\n",
       "      <td>3586.0</td>\n",
       "      <td>4.0</td>\n",
       "      <td>4.0</td>\n",
       "      <td>4.0</td>\n",
       "      <td>1.0</td>\n",
       "      <td>4.0</td>\n",
       "      <td>1.0</td>\n",
       "      <td>3.0</td>\n",
       "      <td>4.0</td>\n",
       "      <td>4.0</td>\n",
       "      <td>...</td>\n",
       "      <td>1.0</td>\n",
       "      <td>1.0</td>\n",
       "      <td>2.0</td>\n",
       "      <td>2.0</td>\n",
       "      <td>4.0</td>\n",
       "      <td>0.0</td>\n",
       "      <td>0.0</td>\n",
       "      <td>2.0</td>\n",
       "      <td>0</td>\n",
       "      <td>1</td>\n",
       "    </tr>\n",
       "  </tbody>\n",
       "</table>\n",
       "<p>5 rows × 43 columns</p>\n",
       "</div>"
      ],
      "text/plain": [
       "   UniqueID  a1_combo  a2_combo  a3_combo  a4_combo  a5_combo  a6_combo  \\\n",
       "0    3538.0       2.0       4.0       2.0       1.0       2.0       1.0   \n",
       "1    3552.0       2.0       2.0       2.0       1.0       2.0       1.0   \n",
       "2    3569.0       4.0       4.0       3.0       1.0       1.0       2.0   \n",
       "3    3570.0       2.0       3.0       2.0       2.0       2.0       1.0   \n",
       "4    3586.0       4.0       4.0       4.0       1.0       4.0       1.0   \n",
       "\n",
       "   b7_combo  b8_combo  b9_combo   ...     h33_combo  h34_combo  h35_combo  \\\n",
       "0       2.0       2.0       2.0   ...           2.0        1.0        2.0   \n",
       "1       2.0       1.0       2.0   ...           2.0        1.0        1.0   \n",
       "2       4.0       4.0       4.0   ...           4.0        3.0        2.0   \n",
       "3       2.0       1.0       2.0   ...           1.0        1.0        1.0   \n",
       "4       3.0       4.0       4.0   ...           1.0        1.0        2.0   \n",
       "\n",
       "   h36_combo  h37_combo  t38_combo  t39_combo  Gender  Gender1  Gender2  \n",
       "0        2.0        1.0        0.0        0.0     1.0        1        0  \n",
       "1        3.0        1.0        0.0        0.0     2.0        0        1  \n",
       "2        4.0        2.0        0.0        1.0     1.0        1        0  \n",
       "3        1.0        1.0        0.0        0.0     1.0        1        0  \n",
       "4        2.0        4.0        0.0        0.0     2.0        0        1  \n",
       "\n",
       "[5 rows x 43 columns]"
      ]
     },
     "execution_count": 23,
     "metadata": {},
     "output_type": "execute_result"
    }
   ],
   "source": [
    "R2.head()"
   ]
  },
  {
   "cell_type": "code",
   "execution_count": 24,
   "metadata": {},
   "outputs": [],
   "source": [
    "Y1 = Y1.drop('UniqueID',axis = 1)\n",
    "Y1 = Y1.drop('Gender',axis = 1)"
   ]
  },
  {
   "cell_type": "code",
   "execution_count": 25,
   "metadata": {},
   "outputs": [
    {
     "data": {
      "text/plain": [
       "(41, 1634)"
      ]
     },
     "execution_count": 25,
     "metadata": {},
     "output_type": "execute_result"
    }
   ],
   "source": [
    "Y1 = Y1.transpose()\n",
    "Y1.shape"
   ]
  },
  {
   "cell_type": "code",
   "execution_count": 26,
   "metadata": {},
   "outputs": [
    {
     "ename": "NameError",
     "evalue": "name 'Y1_r' is not defined",
     "output_type": "error",
     "traceback": [
      "\u001b[1;31m---------------------------------------------------------------------------\u001b[0m",
      "\u001b[1;31mNameError\u001b[0m                                 Traceback (most recent call last)",
      "\u001b[1;32m<ipython-input-26-2933df009421>\u001b[0m in \u001b[0;36m<module>\u001b[1;34m()\u001b[0m\n\u001b[1;32m----> 1\u001b[1;33m \u001b[0mY1_r\u001b[0m\u001b[1;33m.\u001b[0m\u001b[0mshape\u001b[0m\u001b[1;33m\u001b[0m\u001b[0m\n\u001b[0m",
      "\u001b[1;31mNameError\u001b[0m: name 'Y1_r' is not defined"
     ]
    }
   ],
   "source": [
    "Y1_r.shape"
   ]
  },
  {
   "cell_type": "code",
   "execution_count": null,
   "metadata": {},
   "outputs": [],
   "source": [
    "R1 = R1.drop('UniqueID',axis = 1)\n",
    "R1 = R1.drop('Gender',axis = 1)\n",
    "R1 = R1.transpose()"
   ]
  },
  {
   "cell_type": "code",
   "execution_count": null,
   "metadata": {},
   "outputs": [],
   "source": [
    "R2 = R2.drop('UniqueID',axis = 1)\n",
    "R2 = R2.drop('Gender',axis = 1)\n",
    "R2 = R2.transpose()"
   ]
  },
  {
   "cell_type": "code",
   "execution_count": null,
   "metadata": {},
   "outputs": [],
   "source": [
    "Y1.shape"
   ]
  },
  {
   "cell_type": "code",
   "execution_count": null,
   "metadata": {},
   "outputs": [],
   "source": [
    "R1.shape"
   ]
  },
  {
   "cell_type": "code",
   "execution_count": null,
   "metadata": {},
   "outputs": [],
   "source": [
    "R2.shape"
   ]
  },
  {
   "cell_type": "markdown",
   "metadata": {},
   "source": [
    "## DMDc for Gender"
   ]
  },
  {
   "cell_type": "markdown",
   "metadata": {},
   "source": [
    "### Y1 to R1"
   ]
  },
  {
   "cell_type": "code",
   "execution_count": null,
   "metadata": {},
   "outputs": [],
   "source": [
    "U_Y1,Sig_Y1,V_Y1=np.linalg.svd(Y1, full_matrices=False)    \n",
    "V_Y1_T=V_Y1.conjugate().transpose()\n",
    "Sig_inv_Y1=np.zeros((41, 41))\n",
    "for i in range(41):\n",
    "    for j in range(41):\n",
    "        if i==j:\n",
    "            Sig_inv_Y1[i][j]=1/Sig_Y1[i]"
   ]
  },
  {
   "cell_type": "code",
   "execution_count": null,
   "metadata": {
    "scrolled": true
   },
   "outputs": [],
   "source": [
    "Sig_Y1"
   ]
  },
  {
   "cell_type": "code",
   "execution_count": null,
   "metadata": {},
   "outputs": [],
   "source": [
    "U_Y1[:,0]"
   ]
  },
  {
   "cell_type": "code",
   "execution_count": null,
   "metadata": {},
   "outputs": [],
   "source": [
    "U_Y1_Q = U_Y1[:39,:]\n",
    "U_Y1_Q_T = U_Y1_Q.conjugate().transpose()\n",
    "U_Y1_G = U_Y1[39:41,:]\n",
    "U_Y1_G_T = U_Y1_G.conjugate().transpose()"
   ]
  },
  {
   "cell_type": "code",
   "execution_count": null,
   "metadata": {},
   "outputs": [],
   "source": [
    "A_step1=np.dot(R1,V_Y1_T)\n",
    "A_step2=np.dot(A_step1,Sig_inv_Y1)\n",
    "A_Y1_R1=np.dot(A_step2,U_Y1_Q_T)\n",
    "A_Y1_R1.shape"
   ]
  },
  {
   "cell_type": "code",
   "execution_count": null,
   "metadata": {},
   "outputs": [],
   "source": [
    "B_step1=np.dot(R1,V_Y1_T)\n",
    "B_step2=np.dot(B_step1,Sig_inv_Y1)\n",
    "B_Y1_R1=np.dot(B_step2,U_Y1_G_T)\n",
    "B_Y1_R1.shape"
   ]
  },
  {
   "cell_type": "code",
   "execution_count": null,
   "metadata": {},
   "outputs": [],
   "source": [
    "U_Y1_r = U_Y1[:,39]\n",
    "U_Y1_r_T = U_Y1.conjugate().transpose()"
   ]
  },
  {
   "cell_type": "code",
   "execution_count": null,
   "metadata": {},
   "outputs": [],
   "source": [
    "U_Y1_r.shape"
   ]
  },
  {
   "cell_type": "code",
   "execution_count": null,
   "metadata": {},
   "outputs": [],
   "source": [
    "A_step3 = np.dot(A_Y1_R1,U_Y1_r)\n",
    "A_Y1 = np.dot(U_Y1_r_T,A_step3)"
   ]
  },
  {
   "cell_type": "code",
   "execution_count": null,
   "metadata": {},
   "outputs": [],
   "source": [
    "values_Y1, vectors_Y1 = np.linalg.eig(A_Y1_R1)"
   ]
  },
  {
   "cell_type": "code",
   "execution_count": null,
   "metadata": {},
   "outputs": [],
   "source": [
    "eiglog_Y1_F = np.log(values_Y1_F)"
   ]
  },
  {
   "cell_type": "code",
   "execution_count": null,
   "metadata": {},
   "outputs": [],
   "source": [
    "lamphi_Y1_F=np.zeros(39)\n",
    "for i in range (39):\n",
    "    rep=vectors_Y1_F[i]\n",
    "    norm=np.linalg.norm(rep)\n",
    "    val=np.absolute(values_Y1_F[i])*norm\n",
    "    lamphi_Y1_F[i]=val"
   ]
  },
  {
   "cell_type": "markdown",
   "metadata": {},
   "source": [
    "#### Male Y1 to R1"
   ]
  },
  {
   "cell_type": "code",
   "execution_count": null,
   "metadata": {},
   "outputs": [],
   "source": [
    "U_Y1M,Sig_Y1M,V_Y1M=np.linalg.svd(Y1_M, full_matrices=False)    \n",
    "U_Y1M_T=U_Y1M.conjugate().transpose()\n",
    "V_Y1M_T=V_Y1M.conjugate().transpose()\n",
    "Sig_inv_Y1M=np.zeros((39, 39))\n",
    "for i in range(39):\n",
    "    for j in range(39):\n",
    "        if i==j:\n",
    "            Sig_inv_Y1M[i][j]=1/Sig_Y1M[i]"
   ]
  },
  {
   "cell_type": "code",
   "execution_count": null,
   "metadata": {},
   "outputs": [],
   "source": [
    "A_step1=np.dot(R1_M,V_Y1M_T)\n",
    "A_step2=np.dot(A_step1,Sig_inv_Y1M)\n",
    "A_Y1M_R1=np.dot(A_step2,U_Y1M_T)\n",
    "A_Y1M_R1"
   ]
  },
  {
   "cell_type": "code",
   "execution_count": null,
   "metadata": {},
   "outputs": [],
   "source": [
    "values_Y1_M, vectors_Y1_M = np.linalg.eig(A_Y1M_R1)"
   ]
  },
  {
   "cell_type": "code",
   "execution_count": null,
   "metadata": {},
   "outputs": [],
   "source": [
    "eiglog_Y1_M = np.log(values_Y1_M)"
   ]
  },
  {
   "cell_type": "code",
   "execution_count": null,
   "metadata": {},
   "outputs": [],
   "source": [
    "lamphi_Y1_M=np.zeros(39)\n",
    "for i in range (39):\n",
    "    rep=vectors_Y1_M[i]\n",
    "    norm=np.linalg.norm(rep)\n",
    "    val=np.absolute(values_Y1_M[i])*norm\n",
    "    lamphi_Y1_M[i]=val"
   ]
  },
  {
   "cell_type": "markdown",
   "metadata": {},
   "source": [
    "### R1 to R2"
   ]
  },
  {
   "cell_type": "markdown",
   "metadata": {},
   "source": [
    "#### Female R1 to R2"
   ]
  },
  {
   "cell_type": "code",
   "execution_count": null,
   "metadata": {},
   "outputs": [],
   "source": [
    "U_R1F,Sig_R1F,V_R1F=np.linalg.svd(R1_F, full_matrices=False)    \n",
    "U_R1F_T=U_R1F.conjugate().transpose()\n",
    "V_R1F_T=V_R1F.conjugate().transpose()\n",
    "Sig_inv_R1F=np.zeros((39, 39))\n",
    "for i in range(39):\n",
    "    for j in range(39):\n",
    "        if i==j:\n",
    "            Sig_inv_R1F[i][j]=1/Sig_R1F[i]"
   ]
  },
  {
   "cell_type": "code",
   "execution_count": null,
   "metadata": {},
   "outputs": [],
   "source": [
    "A_step1=np.dot(R2_F,V_R1F_T)\n",
    "A_step2=np.dot(A_step1,Sig_inv_R1F)\n",
    "A_R1F_R2=np.dot(A_step2,U_R1F_T)\n",
    "A_R1F_R2"
   ]
  },
  {
   "cell_type": "code",
   "execution_count": null,
   "metadata": {},
   "outputs": [],
   "source": [
    "values_R1_F, vectors_R1_F = np.linalg.eig(A_R1F_R2)"
   ]
  },
  {
   "cell_type": "code",
   "execution_count": null,
   "metadata": {},
   "outputs": [],
   "source": [
    "eiglog_R1_F = np.log(values_R1_F)"
   ]
  },
  {
   "cell_type": "code",
   "execution_count": null,
   "metadata": {},
   "outputs": [],
   "source": [
    "lamphi_R1_F=np.zeros(39)\n",
    "for i in range (39):\n",
    "    rep=vectors_R1_F[i]\n",
    "    norm=np.linalg.norm(rep)\n",
    "    val=np.absolute(values_R1_F[i])*norm\n",
    "    lamphi_R1_F[i]=val"
   ]
  },
  {
   "cell_type": "markdown",
   "metadata": {},
   "source": [
    "#### Male R1 to R2"
   ]
  },
  {
   "cell_type": "code",
   "execution_count": null,
   "metadata": {},
   "outputs": [],
   "source": [
    "U_R1M,Sig_R1M,V_R1M=np.linalg.svd(R1_M, full_matrices=False)    \n",
    "U_R1M_T=U_R1M.conjugate().transpose()\n",
    "V_R1M_T=V_R1M.conjugate().transpose()\n",
    "Sig_inv_R1M=np.zeros((39, 39))\n",
    "for i in range(39):\n",
    "    for j in range(39):\n",
    "        if i==j:\n",
    "            Sig_inv_R1M[i][j]=1/Sig_R1M[i]"
   ]
  },
  {
   "cell_type": "code",
   "execution_count": null,
   "metadata": {},
   "outputs": [],
   "source": [
    "A_step1=np.dot(R2_M,V_R1M_T)\n",
    "A_step2=np.dot(A_step1,Sig_inv_R1M)\n",
    "A_R1M_R2=np.dot(A_step2,U_R1M_T)\n",
    "A_R1M_R2"
   ]
  },
  {
   "cell_type": "code",
   "execution_count": null,
   "metadata": {},
   "outputs": [],
   "source": [
    "values_R1_M, vectors_R1_M = np.linalg.eig(A_R1M_R2)"
   ]
  },
  {
   "cell_type": "code",
   "execution_count": null,
   "metadata": {},
   "outputs": [],
   "source": [
    "eiglog_R1_M = np.log(values_R1_M)"
   ]
  },
  {
   "cell_type": "code",
   "execution_count": null,
   "metadata": {},
   "outputs": [],
   "source": [
    "lamphi_R1_M=np.zeros(39)\n",
    "for i in range (39):\n",
    "    rep=vectors_R1_M[i]\n",
    "    norm=np.linalg.norm(rep)\n",
    "    val=np.absolute(values_R1_M[i])*norm\n",
    "    lamphi_R1_M[i]=val"
   ]
  },
  {
   "cell_type": "markdown",
   "metadata": {},
   "source": [
    "## Graphs"
   ]
  },
  {
   "cell_type": "code",
   "execution_count": null,
   "metadata": {},
   "outputs": [],
   "source": [
    "label=['a1', 'a2',\n",
    "       'a3', 'a4', 'a5', 'a6', 'b7', 'b8',\n",
    "       'b9', 'c10', 'c11', 'c12', 'c13',\n",
    "       'c14', 'c15', 'c16', 'de17', 'de18',\n",
    "       'de19', 'de20', 'f21', 'f22', 'f23o',\n",
    "       'f24', 'f25', 'f26', 'g27', 'g28',\n",
    "       'g29', 'g30', 'g31', 'h32', 'h33',\n",
    "       'h34', 'h35', 'h36', 'h37', 't38',\n",
    "       't39']"
   ]
  },
  {
   "cell_type": "markdown",
   "metadata": {},
   "source": [
    "### PLOTs between real and imaginary parts of log(eigenvalues)"
   ]
  },
  {
   "cell_type": "code",
   "execution_count": null,
   "metadata": {},
   "outputs": [],
   "source": [
    "font = {'family' : 'DejaVu Sans',\n",
    "  'size' : 12}\n",
    "plt.rc('font', **font)\n",
    "\n",
    "fig_size = plt.rcParams[\"figure.figsize\"]\n",
    "fig_size[0] = 8\n",
    "fig_size[1] = 8\n",
    "\n",
    "# Y1 to R1 Female \n",
    "ax0 = plt.subplot(221)\n",
    "ax0.get_xaxis().set_label_position('bottom')\n",
    "ax0.set_title(\"Y1 to R1 Female\")\n",
    "ax0.scatter(eiglog_Y1_F.real,eiglog_Y1_F.imag, color = 'orange')\n",
    "ax0.set_ylim([-3,3])\n",
    "ax0.set_xlabel('Real(Growth)')\n",
    "ax0.set_ylabel('Imaginary(Frequency)')\n",
    "\n",
    "# R1 to R2 Female \n",
    "ax1 = plt.subplot(222)\n",
    "ax1.get_xaxis().set_label_position('bottom')\n",
    "ax1.set_title(\"R1 to R2 Female\")\n",
    "ax1.scatter(eiglog_R1_F.real,eiglog_R1_F.imag, color = 'orange')\n",
    "ax1.set_ylim([-3,3])\n",
    "ax1.set_xlabel('Real(Growth)')\n",
    "ax1.set_ylabel('Imaginary(Frequency)')\n",
    "\n",
    "# Y1 to R1 Male\n",
    "ax2 = plt.subplot(223)\n",
    "ax2.get_xaxis().set_label_position('bottom')\n",
    "ax2.set_title(\"Y1 to R1 Male\")\n",
    "ax2.scatter(eiglog_Y1_M.real,eiglog_Y1_M.imag)\n",
    "ax2.set_ylim([-3,3])\n",
    "ax2.set_xlabel('Real(Growth)')\n",
    "ax2.set_ylabel('Imaginary(Frequency)')\n",
    "\n",
    "# R1 to R2 Male\n",
    "ax3 = plt.subplot(224)\n",
    "ax3.get_xaxis().set_label_position('bottom')\n",
    "ax3.set_title(\"R1 to R2 Male\")\n",
    "ax3.scatter(eiglog_R1_M.real,eiglog_R1_M.imag)\n",
    "ax3.set_ylim([-3,3])\n",
    "ax3.set_xlabel('Real(Growth)')\n",
    "ax3.set_ylabel('Imaginary(Frequency)')\n",
    "\n",
    "plt.subplots_adjust(hspace=0.5, wspace=0.5) \n",
    "plt.suptitle('log of eigenvalues')\n",
    "\n",
    "plt.show()"
   ]
  },
  {
   "cell_type": "markdown",
   "metadata": {},
   "source": [
    "### PLOTs between growth and lamda * phi"
   ]
  },
  {
   "cell_type": "code",
   "execution_count": null,
   "metadata": {},
   "outputs": [],
   "source": [
    "font = {'family' : 'DejaVu Sans',\n",
    "  'size' : 12}\n",
    "plt.rc('font', **font)\n",
    "\n",
    "fig_size = plt.rcParams[\"figure.figsize\"]\n",
    "fig_size[0] = 8\n",
    "fig_size[1] = 8\n",
    "\n",
    "# Y1 to R1 Female \n",
    "ax0 = plt.subplot(221)\n",
    "ax0.get_xaxis().set_label_position('bottom')\n",
    "ax0.set_title(\"Y1 to R1 Female\")\n",
    "ax0.scatter(eiglog_Y1_F.real,lamphi_Y1_F, color = 'orange')\n",
    "ax0.set_xlabel('Growth')\n",
    "ax0.set_ylabel(u'\\u03BB' ' |' u'\\u03C6''|')\n",
    "\n",
    "# R1 to R2 Female \n",
    "ax1 = plt.subplot(222)\n",
    "ax1.get_xaxis().set_label_position('bottom')\n",
    "ax1.set_title(\"R1 to R2 Female\")\n",
    "ax1.scatter(eiglog_R1_F.real,lamphi_R1_F, color = 'orange')\n",
    "ax1.set_xlabel('Growth')\n",
    "ax1.set_ylabel(u'\\u03BB' ' |' u'\\u03C6''|')\n",
    "\n",
    "# Y1 to R1 Male \n",
    "ax2 = plt.subplot(223)\n",
    "ax2.get_xaxis().set_label_position('bottom')\n",
    "ax2.set_title(\"Y1 to R1 Male\")\n",
    "ax2.scatter(eiglog_Y1_M.real,lamphi_Y1_M)\n",
    "ax2.set_xlabel('Growth')\n",
    "ax2.set_ylabel(u'\\u03BB' ' |' u'\\u03C6''|')\n",
    "\n",
    "# R1 to R2 Male \n",
    "ax3 = plt.subplot(224)\n",
    "ax3.get_xaxis().set_label_position('bottom')\n",
    "ax3.set_title(\"R1 to R2 Male\")\n",
    "ax3.scatter(eiglog_R1_M.real,lamphi_R1_M)\n",
    "ax3.set_xlabel('Growth')\n",
    "ax3.set_ylabel(u'\\u03BB' ' |' u'\\u03C6''|')\n",
    "\n",
    "plt.subplots_adjust(hspace=0.5, wspace=0.5) \n",
    "plt.suptitle('Relationaship between growth and 'u'\\u03BB' ' |' u'\\u03C6''|')\n",
    "\n",
    "plt.show()"
   ]
  },
  {
   "cell_type": "markdown",
   "metadata": {},
   "source": [
    "### PLOTs between frequency and lamda * phi"
   ]
  },
  {
   "cell_type": "code",
   "execution_count": null,
   "metadata": {},
   "outputs": [],
   "source": [
    "font = {'family' : 'DejaVu Sans',\n",
    "  'size' : 12}\n",
    "plt.rc('font', **font)\n",
    "\n",
    "fig_size = plt.rcParams[\"figure.figsize\"]\n",
    "fig_size[0] = 8\n",
    "fig_size[1] = 8\n",
    "\n",
    "# Y1 to R1 Female \n",
    "ax0 = plt.subplot(221)\n",
    "ax0.get_xaxis().set_label_position('bottom')\n",
    "ax0.set_title(\"Y1 to R1 Female\")\n",
    "ax0.scatter(eiglog_Y1_F.imag,lamphi_Y1_F, color = 'orange')\n",
    "ax0.set_xlabel('Frequency')\n",
    "ax0.set_ylabel(u'\\u03BB' ' |' u'\\u03C6''|')\n",
    "\n",
    "# R1 to R2 Female \n",
    "ax1 = plt.subplot(222)\n",
    "ax1.get_xaxis().set_label_position('bottom')\n",
    "ax1.set_title(\"R1 to R2 Female\")\n",
    "ax1.scatter(eiglog_R1_F.imag,lamphi_R1_F, color = 'orange')\n",
    "ax1.set_xlabel('Frequency')\n",
    "ax1.set_ylabel(u'\\u03BB' ' |' u'\\u03C6''|')\n",
    "\n",
    "# Y1 to R1 Male \n",
    "ax2 = plt.subplot(223)\n",
    "ax2.get_xaxis().set_label_position('bottom')\n",
    "ax2.set_title(\"Y1 to R1 Male\")\n",
    "ax2.scatter(eiglog_Y1_M.imag,lamphi_Y1_M)\n",
    "ax2.set_xlabel('Frequency')\n",
    "ax2.set_ylabel(u'\\u03BB' ' |' u'\\u03C6''|')\n",
    "\n",
    "# R1 to R2 Male \n",
    "ax3 = plt.subplot(224)\n",
    "ax3.get_xaxis().set_label_position('bottom')\n",
    "ax3.set_title(\"R1 to R2 Male\")\n",
    "ax3.scatter(eiglog_R1_M.imag,lamphi_R1_M)\n",
    "ax3.set_xlabel('Frequency')\n",
    "ax3.set_ylabel(u'\\u03BB' ' |' u'\\u03C6''|')\n",
    "\n",
    "plt.subplots_adjust(hspace=0.5, wspace=0.5) \n",
    "plt.suptitle('Relationaship between Frequency and 'u'\\u03BB' ' |' u'\\u03C6''|')\n",
    "\n",
    "plt.show()"
   ]
  },
  {
   "cell_type": "markdown",
   "metadata": {},
   "source": [
    "### PLOTs for dominant eigen vectors"
   ]
  },
  {
   "cell_type": "code",
   "execution_count": null,
   "metadata": {},
   "outputs": [],
   "source": [
    "font = {'family' : 'DejaVu Sans',\n",
    "  'size' : 13}\n",
    "plt.rc('font', **font)\n",
    "\n",
    "fig_size = plt.rcParams[\"figure.figsize\"]\n",
    "fig_size[0] = 24\n",
    "fig_size[1] = 10\n",
    "\n",
    "# Y1 to R1 Female\n",
    "index=np.zeros(39)\n",
    "weiabs_Y1F=np.zeros(39)\n",
    "for i in range (39):\n",
    "    index[i]=i\n",
    "for j in range (39):\n",
    "    weiabs_Y1F[j]=vectors_Y1_F[j,0].real\n",
    "ax0 = plt.subplot(221)\n",
    "ax0.get_xaxis().set_label_position('bottom')\n",
    "ax0.set_title(\"Y1 to R1 Female\")\n",
    "ax0.set_xticks(np.arange(min(index), max(index)+1, 1.0))\n",
    "ax0.set_xticklabels(label, rotation = 'vertical')\n",
    "ax0.bar(index,abs(weiabs_Y1F),alpha=0.5, color = 'Orange')\n",
    "\n",
    "# R1 to R2 Female\n",
    "index=np.zeros(39)\n",
    "weiabs_R1F=np.zeros(39)\n",
    "for i in range (39):\n",
    "    index[i]=i\n",
    "for j in range (39):\n",
    "    weiabs_R1F[j]=vectors_R1_F[j,0].real\n",
    "ax1 = plt.subplot(222)\n",
    "ax1.get_xaxis().set_label_position('bottom')\n",
    "ax1.get_xaxis().set_label_position('bottom')\n",
    "ax1.set_title(\"R1 to R2 Female\")\n",
    "ax1.set_xticks(np.arange(min(index), max(index)+1, 1.0))\n",
    "ax1.set_xticklabels(label, rotation = 'vertical')\n",
    "ax1.bar(index,abs(weiabs_R1F),alpha=0.5, color = 'Orange')\n",
    "\n",
    "# Y1 to R1 Male\n",
    "index=np.zeros(39)\n",
    "weiabs_Y1M=np.zeros(39)\n",
    "for i in range (39):\n",
    "    index[i]=i\n",
    "for j in range (39):\n",
    "    weiabs_Y1M[j]=vectors_Y1_M[j,0].real\n",
    "ax2 = plt.subplot(223)\n",
    "ax2.get_xaxis().set_label_position('bottom')\n",
    "ax2.set_title(\"Y1 to R1 Male\")\n",
    "ax2.set_xticks(np.arange(min(index), max(index)+1, 1.0))\n",
    "ax2.set_xticklabels(label, rotation = 'vertical')\n",
    "ax2.bar(index,abs(weiabs_Y1M),alpha=0.5)\n",
    "\n",
    "# R1 to R2 Male\n",
    "index=np.zeros(39)\n",
    "weiabs_R1M=np.zeros(39)\n",
    "for i in range (39):\n",
    "    index[i]=i\n",
    "for j in range (39):\n",
    "    weiabs_R1M[j]=vectors_R1_M[j,0].real\n",
    "ax3 = plt.subplot(224)\n",
    "ax3.get_xaxis().set_label_position('bottom')\n",
    "ax3.set_title(\"R1 to R2 Male\")\n",
    "ax3.set_xticks(np.arange(min(index), max(index)+1, 1.0))\n",
    "ax3.set_xticklabels(label, rotation = 'vertical')\n",
    "ax3.bar(index,abs(weiabs_R1M),alpha=0.5)\n",
    "\n",
    "plt.subplots_adjust(hspace=0.5, wspace=0.5) \n",
    "plt.suptitle('Dominant Eigenvectors')\n",
    "\n",
    "plt.show()"
   ]
  },
  {
   "cell_type": "markdown",
   "metadata": {},
   "source": [
    "### Plots for comparison between dominant eigenvectors"
   ]
  },
  {
   "cell_type": "code",
   "execution_count": null,
   "metadata": {
    "scrolled": false
   },
   "outputs": [],
   "source": [
    "Gender = ['Female','Male']\n",
    "pos = np.arange(len(index))\n",
    "bar_width = 0.35\n",
    "plt.figure(figsize=(10,5))\n",
    "plt.rcParams['axes.edgecolor']='#333F4B'\n",
    "plt.rcParams['axes.linewidth']=0.8\n",
    "plt.rcParams['xtick.color']='#333F4B'\n",
    "plt.rcParams['ytick.color']='#333F4B'\n",
    "plt.title('Juxtaposition of Dominant Eigenvector Entries from Y1 to R1', fontsize=20, fontweight=0, color='purple', loc='center', style='italic' ) \n",
    "plt.xticks(np.arange(min(index), max(index)+1, 1.0),label, color='purple',rotation='vertical')\n",
    "plt.xlabel('Question Number',fontsize=20, style='italic' )\n",
    "plt.ylabel('Value of Entries',fontsize=20, color='orange', style='italic' )\n",
    "plt.bar(pos,abs(weiabs_Y1F),bar_width,alpha=0.5,color='orange')\n",
    "plt.bar(pos+bar_width,abs(weiabs_Y1M),bar_width,alpha=0.5)"
   ]
  },
  {
   "cell_type": "code",
   "execution_count": null,
   "metadata": {},
   "outputs": [],
   "source": [
    "Gender = ['Female','Male']\n",
    "pos = np.arange(len(index))\n",
    "bar_width = 0.35\n",
    "plt.figure(figsize=(10,5))\n",
    "plt.rcParams['axes.edgecolor']='#333F4B'\n",
    "plt.rcParams['axes.linewidth']=0.8\n",
    "plt.rcParams['xtick.color']='#333F4B'\n",
    "plt.rcParams['ytick.color']='#333F4B'\n",
    "plt.title('Juxtaposition of Dominant Eigenvector Entries from R1 to R2', fontsize=20, fontweight=0, color='purple', loc='center', style='italic' ) \n",
    "plt.xticks(np.arange(min(index), max(index)+1, 1.0),label, color='purple',rotation='vertical')\n",
    "plt.xlabel('Question Number',fontsize=20, style='italic' )\n",
    "plt.ylabel('Value of Entries',fontsize=20, color='orange', style='italic' )\n",
    "plt.bar(pos,abs(weiabs_R1F),bar_width,alpha=0.5,color='orange')\n",
    "plt.bar(pos+bar_width,abs(weiabs_R1M),bar_width,alpha=0.5)"
   ]
  },
  {
   "cell_type": "code",
   "execution_count": null,
   "metadata": {},
   "outputs": [],
   "source": [
    "Year = ['Y1 to R1','R1 to R2']\n",
    "pos = np.arange(len(index))\n",
    "bar_width = 0.35\n",
    "plt.figure(figsize=(20,6))\n",
    "plt.rcParams['axes.edgecolor']='#333F4B'\n",
    "plt.rcParams['axes.linewidth']=0.8\n",
    "plt.rcParams['xtick.color']='#333F4B'\n",
    "plt.rcParams['ytick.color']='#333F4B'\n",
    "plt.title('Juxtaposition of Dominant Eigenvector Entries for Female', fontsize=20, fontweight=0, color='purple', loc='center', style='italic' ) \n",
    "plt.xticks(np.arange(min(index), max(index)+1, 1.0),label, color='purple',rotation='vertical')\n",
    "plt.xlabel('Question Number',fontsize=20, style='italic' )\n",
    "plt.ylabel('Value of Entries',fontsize=20, color='orange', style='italic' )\n",
    "plt.bar(pos,abs(weiabs_Y1F),bar_width,alpha=0.8,color='#b3e5fc')\n",
    "plt.bar(pos+bar_width,abs(weiabs_R1F),bar_width,color = '#df744a', alpha=0.8)"
   ]
  },
  {
   "cell_type": "code",
   "execution_count": null,
   "metadata": {},
   "outputs": [],
   "source": [
    "Year = ['Y1 to R1','R1 to R2']\n",
    "pos = np.arange(len(index))\n",
    "bar_width = 0.35\n",
    "plt.figure(figsize=(20,6))\n",
    "plt.rcParams['axes.edgecolor']='#333F4B'\n",
    "plt.rcParams['axes.linewidth']=0.8\n",
    "plt.rcParams['xtick.color']='#333F4B'\n",
    "plt.rcParams['ytick.color']='#333F4B'\n",
    "plt.title('Juxtaposition of Dominant Eigenvector Entries for Male', fontsize=20, fontweight=0, color='purple', loc='center', style='italic' ) \n",
    "plt.xticks(np.arange(min(index), max(index)+1, 1.0),label, color='purple',rotation='vertical')\n",
    "plt.xlabel('Question Number',fontsize=20, style='italic' )\n",
    "plt.ylabel('Value of Entries',fontsize=20, color='orange', style='italic' )\n",
    "plt.bar(pos,abs(weiabs_Y1M),bar_width,alpha=0.8,color='#b3e5fc')\n",
    "plt.bar(pos+bar_width,abs(weiabs_R1M),bar_width,color = '#df744a', alpha=0.8)"
   ]
  }
 ],
 "metadata": {
  "kernelspec": {
   "display_name": "Python 3",
   "language": "python",
   "name": "python3"
  },
  "language_info": {
   "codemirror_mode": {
    "name": "ipython",
    "version": 3
   },
   "file_extension": ".py",
   "mimetype": "text/x-python",
   "name": "python",
   "nbconvert_exporter": "python",
   "pygments_lexer": "ipython3",
   "version": "3.6.5"
  }
 },
 "nbformat": 4,
 "nbformat_minor": 2
}
