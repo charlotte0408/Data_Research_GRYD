{
 "cells": [
  {
   "cell_type": "markdown",
   "metadata": {},
   "source": [
    "# Data Cleaning for SET Data\n",
    "\n",
    "Date: 07/03/2019"
   ]
  },
  {
   "cell_type": "markdown",
   "metadata": {},
   "source": [
    "## Unit and Data Import"
   ]
  },
  {
   "cell_type": "code",
   "execution_count": 1,
   "metadata": {},
   "outputs": [],
   "source": [
    "import pandas as pd\n",
    "import numpy as np\n",
    "import matplotlib.pyplot as plt\n",
    "import warnings\n",
    "warnings.filterwarnings('ignore')"
   ]
  },
  {
   "cell_type": "code",
   "execution_count": 2,
   "metadata": {},
   "outputs": [
    {
     "data": {
      "text/html": [
       "<div>\n",
       "<style scoped>\n",
       "    .dataframe tbody tr th:only-of-type {\n",
       "        vertical-align: middle;\n",
       "    }\n",
       "\n",
       "    .dataframe tbody tr th {\n",
       "        vertical-align: top;\n",
       "    }\n",
       "\n",
       "    .dataframe thead th {\n",
       "        text-align: right;\n",
       "    }\n",
       "</style>\n",
       "<table border=\"1\" class=\"dataframe\">\n",
       "  <thead>\n",
       "    <tr style=\"text-align: right;\">\n",
       "      <th></th>\n",
       "      <th>MERGE_DATE</th>\n",
       "      <th>archive_upload_2229</th>\n",
       "      <th>FULL_GRYD_ID_FB</th>\n",
       "      <th>Processing_status</th>\n",
       "      <th>Manual_notes_ETO</th>\n",
       "      <th>no_intake_question</th>\n",
       "      <th>no_retest1_question</th>\n",
       "      <th>no_retest2_question</th>\n",
       "      <th>FEEDBACK_STATUS</th>\n",
       "      <th>date_feedback_uploaded_ETO</th>\n",
       "      <th>...</th>\n",
       "      <th>othgpnorms_4bins</th>\n",
       "      <th>othgpcohe_8bins</th>\n",
       "      <th>othgpID_8bins</th>\n",
       "      <th>othgpemo_8bins</th>\n",
       "      <th>LN_CRIME</th>\n",
       "      <th>LN_VIOLENCE</th>\n",
       "      <th>SETDirections_ETO</th>\n",
       "      <th>SiteName_ETO</th>\n",
       "      <th>PROGRAM_NAME_ETO</th>\n",
       "      <th>enroll_ETO_num</th>\n",
       "    </tr>\n",
       "  </thead>\n",
       "  <tbody>\n",
       "    <tr>\n",
       "      <th>0</th>\n",
       "      <td>2/8/2019</td>\n",
       "      <td></td>\n",
       "      <td>77th 2-13-1494-1</td>\n",
       "      <td>2.0</td>\n",
       "      <td>Missing response(s) S11a text, s11b, x10 and x15</td>\n",
       "      <td></td>\n",
       "      <td></td>\n",
       "      <td></td>\n",
       "      <td>2.0</td>\n",
       "      <td>2/8/2019</td>\n",
       "      <td>...</td>\n",
       "      <td>1</td>\n",
       "      <td>3</td>\n",
       "      <td>5</td>\n",
       "      <td>5</td>\n",
       "      <td>0</td>\n",
       "      <td>0</td>\n",
       "      <td>If individual is still receiving services in 6...</td>\n",
       "      <td>1</td>\n",
       "      <td>2</td>\n",
       "      <td>1</td>\n",
       "    </tr>\n",
       "    <tr>\n",
       "      <th>1</th>\n",
       "      <td>1/16/2015</td>\n",
       "      <td></td>\n",
       "      <td>RPARSA-2-64-1</td>\n",
       "      <td>9.0</td>\n",
       "      <td></td>\n",
       "      <td></td>\n",
       "      <td></td>\n",
       "      <td></td>\n",
       "      <td>0.0</td>\n",
       "      <td></td>\n",
       "      <td>...</td>\n",
       "      <td>1</td>\n",
       "      <td>4</td>\n",
       "      <td>5</td>\n",
       "      <td>3</td>\n",
       "      <td>0</td>\n",
       "      <td>1.6094379124341</td>\n",
       "      <td></td>\n",
       "      <td></td>\n",
       "      <td></td>\n",
       "      <td>1</td>\n",
       "    </tr>\n",
       "    <tr>\n",
       "      <th>2</th>\n",
       "      <td>4/28/2014</td>\n",
       "      <td></td>\n",
       "      <td>RPARSA-2-77-1</td>\n",
       "      <td>9.0</td>\n",
       "      <td></td>\n",
       "      <td></td>\n",
       "      <td></td>\n",
       "      <td></td>\n",
       "      <td>0.0</td>\n",
       "      <td></td>\n",
       "      <td>...</td>\n",
       "      <td>9</td>\n",
       "      <td>9</td>\n",
       "      <td>9</td>\n",
       "      <td>9</td>\n",
       "      <td>1.79175946922805</td>\n",
       "      <td>.693147180559945</td>\n",
       "      <td></td>\n",
       "      <td>1</td>\n",
       "      <td></td>\n",
       "      <td>1</td>\n",
       "    </tr>\n",
       "    <tr>\n",
       "      <th>3</th>\n",
       "      <td>3/18/2019</td>\n",
       "      <td></td>\n",
       "      <td>Northeast-25-68-2</td>\n",
       "      <td>1.0</td>\n",
       "      <td></td>\n",
       "      <td></td>\n",
       "      <td></td>\n",
       "      <td></td>\n",
       "      <td>2.0</td>\n",
       "      <td>3/18/2019</td>\n",
       "      <td>...</td>\n",
       "      <td>9</td>\n",
       "      <td>9</td>\n",
       "      <td>9</td>\n",
       "      <td>9</td>\n",
       "      <td>1.09861228866811</td>\n",
       "      <td>1.38629436111989</td>\n",
       "      <td>If individual is still receiving services in 6...</td>\n",
       "      <td>1</td>\n",
       "      <td>14</td>\n",
       "      <td>1</td>\n",
       "    </tr>\n",
       "    <tr>\n",
       "      <th>4</th>\n",
       "      <td>3/18/2019</td>\n",
       "      <td></td>\n",
       "      <td>Northeast-25-69-2</td>\n",
       "      <td>1.0</td>\n",
       "      <td></td>\n",
       "      <td></td>\n",
       "      <td></td>\n",
       "      <td></td>\n",
       "      <td>2.0</td>\n",
       "      <td>3/18/2019</td>\n",
       "      <td>...</td>\n",
       "      <td>9</td>\n",
       "      <td>9</td>\n",
       "      <td>9</td>\n",
       "      <td>9</td>\n",
       "      <td>.693147180559945</td>\n",
       "      <td>.693147180559945</td>\n",
       "      <td>If individual is still receiving services in 6...</td>\n",
       "      <td>1</td>\n",
       "      <td>14</td>\n",
       "      <td>1</td>\n",
       "    </tr>\n",
       "  </tbody>\n",
       "</table>\n",
       "<p>5 rows × 432 columns</p>\n",
       "</div>"
      ],
      "text/plain": [
       "  MERGE_DATE archive_upload_2229    FULL_GRYD_ID_FB  Processing_status  \\\n",
       "0   2/8/2019                       77th 2-13-1494-1                2.0   \n",
       "1  1/16/2015                          RPARSA-2-64-1                9.0   \n",
       "2  4/28/2014                          RPARSA-2-77-1                9.0   \n",
       "3  3/18/2019                      Northeast-25-68-2                1.0   \n",
       "4  3/18/2019                      Northeast-25-69-2                1.0   \n",
       "\n",
       "                                   Manual_notes_ETO no_intake_question  \\\n",
       "0  Missing response(s) S11a text, s11b, x10 and x15                      \n",
       "1                                                                        \n",
       "2                                                                        \n",
       "3                                                                        \n",
       "4                                                                        \n",
       "\n",
       "  no_retest1_question no_retest2_question  FEEDBACK_STATUS  \\\n",
       "0                                                      2.0   \n",
       "1                                                      0.0   \n",
       "2                                                      0.0   \n",
       "3                                                      2.0   \n",
       "4                                                      2.0   \n",
       "\n",
       "  date_feedback_uploaded_ETO      ...       othgpnorms_4bins  othgpcohe_8bins  \\\n",
       "0                   2/8/2019      ...                      1                3   \n",
       "1                                 ...                      1                4   \n",
       "2                                 ...                      9                9   \n",
       "3                  3/18/2019      ...                      9                9   \n",
       "4                  3/18/2019      ...                      9                9   \n",
       "\n",
       "   othgpID_8bins  othgpemo_8bins          LN_CRIME       LN_VIOLENCE  \\\n",
       "0              5               5                 0                 0   \n",
       "1              5               3                 0   1.6094379124341   \n",
       "2              9               9  1.79175946922805  .693147180559945   \n",
       "3              9               9  1.09861228866811  1.38629436111989   \n",
       "4              9               9  .693147180559945  .693147180559945   \n",
       "\n",
       "                                   SETDirections_ETO SiteName_ETO  \\\n",
       "0  If individual is still receiving services in 6...            1   \n",
       "1                                                                   \n",
       "2                                                               1   \n",
       "3  If individual is still receiving services in 6...            1   \n",
       "4  If individual is still receiving services in 6...            1   \n",
       "\n",
       "  PROGRAM_NAME_ETO enroll_ETO_num  \n",
       "0                2              1  \n",
       "1                               1  \n",
       "2                               1  \n",
       "3               14              1  \n",
       "4               14              1  \n",
       "\n",
       "[5 rows x 432 columns]"
      ]
     },
     "execution_count": 2,
     "metadata": {},
     "output_type": "execute_result"
    }
   ],
   "source": [
    "## Import data set\n",
    "cleaned_filepath = 'SET data archive 3416 cases recd thru end of 03 2019.csv'\n",
    "\n",
    "df = pd.read_csv(cleaned_filepath)\n",
    "df.head()"
   ]
  },
  {
   "cell_type": "code",
   "execution_count": 8,
   "metadata": {},
   "outputs": [
    {
     "data": {
      "text/plain": [
       "18     586\n",
       "17     580\n",
       "16     463\n",
       "19     327\n",
       "15     304\n",
       "20     211\n",
       "21     161\n",
       "23     136\n",
       "14     134\n",
       "22     134\n",
       "25     105\n",
       "24     102\n",
       "26      42\n",
       "13      27\n",
       "27      22\n",
       "28      15\n",
       "30      14\n",
       "32      11\n",
       "29       7\n",
       "12       6\n",
       "31       6\n",
       "33       6\n",
       "35       4\n",
       "36       3\n",
       "999      3\n",
       "34       2\n",
       "42       2\n",
       "41       2\n",
       "43       1\n",
       "Name: AGE_1_FB, dtype: int64"
      ]
     },
     "execution_count": 8,
     "metadata": {},
     "output_type": "execute_result"
    }
   ],
   "source": [
    "df['AGE_1_FB'].value_counts()"
   ]
  },
  {
   "cell_type": "code",
   "execution_count": 281,
   "metadata": {},
   "outputs": [
    {
     "data": {
      "text/plain": [
       "1    2020\n",
       "1    1350\n",
       "0      23\n",
       "0      18\n",
       "        5\n",
       "Name: no_fam_num, dtype: int64"
      ]
     },
     "execution_count": 281,
     "metadata": {},
     "output_type": "execute_result"
    }
   ],
   "source": [
    "df['no_fam_num'].value_counts()"
   ]
  },
  {
   "cell_type": "code",
   "execution_count": 282,
   "metadata": {},
   "outputs": [
    {
     "data": {
      "text/plain": [
       "(3416, 432)"
      ]
     },
     "execution_count": 282,
     "metadata": {},
     "output_type": "execute_result"
    }
   ],
   "source": [
    "df.shape"
   ]
  },
  {
   "cell_type": "markdown",
   "metadata": {},
   "source": [
    "## Investigating Data"
   ]
  },
  {
   "cell_type": "markdown",
   "metadata": {},
   "source": [
    "### Drop the wrong version "
   ]
  },
  {
   "cell_type": "code",
   "execution_count": 283,
   "metadata": {},
   "outputs": [
    {
     "data": {
      "text/plain": [
       "3    2800\n",
       "Name: SET_version_num, dtype: int64"
      ]
     },
     "execution_count": 283,
     "metadata": {},
     "output_type": "execute_result"
    }
   ],
   "source": [
    "df = df[df['SET_version_num'] == 3]\n",
    "df['SET_version_num'].value_counts()"
   ]
  },
  {
   "cell_type": "code",
   "execution_count": 284,
   "metadata": {},
   "outputs": [
    {
     "data": {
      "text/html": [
       "<div>\n",
       "<style scoped>\n",
       "    .dataframe tbody tr th:only-of-type {\n",
       "        vertical-align: middle;\n",
       "    }\n",
       "\n",
       "    .dataframe tbody tr th {\n",
       "        vertical-align: top;\n",
       "    }\n",
       "\n",
       "    .dataframe thead th {\n",
       "        text-align: right;\n",
       "    }\n",
       "</style>\n",
       "<table border=\"1\" class=\"dataframe\">\n",
       "  <thead>\n",
       "    <tr style=\"text-align: right;\">\n",
       "      <th></th>\n",
       "      <th>MERGE_DATE</th>\n",
       "      <th>archive_upload_2229</th>\n",
       "      <th>FULL_GRYD_ID_FB</th>\n",
       "      <th>Processing_status</th>\n",
       "      <th>Manual_notes_ETO</th>\n",
       "      <th>no_intake_question</th>\n",
       "      <th>no_retest1_question</th>\n",
       "      <th>no_retest2_question</th>\n",
       "      <th>FEEDBACK_STATUS</th>\n",
       "      <th>date_feedback_uploaded_ETO</th>\n",
       "      <th>...</th>\n",
       "      <th>othgpnorms_4bins</th>\n",
       "      <th>othgpcohe_8bins</th>\n",
       "      <th>othgpID_8bins</th>\n",
       "      <th>othgpemo_8bins</th>\n",
       "      <th>LN_CRIME</th>\n",
       "      <th>LN_VIOLENCE</th>\n",
       "      <th>SETDirections_ETO</th>\n",
       "      <th>SiteName_ETO</th>\n",
       "      <th>PROGRAM_NAME_ETO</th>\n",
       "      <th>enroll_ETO_num</th>\n",
       "    </tr>\n",
       "  </thead>\n",
       "  <tbody>\n",
       "    <tr>\n",
       "      <th>0</th>\n",
       "      <td>2/8/2019</td>\n",
       "      <td></td>\n",
       "      <td>77th 2-13-1494-1</td>\n",
       "      <td>2.0</td>\n",
       "      <td>Missing response(s) S11a text, s11b, x10 and x15</td>\n",
       "      <td></td>\n",
       "      <td></td>\n",
       "      <td></td>\n",
       "      <td>2.0</td>\n",
       "      <td>2/8/2019</td>\n",
       "      <td>...</td>\n",
       "      <td>1</td>\n",
       "      <td>3</td>\n",
       "      <td>5</td>\n",
       "      <td>5</td>\n",
       "      <td>0</td>\n",
       "      <td>0</td>\n",
       "      <td>If individual is still receiving services in 6...</td>\n",
       "      <td>1</td>\n",
       "      <td>2</td>\n",
       "      <td>1</td>\n",
       "    </tr>\n",
       "    <tr>\n",
       "      <th>3</th>\n",
       "      <td>3/18/2019</td>\n",
       "      <td></td>\n",
       "      <td>Northeast-25-68-2</td>\n",
       "      <td>1.0</td>\n",
       "      <td></td>\n",
       "      <td></td>\n",
       "      <td></td>\n",
       "      <td></td>\n",
       "      <td>2.0</td>\n",
       "      <td>3/18/2019</td>\n",
       "      <td>...</td>\n",
       "      <td>9</td>\n",
       "      <td>9</td>\n",
       "      <td>9</td>\n",
       "      <td>9</td>\n",
       "      <td>1.09861228866811</td>\n",
       "      <td>1.38629436111989</td>\n",
       "      <td>If individual is still receiving services in 6...</td>\n",
       "      <td>1</td>\n",
       "      <td>14</td>\n",
       "      <td>1</td>\n",
       "    </tr>\n",
       "    <tr>\n",
       "      <th>4</th>\n",
       "      <td>3/18/2019</td>\n",
       "      <td></td>\n",
       "      <td>Northeast-25-69-2</td>\n",
       "      <td>1.0</td>\n",
       "      <td></td>\n",
       "      <td></td>\n",
       "      <td></td>\n",
       "      <td></td>\n",
       "      <td>2.0</td>\n",
       "      <td>3/18/2019</td>\n",
       "      <td>...</td>\n",
       "      <td>9</td>\n",
       "      <td>9</td>\n",
       "      <td>9</td>\n",
       "      <td>9</td>\n",
       "      <td>.693147180559945</td>\n",
       "      <td>.693147180559945</td>\n",
       "      <td>If individual is still receiving services in 6...</td>\n",
       "      <td>1</td>\n",
       "      <td>14</td>\n",
       "      <td>1</td>\n",
       "    </tr>\n",
       "    <tr>\n",
       "      <th>5</th>\n",
       "      <td>3/18/2019</td>\n",
       "      <td></td>\n",
       "      <td>Northeast-25-70-2</td>\n",
       "      <td>1.0</td>\n",
       "      <td></td>\n",
       "      <td></td>\n",
       "      <td></td>\n",
       "      <td></td>\n",
       "      <td>2.0</td>\n",
       "      <td>3/18/2019</td>\n",
       "      <td>...</td>\n",
       "      <td>9</td>\n",
       "      <td>9</td>\n",
       "      <td>9</td>\n",
       "      <td>9</td>\n",
       "      <td>1.09861228866811</td>\n",
       "      <td>.693147180559945</td>\n",
       "      <td>If individual is still receiving services in 6...</td>\n",
       "      <td>1</td>\n",
       "      <td>14</td>\n",
       "      <td>1</td>\n",
       "    </tr>\n",
       "    <tr>\n",
       "      <th>6</th>\n",
       "      <td>4/14/2017</td>\n",
       "      <td>1</td>\n",
       "      <td>Olympic-12-39-2</td>\n",
       "      <td>3.0</td>\n",
       "      <td>ETO continues to show duplicate GRYD IDs - the...</td>\n",
       "      <td>2</td>\n",
       "      <td></td>\n",
       "      <td></td>\n",
       "      <td>2.0</td>\n",
       "      <td>6/8/2018</td>\n",
       "      <td>...</td>\n",
       "      <td>1</td>\n",
       "      <td>5</td>\n",
       "      <td>2</td>\n",
       "      <td>3</td>\n",
       "      <td>1.38629436111989</td>\n",
       "      <td>1.6094379124341</td>\n",
       "      <td>If individual is still receiving services in 6...</td>\n",
       "      <td>1</td>\n",
       "      <td>17</td>\n",
       "      <td>2</td>\n",
       "    </tr>\n",
       "  </tbody>\n",
       "</table>\n",
       "<p>5 rows × 432 columns</p>\n",
       "</div>"
      ],
      "text/plain": [
       "  MERGE_DATE archive_upload_2229    FULL_GRYD_ID_FB  Processing_status  \\\n",
       "0   2/8/2019                       77th 2-13-1494-1                2.0   \n",
       "3  3/18/2019                      Northeast-25-68-2                1.0   \n",
       "4  3/18/2019                      Northeast-25-69-2                1.0   \n",
       "5  3/18/2019                      Northeast-25-70-2                1.0   \n",
       "6  4/14/2017                   1    Olympic-12-39-2                3.0   \n",
       "\n",
       "                                    Manual_notes_ETO no_intake_question  \\\n",
       "0   Missing response(s) S11a text, s11b, x10 and x15                      \n",
       "3                                                                         \n",
       "4                                                                         \n",
       "5                                                                         \n",
       "6  ETO continues to show duplicate GRYD IDs - the...                  2   \n",
       "\n",
       "  no_retest1_question no_retest2_question  FEEDBACK_STATUS  \\\n",
       "0                                                      2.0   \n",
       "3                                                      2.0   \n",
       "4                                                      2.0   \n",
       "5                                                      2.0   \n",
       "6                                                      2.0   \n",
       "\n",
       "  date_feedback_uploaded_ETO      ...       othgpnorms_4bins  othgpcohe_8bins  \\\n",
       "0                   2/8/2019      ...                      1                3   \n",
       "3                  3/18/2019      ...                      9                9   \n",
       "4                  3/18/2019      ...                      9                9   \n",
       "5                  3/18/2019      ...                      9                9   \n",
       "6                   6/8/2018      ...                      1                5   \n",
       "\n",
       "   othgpID_8bins  othgpemo_8bins          LN_CRIME       LN_VIOLENCE  \\\n",
       "0              5               5                 0                 0   \n",
       "3              9               9  1.09861228866811  1.38629436111989   \n",
       "4              9               9  .693147180559945  .693147180559945   \n",
       "5              9               9  1.09861228866811  .693147180559945   \n",
       "6              2               3  1.38629436111989   1.6094379124341   \n",
       "\n",
       "                                   SETDirections_ETO SiteName_ETO  \\\n",
       "0  If individual is still receiving services in 6...            1   \n",
       "3  If individual is still receiving services in 6...            1   \n",
       "4  If individual is still receiving services in 6...            1   \n",
       "5  If individual is still receiving services in 6...            1   \n",
       "6  If individual is still receiving services in 6...            1   \n",
       "\n",
       "  PROGRAM_NAME_ETO enroll_ETO_num  \n",
       "0                2              1  \n",
       "3               14              1  \n",
       "4               14              1  \n",
       "5               14              1  \n",
       "6               17              2  \n",
       "\n",
       "[5 rows x 432 columns]"
      ]
     },
     "execution_count": 284,
     "metadata": {},
     "output_type": "execute_result"
    }
   ],
   "source": [
    "df.head()"
   ]
  },
  {
   "cell_type": "markdown",
   "metadata": {},
   "source": [
    "### Creating Unique ID"
   ]
  },
  {
   "cell_type": "code",
   "execution_count": 285,
   "metadata": {},
   "outputs": [
    {
     "data": {
      "text/plain": [
       "False    2800\n",
       "Name: ETO_ID_FB, dtype: int64"
      ]
     },
     "execution_count": 285,
     "metadata": {},
     "output_type": "execute_result"
    }
   ],
   "source": [
    "#showing how many ETO_IDs are missing\n",
    "\n",
    "df['ETO_ID_FB'] = pd.to_numeric(df['ETO_ID_FB'], downcast = 'integer', errors = 'coerce')\n",
    "df['ETO_ID_FB'].isnull().value_counts()\n",
    "\n",
    "#None of them are missing"
   ]
  },
  {
   "cell_type": "code",
   "execution_count": 286,
   "metadata": {},
   "outputs": [],
   "source": [
    "# Change the column name to UniqueID"
   ]
  },
  {
   "cell_type": "code",
   "execution_count": 287,
   "metadata": {},
   "outputs": [],
   "source": [
    "df.rename(columns={'ETO_ID_FB':'UniqueID'}, inplace = True)"
   ]
  },
  {
   "cell_type": "markdown",
   "metadata": {},
   "source": [
    "### Column Processing_status"
   ]
  },
  {
   "cell_type": "code",
   "execution_count": 288,
   "metadata": {},
   "outputs": [],
   "source": [
    "#Drop incomplete processing status\n",
    "df = df[df['Processing_status'] < 2]"
   ]
  },
  {
   "cell_type": "code",
   "execution_count": 289,
   "metadata": {},
   "outputs": [
    {
     "data": {
      "text/plain": [
       "1.5    1646\n",
       "1.0    1123\n",
       "Name: Processing_status, dtype: int64"
      ]
     },
     "execution_count": 289,
     "metadata": {},
     "output_type": "execute_result"
    }
   ],
   "source": [
    "df.head()\n",
    "df['Processing_status'].value_counts()"
   ]
  },
  {
   "cell_type": "markdown",
   "metadata": {},
   "source": [
    "## Questionnaire part"
   ]
  },
  {
   "cell_type": "markdown",
   "metadata": {},
   "source": [
    "### Family Section (clean data for no family people )"
   ]
  },
  {
   "cell_type": "code",
   "execution_count": 300,
   "metadata": {},
   "outputs": [
    {
     "name": "stdout",
     "output_type": "stream",
     "text": [
      "[54, 97, 99, 243, 604, 606, 607, 626, 938, 1357, 1452, 1454, 1469, 1499, 1503, 1512, 1515, 1523, 1537, 1782, 1796, 2032, 2033, 2217, 2309, 2313, 2327, 2413, 2769, 2812, 2881, 2903, 2909, 2946, 3124, 3230, 3231, 3233, 3234, 3328, 3329, 225, 1147, 1183, 1619, 1945]\n"
     ]
    }
   ],
   "source": [
    "#list the questions about family\n",
    "f_que = df.loc[:,'FS90_younger':'FS90_older_adults'].columns.tolist()\n",
    "f_que.extend(df.loc[:,'FS90_younger':'FS90_older_adults'].columns.tolist())\n",
    "\n",
    "#list the index for those who don't have family\n",
    "df['no_fam_num'] = pd.to_numeric(df['no_fam_num'], downcast = 'integer', errors = 'coerce')\n",
    "NoFamppl = df[df['no_fam_num'] == 0].index.tolist()\n",
    "NoFamppl.extend(df[df['no_fam_num'].isnull()].index.tolist())\n",
    "#NoFamppl.extend(df[df['no_fam_num'] == 'System'].index.tolist())\n",
    "print(NoFamppl)"
   ]
  },
  {
   "cell_type": "code",
   "execution_count": 309,
   "metadata": {},
   "outputs": [
    {
     "data": {
      "text/plain": [
       "1.0    1711\n",
       "0.0    1534\n",
       "Name: no_group_num, dtype: int64"
      ]
     },
     "execution_count": 309,
     "metadata": {},
     "output_type": "execute_result"
    }
   ],
   "source": [
    "df['no_group_num'].value_counts()"
   ]
  },
  {
   "cell_type": "code",
   "execution_count": 228,
   "metadata": {},
   "outputs": [],
   "source": [
    "for col in f_que:\n",
    "    df[col] = pd.to_numeric(df[col], downcast = 'integer', errors = 'coerce')"
   ]
  },
  {
   "cell_type": "code",
   "execution_count": 229,
   "metadata": {},
   "outputs": [],
   "source": [
    "#change their resposnes from f1 to f3 to 0\n",
    "for index in NoFamppl:\n",
    "    for col in f_que:\n",
    "        df.loc[index, col] = 0"
   ]
  },
  {
   "cell_type": "code",
   "execution_count": 230,
   "metadata": {},
   "outputs": [],
   "source": [
    "f_que.extend(df.loc[:,'F4':'FS98'].columns.tolist())\n",
    "f_que.extend(df.loc[:,'FS100':'F17x'].columns.tolist())\n",
    "f_que.extend(df.loc[:,'F18':'F31b'].columns.tolist())"
   ]
  },
  {
   "cell_type": "code",
   "execution_count": 231,
   "metadata": {},
   "outputs": [],
   "source": [
    "for col in f_que:\n",
    "    df[col] = pd.to_numeric(df[col], downcast = 'integer', errors = 'coerce')"
   ]
  },
  {
   "cell_type": "code",
   "execution_count": 232,
   "metadata": {},
   "outputs": [],
   "source": [
    "#change their resposnes from f4 to f31b to nan\n",
    "for index in NoFamppl:\n",
    "    for col in f_que:\n",
    "        df.loc[index, col] = np.nan"
   ]
  },
  {
   "cell_type": "markdown",
   "metadata": {},
   "source": [
    "### Group Section (clean data for no group people )"
   ]
  },
  {
   "cell_type": "code",
   "execution_count": 310,
   "metadata": {},
   "outputs": [],
   "source": [
    "#list the index for those who don't have group\n",
    "\n",
    "df['no_group_num'] = pd.to_numeric(df['no_group_num'], downcast = 'integer', errors = 'coerce')\n",
    "NoGrppl.extend(df[df['no_group_num'] == 0].index.tolist())\n",
    "NoGrppl.extend(df[df['no_group_num'].isnull()].index.tolist())\n",
    "\n",
    "#list the group questions\n",
    "g_que = df.loc[:,'G2':'G9'].columns.tolist()\n",
    "g_que.extend(df.loc[:,'G10x':'G23x'].columns.tolist())\n",
    "g_que.extend(df.loc[:,'G24':'G37'].columns.tolist())"
   ]
  },
  {
   "cell_type": "code",
   "execution_count": 311,
   "metadata": {},
   "outputs": [
    {
     "data": {
      "text/plain": [
       "1.0    1711\n",
       "0.0    1534\n",
       "Name: no_group_num, dtype: int64"
      ]
     },
     "execution_count": 311,
     "metadata": {},
     "output_type": "execute_result"
    }
   ],
   "source": [
    "df['no_group_num'].value_counts()"
   ]
  },
  {
   "cell_type": "code",
   "execution_count": 312,
   "metadata": {},
   "outputs": [],
   "source": [
    "for col in g_que:\n",
    "    df[col] = pd.to_numeric(df[col], downcast = 'integer', errors = 'coerce')"
   ]
  },
  {
   "cell_type": "code",
   "execution_count": 315,
   "metadata": {},
   "outputs": [],
   "source": [
    "#change their resposnes from G2 to G37 to nan\n",
    "for index in NoGrppl:\n",
    "    for col in g_que:\n",
    "        df.loc[index, col] = np.nan"
   ]
  },
  {
   "cell_type": "markdown",
   "metadata": {},
   "source": [
    "### Getting rid of Nah"
   ]
  },
  {
   "cell_type": "code",
   "execution_count": 319,
   "metadata": {},
   "outputs": [],
   "source": [
    "# S section\n",
    "que = df.loc[:,'S1':'S3'].columns.tolist()\n",
    "que.extend(df.loc[:,'S4x':'S6ax'].columns.tolist())\n",
    "que.extend(df.loc[:,'S9':'S10'].columns.tolist())\n",
    "que.extend(df.loc[:,'S10x':'S11a'].columns.tolist())\n",
    "que.extend(df.loc[:,'S11b':'S16'].columns.tolist())\n",
    "\n",
    "# ME,P,C section\n",
    "que.extend(df.loc[:,'ME17':'C5b'].columns.tolist())\n",
    "\n",
    "# FS section\n",
    "que.extend(df.loc[:,'FS89_foster_now':'FS90_older_adults'].columns.tolist())\n",
    "\n",
    "# F section\n",
    "que.extend(f_que)\n",
    "\n",
    "# G section\n",
    "que.extend(g_que)\n",
    "\n",
    "# X section\n",
    "que.extend(df.loc[:,'X18':'X22'].columns.tolist())"
   ]
  },
  {
   "cell_type": "code",
   "execution_count": 320,
   "metadata": {},
   "outputs": [
    {
     "name": "stdout",
     "output_type": "stream",
     "text": [
      "['S1', 'S2', 'S3', 'S4x', 'S5x', 'S7x', 'S6ax', 'S9', 'S10', 'S10x', 'S10z', 'S11a', 'S11b', 'S12', 'S13', 'S14', 'S16', 'ME17', 'ME18', 'ME19', 'ME20a', 'ME20b', 'ME20x', 'ME22_ER', 'P22', 'P23', 'P24', 'P25', 'P26', 'C1a', 'C1b', 'C2a', 'C2b', 'C3a', 'C3b', 'C4a', 'C4b', 'C5a', 'C5b', 'FS89_foster_now', 'FS89_foster_past', 'FS89_group_now', 'FS89_group_past', 'FS89_adopted_now', 'FS89_adopted_past', 'FS89_parents_now', 'FS89_parents_past', 'FS89_relatives_now', 'FS89_relatives_past', 'FS89_spouse_now', 'FS89_spouse_past', 'FS89_boygirlfriend_now', 'FS89_boygirlfriend_past', 'FS89_alone_now', 'FS89_alone_past', 'FS90_younger', 'FS90_teenagers', 'FS90_20_29_adults', 'FS90_30_49_adults', 'FS90_older_adults', 'FS90_younger', 'FS90_teenagers', 'FS90_20_29_adults', 'FS90_30_49_adults', 'FS90_older_adults', 'FS90_younger', 'FS90_teenagers', 'FS90_20_29_adults', 'FS90_30_49_adults', 'FS90_older_adults', 'G2', 'G3a', 'G3b', 'EG1', 'EG2_most', 'EG2_youngest', 'EG2_oldest', 'EG3', 'EG4x', 'G5', 'G5_num', 'G6', 'G7', 'G8', 'G9', 'G10x', 'G11', 'G12x', 'G13', 'G14x', 'G15', 'G16', 'G17', 'G18', 'G19', 'G20', 'G21', 'G22a', 'G22bx', 'G23x', 'G24', 'G25', 'G26', 'G27', 'G28x', 'G29x', 'G30x', 'G31x', 'G32', 'G33', 'G34x', 'G35', 'G36x', 'G36b', 'G37', 'X18', 'X19', 'X20', 'X21', 'X22']\n"
     ]
    }
   ],
   "source": [
    "print(que)"
   ]
  },
  {
   "cell_type": "code",
   "execution_count": 321,
   "metadata": {},
   "outputs": [],
   "source": [
    "for col in que:\n",
    "    df[col].replace('System',np.NaN)  \n",
    "    df[col] = pd.to_numeric(df[col], downcast = 'integer', errors = 'coerce')\n",
    "    df.loc[(df[col] == 999), col] = np.nan\n",
    "    df.loc[(df[col] == 888), col] = np.nan\n",
    "    df.loc[(df[col] == 777), col] = np.nan\n",
    "    df.loc[(df[col] == 555), col] = np.nan"
   ]
  },
  {
   "cell_type": "code",
   "execution_count": 187,
   "metadata": {},
   "outputs": [
    {
     "data": {
      "text/html": [
       "<div>\n",
       "<style scoped>\n",
       "    .dataframe tbody tr th:only-of-type {\n",
       "        vertical-align: middle;\n",
       "    }\n",
       "\n",
       "    .dataframe tbody tr th {\n",
       "        vertical-align: top;\n",
       "    }\n",
       "\n",
       "    .dataframe thead th {\n",
       "        text-align: right;\n",
       "    }\n",
       "</style>\n",
       "<table border=\"1\" class=\"dataframe\">\n",
       "  <thead>\n",
       "    <tr style=\"text-align: right;\">\n",
       "      <th></th>\n",
       "      <th>F1</th>\n",
       "      <th>F2</th>\n",
       "      <th>F3</th>\n",
       "      <th>IF_NO_FAMILY_TEXT</th>\n",
       "      <th>no_fam_num</th>\n",
       "      <th>F4</th>\n",
       "      <th>F5</th>\n",
       "      <th>FS91</th>\n",
       "      <th>FS92</th>\n",
       "      <th>FS93</th>\n",
       "      <th>...</th>\n",
       "      <th>F22x</th>\n",
       "      <th>F23x</th>\n",
       "      <th>F24x</th>\n",
       "      <th>F25x</th>\n",
       "      <th>F26</th>\n",
       "      <th>F27</th>\n",
       "      <th>F28x</th>\n",
       "      <th>F29</th>\n",
       "      <th>F31x</th>\n",
       "      <th>F31b</th>\n",
       "    </tr>\n",
       "  </thead>\n",
       "  <tbody>\n",
       "    <tr>\n",
       "      <th>54</th>\n",
       "      <td>NaN</td>\n",
       "      <td>NaN</td>\n",
       "      <td>NaN</td>\n",
       "      <td>NaN</td>\n",
       "      <td>NaN</td>\n",
       "      <td>NaN</td>\n",
       "      <td>NaN</td>\n",
       "      <td>NaN</td>\n",
       "      <td>NaN</td>\n",
       "      <td>NaN</td>\n",
       "      <td>...</td>\n",
       "      <td>NaN</td>\n",
       "      <td>NaN</td>\n",
       "      <td>NaN</td>\n",
       "      <td>NaN</td>\n",
       "      <td>NaN</td>\n",
       "      <td>NaN</td>\n",
       "      <td>NaN</td>\n",
       "      <td>NaN</td>\n",
       "      <td>NaN</td>\n",
       "      <td>NaN</td>\n",
       "    </tr>\n",
       "  </tbody>\n",
       "</table>\n",
       "<p>1 rows × 49 columns</p>\n",
       "</div>"
      ],
      "text/plain": [
       "    F1  F2  F3  IF_NO_FAMILY_TEXT  no_fam_num  F4  F5  FS91  FS92  FS93  ...   \\\n",
       "54 NaN NaN NaN                NaN         NaN NaN NaN   NaN   NaN   NaN  ...    \n",
       "\n",
       "    F22x  F23x  F24x  F25x  F26  F27  F28x  F29  F31x  F31b  \n",
       "54   NaN   NaN   NaN   NaN  NaN  NaN   NaN  NaN   NaN   NaN  \n",
       "\n",
       "[1 rows x 49 columns]"
      ]
     },
     "execution_count": 187,
     "metadata": {},
     "output_type": "execute_result"
    }
   ],
   "source": [
    "df.loc[[54]][f_que]"
   ]
  },
  {
   "cell_type": "code",
   "execution_count": 128,
   "metadata": {},
   "outputs": [
    {
     "data": {
      "text/plain": [
       "1.0     1088\n",
       "2.0      737\n",
       "0.0      417\n",
       "3.0      219\n",
       "4.0       62\n",
       "5.0       29\n",
       "6.0       11\n",
       "7.0        9\n",
       "10.0       9\n",
       "18.0       3\n",
       "9.0        2\n",
       "14.0       2\n",
       "8.0        2\n",
       "12.0       2\n",
       "50.0       1\n",
       "17.0       1\n",
       "4.5        1\n",
       "13.0       1\n",
       "19.0       1\n",
       "16.0       1\n",
       "15.0       1\n",
       "11.0       1\n",
       "36.0       1\n",
       "Name: FS90_teenagers, dtype: int64"
      ]
     },
     "execution_count": 128,
     "metadata": {},
     "output_type": "execute_result"
    }
   ],
   "source": [
    "df['FS90_teenagers'].value_counts()"
   ]
  },
  {
   "cell_type": "code",
   "execution_count": null,
   "metadata": {},
   "outputs": [],
   "source": []
  }
 ],
 "metadata": {
  "kernelspec": {
   "display_name": "Python 3",
   "language": "python",
   "name": "python3"
  },
  "language_info": {
   "codemirror_mode": {
    "name": "ipython",
    "version": 3
   },
   "file_extension": ".py",
   "mimetype": "text/x-python",
   "name": "python",
   "nbconvert_exporter": "python",
   "pygments_lexer": "ipython3",
   "version": "3.6.5"
  }
 },
 "nbformat": 4,
 "nbformat_minor": 2
}
