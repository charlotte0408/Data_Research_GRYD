{
 "cells": [
  {
   "cell_type": "markdown",
   "metadata": {},
   "source": [
    "# Data Cleaning for SET Data(Continue)\n",
    "\n",
    "Date: 07/05/2019"
   ]
  },
  {
   "cell_type": "markdown",
   "metadata": {},
   "source": [
    "## Unit and Data Import"
   ]
  },
  {
   "cell_type": "code",
   "execution_count": 3,
   "metadata": {},
   "outputs": [],
   "source": [
    "import pandas as pd\n",
    "import numpy as np\n",
    "import matplotlib.pyplot as plt\n",
    "import warnings\n",
    "warnings.filterwarnings('ignore')"
   ]
  },
  {
   "cell_type": "code",
   "execution_count": 4,
   "metadata": {},
   "outputs": [
    {
     "data": {
      "text/html": [
       "<div>\n",
       "<style scoped>\n",
       "    .dataframe tbody tr th:only-of-type {\n",
       "        vertical-align: middle;\n",
       "    }\n",
       "\n",
       "    .dataframe tbody tr th {\n",
       "        vertical-align: top;\n",
       "    }\n",
       "\n",
       "    .dataframe thead th {\n",
       "        text-align: right;\n",
       "    }\n",
       "</style>\n",
       "<table border=\"1\" class=\"dataframe\">\n",
       "  <thead>\n",
       "    <tr style=\"text-align: right;\">\n",
       "      <th></th>\n",
       "      <th>MERGE_DATE</th>\n",
       "      <th>archive_upload_2229</th>\n",
       "      <th>FULL_GRYD_ID_FB</th>\n",
       "      <th>Processing_status</th>\n",
       "      <th>Manual_notes_ETO</th>\n",
       "      <th>no_intake_question</th>\n",
       "      <th>no_retest1_question</th>\n",
       "      <th>no_retest2_question</th>\n",
       "      <th>FEEDBACK_STATUS</th>\n",
       "      <th>date_feedback_uploaded_ETO</th>\n",
       "      <th>...</th>\n",
       "      <th>othgpnorms_4bins</th>\n",
       "      <th>othgpcohe_8bins</th>\n",
       "      <th>othgpID_8bins</th>\n",
       "      <th>othgpemo_8bins</th>\n",
       "      <th>LN_CRIME</th>\n",
       "      <th>LN_VIOLENCE</th>\n",
       "      <th>SETDirections_ETO</th>\n",
       "      <th>SiteName_ETO</th>\n",
       "      <th>PROGRAM_NAME_ETO</th>\n",
       "      <th>enroll_ETO_num</th>\n",
       "    </tr>\n",
       "  </thead>\n",
       "  <tbody>\n",
       "    <tr>\n",
       "      <th>0</th>\n",
       "      <td>2/8/2019</td>\n",
       "      <td></td>\n",
       "      <td>77th 2-13-1494-1</td>\n",
       "      <td>2.0</td>\n",
       "      <td>Missing response(s) S11a text, s11b, x10 and x15</td>\n",
       "      <td></td>\n",
       "      <td></td>\n",
       "      <td></td>\n",
       "      <td>2.0</td>\n",
       "      <td>2/8/2019</td>\n",
       "      <td>...</td>\n",
       "      <td>1</td>\n",
       "      <td>3</td>\n",
       "      <td>5</td>\n",
       "      <td>5</td>\n",
       "      <td>0</td>\n",
       "      <td>0</td>\n",
       "      <td>If individual is still receiving services in 6...</td>\n",
       "      <td>1</td>\n",
       "      <td>2</td>\n",
       "      <td>1</td>\n",
       "    </tr>\n",
       "    <tr>\n",
       "      <th>1</th>\n",
       "      <td>1/16/2015</td>\n",
       "      <td></td>\n",
       "      <td>RPARSA-2-64-1</td>\n",
       "      <td>9.0</td>\n",
       "      <td></td>\n",
       "      <td></td>\n",
       "      <td></td>\n",
       "      <td></td>\n",
       "      <td>0.0</td>\n",
       "      <td></td>\n",
       "      <td>...</td>\n",
       "      <td>1</td>\n",
       "      <td>4</td>\n",
       "      <td>5</td>\n",
       "      <td>3</td>\n",
       "      <td>0</td>\n",
       "      <td>1.6094379124341</td>\n",
       "      <td></td>\n",
       "      <td></td>\n",
       "      <td></td>\n",
       "      <td>1</td>\n",
       "    </tr>\n",
       "    <tr>\n",
       "      <th>2</th>\n",
       "      <td>4/28/2014</td>\n",
       "      <td></td>\n",
       "      <td>RPARSA-2-77-1</td>\n",
       "      <td>9.0</td>\n",
       "      <td></td>\n",
       "      <td></td>\n",
       "      <td></td>\n",
       "      <td></td>\n",
       "      <td>0.0</td>\n",
       "      <td></td>\n",
       "      <td>...</td>\n",
       "      <td>9</td>\n",
       "      <td>9</td>\n",
       "      <td>9</td>\n",
       "      <td>9</td>\n",
       "      <td>1.79175946922805</td>\n",
       "      <td>.693147180559945</td>\n",
       "      <td></td>\n",
       "      <td>1</td>\n",
       "      <td></td>\n",
       "      <td>1</td>\n",
       "    </tr>\n",
       "    <tr>\n",
       "      <th>3</th>\n",
       "      <td>3/18/2019</td>\n",
       "      <td></td>\n",
       "      <td>Northeast-25-68-2</td>\n",
       "      <td>1.0</td>\n",
       "      <td></td>\n",
       "      <td></td>\n",
       "      <td></td>\n",
       "      <td></td>\n",
       "      <td>2.0</td>\n",
       "      <td>3/18/2019</td>\n",
       "      <td>...</td>\n",
       "      <td>9</td>\n",
       "      <td>9</td>\n",
       "      <td>9</td>\n",
       "      <td>9</td>\n",
       "      <td>1.09861228866811</td>\n",
       "      <td>1.38629436111989</td>\n",
       "      <td>If individual is still receiving services in 6...</td>\n",
       "      <td>1</td>\n",
       "      <td>14</td>\n",
       "      <td>1</td>\n",
       "    </tr>\n",
       "    <tr>\n",
       "      <th>4</th>\n",
       "      <td>3/18/2019</td>\n",
       "      <td></td>\n",
       "      <td>Northeast-25-69-2</td>\n",
       "      <td>1.0</td>\n",
       "      <td></td>\n",
       "      <td></td>\n",
       "      <td></td>\n",
       "      <td></td>\n",
       "      <td>2.0</td>\n",
       "      <td>3/18/2019</td>\n",
       "      <td>...</td>\n",
       "      <td>9</td>\n",
       "      <td>9</td>\n",
       "      <td>9</td>\n",
       "      <td>9</td>\n",
       "      <td>.693147180559945</td>\n",
       "      <td>.693147180559945</td>\n",
       "      <td>If individual is still receiving services in 6...</td>\n",
       "      <td>1</td>\n",
       "      <td>14</td>\n",
       "      <td>1</td>\n",
       "    </tr>\n",
       "  </tbody>\n",
       "</table>\n",
       "<p>5 rows × 432 columns</p>\n",
       "</div>"
      ],
      "text/plain": [
       "  MERGE_DATE archive_upload_2229    FULL_GRYD_ID_FB  Processing_status  \\\n",
       "0   2/8/2019                       77th 2-13-1494-1                2.0   \n",
       "1  1/16/2015                          RPARSA-2-64-1                9.0   \n",
       "2  4/28/2014                          RPARSA-2-77-1                9.0   \n",
       "3  3/18/2019                      Northeast-25-68-2                1.0   \n",
       "4  3/18/2019                      Northeast-25-69-2                1.0   \n",
       "\n",
       "                                   Manual_notes_ETO no_intake_question  \\\n",
       "0  Missing response(s) S11a text, s11b, x10 and x15                      \n",
       "1                                                                        \n",
       "2                                                                        \n",
       "3                                                                        \n",
       "4                                                                        \n",
       "\n",
       "  no_retest1_question no_retest2_question  FEEDBACK_STATUS  \\\n",
       "0                                                      2.0   \n",
       "1                                                      0.0   \n",
       "2                                                      0.0   \n",
       "3                                                      2.0   \n",
       "4                                                      2.0   \n",
       "\n",
       "  date_feedback_uploaded_ETO      ...       othgpnorms_4bins  othgpcohe_8bins  \\\n",
       "0                   2/8/2019      ...                      1                3   \n",
       "1                                 ...                      1                4   \n",
       "2                                 ...                      9                9   \n",
       "3                  3/18/2019      ...                      9                9   \n",
       "4                  3/18/2019      ...                      9                9   \n",
       "\n",
       "   othgpID_8bins  othgpemo_8bins          LN_CRIME       LN_VIOLENCE  \\\n",
       "0              5               5                 0                 0   \n",
       "1              5               3                 0   1.6094379124341   \n",
       "2              9               9  1.79175946922805  .693147180559945   \n",
       "3              9               9  1.09861228866811  1.38629436111989   \n",
       "4              9               9  .693147180559945  .693147180559945   \n",
       "\n",
       "                                   SETDirections_ETO SiteName_ETO  \\\n",
       "0  If individual is still receiving services in 6...            1   \n",
       "1                                                                   \n",
       "2                                                               1   \n",
       "3  If individual is still receiving services in 6...            1   \n",
       "4  If individual is still receiving services in 6...            1   \n",
       "\n",
       "  PROGRAM_NAME_ETO enroll_ETO_num  \n",
       "0                2              1  \n",
       "1                               1  \n",
       "2                               1  \n",
       "3               14              1  \n",
       "4               14              1  \n",
       "\n",
       "[5 rows x 432 columns]"
      ]
     },
     "execution_count": 4,
     "metadata": {},
     "output_type": "execute_result"
    }
   ],
   "source": [
    "## Import data set\n",
    "cleaned_filepath = 'SET data archive 3416 cases recd thru end of 03 2019.csv'\n",
    "\n",
    "df = pd.read_csv(cleaned_filepath)\n",
    "df.head()"
   ]
  },
  {
   "cell_type": "code",
   "execution_count": 145,
   "metadata": {},
   "outputs": [
    {
     "data": {
      "text/plain": [
       "1    2020\n",
       "1    1350\n",
       "0      23\n",
       "0      18\n",
       "        5\n",
       "Name: no_fam_num, dtype: int64"
      ]
     },
     "execution_count": 145,
     "metadata": {},
     "output_type": "execute_result"
    }
   ],
   "source": [
    "df['no_fam_num'].value_counts()"
   ]
  },
  {
   "cell_type": "code",
   "execution_count": 146,
   "metadata": {},
   "outputs": [
    {
     "data": {
      "text/plain": [
       "(3416, 432)"
      ]
     },
     "execution_count": 146,
     "metadata": {},
     "output_type": "execute_result"
    }
   ],
   "source": [
    "df.shape"
   ]
  },
  {
   "cell_type": "markdown",
   "metadata": {},
   "source": [
    "## Investigating Data"
   ]
  },
  {
   "cell_type": "markdown",
   "metadata": {},
   "source": [
    "### Drop the wrong version "
   ]
  },
  {
   "cell_type": "code",
   "execution_count": 147,
   "metadata": {},
   "outputs": [
    {
     "data": {
      "text/plain": [
       "3    2800\n",
       "Name: SET_version_num, dtype: int64"
      ]
     },
     "execution_count": 147,
     "metadata": {},
     "output_type": "execute_result"
    }
   ],
   "source": [
    "df = df[df['SET_version_num'] == 3]\n",
    "df['SET_version_num'].value_counts()"
   ]
  },
  {
   "cell_type": "code",
   "execution_count": 148,
   "metadata": {},
   "outputs": [
    {
     "data": {
      "text/html": [
       "<div>\n",
       "<style scoped>\n",
       "    .dataframe tbody tr th:only-of-type {\n",
       "        vertical-align: middle;\n",
       "    }\n",
       "\n",
       "    .dataframe tbody tr th {\n",
       "        vertical-align: top;\n",
       "    }\n",
       "\n",
       "    .dataframe thead th {\n",
       "        text-align: right;\n",
       "    }\n",
       "</style>\n",
       "<table border=\"1\" class=\"dataframe\">\n",
       "  <thead>\n",
       "    <tr style=\"text-align: right;\">\n",
       "      <th></th>\n",
       "      <th>MERGE_DATE</th>\n",
       "      <th>archive_upload_2229</th>\n",
       "      <th>FULL_GRYD_ID_FB</th>\n",
       "      <th>Processing_status</th>\n",
       "      <th>Manual_notes_ETO</th>\n",
       "      <th>no_intake_question</th>\n",
       "      <th>no_retest1_question</th>\n",
       "      <th>no_retest2_question</th>\n",
       "      <th>FEEDBACK_STATUS</th>\n",
       "      <th>date_feedback_uploaded_ETO</th>\n",
       "      <th>...</th>\n",
       "      <th>othgpnorms_4bins</th>\n",
       "      <th>othgpcohe_8bins</th>\n",
       "      <th>othgpID_8bins</th>\n",
       "      <th>othgpemo_8bins</th>\n",
       "      <th>LN_CRIME</th>\n",
       "      <th>LN_VIOLENCE</th>\n",
       "      <th>SETDirections_ETO</th>\n",
       "      <th>SiteName_ETO</th>\n",
       "      <th>PROGRAM_NAME_ETO</th>\n",
       "      <th>enroll_ETO_num</th>\n",
       "    </tr>\n",
       "  </thead>\n",
       "  <tbody>\n",
       "    <tr>\n",
       "      <th>0</th>\n",
       "      <td>2/8/2019</td>\n",
       "      <td></td>\n",
       "      <td>77th 2-13-1494-1</td>\n",
       "      <td>2.0</td>\n",
       "      <td>Missing response(s) S11a text, s11b, x10 and x15</td>\n",
       "      <td></td>\n",
       "      <td></td>\n",
       "      <td></td>\n",
       "      <td>2.0</td>\n",
       "      <td>2/8/2019</td>\n",
       "      <td>...</td>\n",
       "      <td>1</td>\n",
       "      <td>3</td>\n",
       "      <td>5</td>\n",
       "      <td>5</td>\n",
       "      <td>0</td>\n",
       "      <td>0</td>\n",
       "      <td>If individual is still receiving services in 6...</td>\n",
       "      <td>1</td>\n",
       "      <td>2</td>\n",
       "      <td>1</td>\n",
       "    </tr>\n",
       "    <tr>\n",
       "      <th>3</th>\n",
       "      <td>3/18/2019</td>\n",
       "      <td></td>\n",
       "      <td>Northeast-25-68-2</td>\n",
       "      <td>1.0</td>\n",
       "      <td></td>\n",
       "      <td></td>\n",
       "      <td></td>\n",
       "      <td></td>\n",
       "      <td>2.0</td>\n",
       "      <td>3/18/2019</td>\n",
       "      <td>...</td>\n",
       "      <td>9</td>\n",
       "      <td>9</td>\n",
       "      <td>9</td>\n",
       "      <td>9</td>\n",
       "      <td>1.09861228866811</td>\n",
       "      <td>1.38629436111989</td>\n",
       "      <td>If individual is still receiving services in 6...</td>\n",
       "      <td>1</td>\n",
       "      <td>14</td>\n",
       "      <td>1</td>\n",
       "    </tr>\n",
       "    <tr>\n",
       "      <th>4</th>\n",
       "      <td>3/18/2019</td>\n",
       "      <td></td>\n",
       "      <td>Northeast-25-69-2</td>\n",
       "      <td>1.0</td>\n",
       "      <td></td>\n",
       "      <td></td>\n",
       "      <td></td>\n",
       "      <td></td>\n",
       "      <td>2.0</td>\n",
       "      <td>3/18/2019</td>\n",
       "      <td>...</td>\n",
       "      <td>9</td>\n",
       "      <td>9</td>\n",
       "      <td>9</td>\n",
       "      <td>9</td>\n",
       "      <td>.693147180559945</td>\n",
       "      <td>.693147180559945</td>\n",
       "      <td>If individual is still receiving services in 6...</td>\n",
       "      <td>1</td>\n",
       "      <td>14</td>\n",
       "      <td>1</td>\n",
       "    </tr>\n",
       "    <tr>\n",
       "      <th>5</th>\n",
       "      <td>3/18/2019</td>\n",
       "      <td></td>\n",
       "      <td>Northeast-25-70-2</td>\n",
       "      <td>1.0</td>\n",
       "      <td></td>\n",
       "      <td></td>\n",
       "      <td></td>\n",
       "      <td></td>\n",
       "      <td>2.0</td>\n",
       "      <td>3/18/2019</td>\n",
       "      <td>...</td>\n",
       "      <td>9</td>\n",
       "      <td>9</td>\n",
       "      <td>9</td>\n",
       "      <td>9</td>\n",
       "      <td>1.09861228866811</td>\n",
       "      <td>.693147180559945</td>\n",
       "      <td>If individual is still receiving services in 6...</td>\n",
       "      <td>1</td>\n",
       "      <td>14</td>\n",
       "      <td>1</td>\n",
       "    </tr>\n",
       "    <tr>\n",
       "      <th>6</th>\n",
       "      <td>4/14/2017</td>\n",
       "      <td>1</td>\n",
       "      <td>Olympic-12-39-2</td>\n",
       "      <td>3.0</td>\n",
       "      <td>ETO continues to show duplicate GRYD IDs - the...</td>\n",
       "      <td>2</td>\n",
       "      <td></td>\n",
       "      <td></td>\n",
       "      <td>2.0</td>\n",
       "      <td>6/8/2018</td>\n",
       "      <td>...</td>\n",
       "      <td>1</td>\n",
       "      <td>5</td>\n",
       "      <td>2</td>\n",
       "      <td>3</td>\n",
       "      <td>1.38629436111989</td>\n",
       "      <td>1.6094379124341</td>\n",
       "      <td>If individual is still receiving services in 6...</td>\n",
       "      <td>1</td>\n",
       "      <td>17</td>\n",
       "      <td>2</td>\n",
       "    </tr>\n",
       "  </tbody>\n",
       "</table>\n",
       "<p>5 rows × 432 columns</p>\n",
       "</div>"
      ],
      "text/plain": [
       "  MERGE_DATE archive_upload_2229    FULL_GRYD_ID_FB  Processing_status  \\\n",
       "0   2/8/2019                       77th 2-13-1494-1                2.0   \n",
       "3  3/18/2019                      Northeast-25-68-2                1.0   \n",
       "4  3/18/2019                      Northeast-25-69-2                1.0   \n",
       "5  3/18/2019                      Northeast-25-70-2                1.0   \n",
       "6  4/14/2017                   1    Olympic-12-39-2                3.0   \n",
       "\n",
       "                                    Manual_notes_ETO no_intake_question  \\\n",
       "0   Missing response(s) S11a text, s11b, x10 and x15                      \n",
       "3                                                                         \n",
       "4                                                                         \n",
       "5                                                                         \n",
       "6  ETO continues to show duplicate GRYD IDs - the...                  2   \n",
       "\n",
       "  no_retest1_question no_retest2_question  FEEDBACK_STATUS  \\\n",
       "0                                                      2.0   \n",
       "3                                                      2.0   \n",
       "4                                                      2.0   \n",
       "5                                                      2.0   \n",
       "6                                                      2.0   \n",
       "\n",
       "  date_feedback_uploaded_ETO      ...       othgpnorms_4bins  othgpcohe_8bins  \\\n",
       "0                   2/8/2019      ...                      1                3   \n",
       "3                  3/18/2019      ...                      9                9   \n",
       "4                  3/18/2019      ...                      9                9   \n",
       "5                  3/18/2019      ...                      9                9   \n",
       "6                   6/8/2018      ...                      1                5   \n",
       "\n",
       "   othgpID_8bins  othgpemo_8bins          LN_CRIME       LN_VIOLENCE  \\\n",
       "0              5               5                 0                 0   \n",
       "3              9               9  1.09861228866811  1.38629436111989   \n",
       "4              9               9  .693147180559945  .693147180559945   \n",
       "5              9               9  1.09861228866811  .693147180559945   \n",
       "6              2               3  1.38629436111989   1.6094379124341   \n",
       "\n",
       "                                   SETDirections_ETO SiteName_ETO  \\\n",
       "0  If individual is still receiving services in 6...            1   \n",
       "3  If individual is still receiving services in 6...            1   \n",
       "4  If individual is still receiving services in 6...            1   \n",
       "5  If individual is still receiving services in 6...            1   \n",
       "6  If individual is still receiving services in 6...            1   \n",
       "\n",
       "  PROGRAM_NAME_ETO enroll_ETO_num  \n",
       "0                2              1  \n",
       "3               14              1  \n",
       "4               14              1  \n",
       "5               14              1  \n",
       "6               17              2  \n",
       "\n",
       "[5 rows x 432 columns]"
      ]
     },
     "execution_count": 148,
     "metadata": {},
     "output_type": "execute_result"
    }
   ],
   "source": [
    "df.head()"
   ]
  },
  {
   "cell_type": "markdown",
   "metadata": {},
   "source": [
    "### Creating Unique ID"
   ]
  },
  {
   "cell_type": "code",
   "execution_count": 6,
   "metadata": {},
   "outputs": [
    {
     "data": {
      "text/plain": [
       "False    3410\n",
       "True        6\n",
       "Name: ETO_ID_FB, dtype: int64"
      ]
     },
     "execution_count": 6,
     "metadata": {},
     "output_type": "execute_result"
    }
   ],
   "source": [
    "#showing how many ETO_IDs are missing\n",
    "\n",
    "df['ETO_ID_FB'] = pd.to_numeric(df['ETO_ID_FB'], downcast = 'integer', errors = 'coerce')\n",
    "df['ETO_ID_FB'].isnull().value_counts()\n",
    "\n",
    "#None of them are missing"
   ]
  },
  {
   "cell_type": "code",
   "execution_count": 7,
   "metadata": {},
   "outputs": [],
   "source": [
    "# Change the column name to UniqueID"
   ]
  },
  {
   "cell_type": "code",
   "execution_count": 8,
   "metadata": {},
   "outputs": [],
   "source": [
    "df.rename(columns={'ETO_ID_FB':'UniqueID'}, inplace = True)"
   ]
  },
  {
   "cell_type": "markdown",
   "metadata": {},
   "source": [
    "### Column Processing_status"
   ]
  },
  {
   "cell_type": "code",
   "execution_count": 9,
   "metadata": {},
   "outputs": [],
   "source": [
    "#Drop incomplete processing status\n",
    "df = df[df['Processing_status'] < 2]"
   ]
  },
  {
   "cell_type": "code",
   "execution_count": 10,
   "metadata": {},
   "outputs": [
    {
     "data": {
      "text/plain": [
       "1.50    2200\n",
       "1.00    1123\n",
       "1.75      26\n",
       "Name: Processing_status, dtype: int64"
      ]
     },
     "execution_count": 10,
     "metadata": {},
     "output_type": "execute_result"
    }
   ],
   "source": [
    "df.head()\n",
    "df['Processing_status'].value_counts()"
   ]
  },
  {
   "cell_type": "markdown",
   "metadata": {},
   "source": [
    "## Questionnaire part"
   ]
  },
  {
   "cell_type": "markdown",
   "metadata": {},
   "source": [
    "### Family Section (clean data for no family people )"
   ]
  },
  {
   "cell_type": "code",
   "execution_count": 154,
   "metadata": {},
   "outputs": [
    {
     "name": "stdout",
     "output_type": "stream",
     "text": [
      "[54, 97, 99, 243, 604, 606, 607, 626, 938, 1499, 1512, 1537, 1782, 1796, 2217, 2769, 2946, 3124, 3230, 3231, 3233, 3234, 3328, 3329, 1183, 1945]\n"
     ]
    }
   ],
   "source": [
    "#list the questions about family\n",
    "f_que = df.loc[:,'FS90_younger':'FS90_older_adults'].columns.tolist()\n",
    "f_que.extend(df.loc[:,'FS90_younger':'FS90_older_adults'].columns.tolist())\n",
    "\n",
    "#list the index for those who don't have family\n",
    "df['no_fam_num'] = pd.to_numeric(df['no_fam_num'], downcast = 'integer', errors = 'coerce')\n",
    "NoFamppl = df[df['no_fam_num'] == 0].index.tolist()\n",
    "NoFamppl.extend(df[df['no_fam_num'].isnull()].index.tolist())\n",
    "print(NoFamppl)"
   ]
  },
  {
   "cell_type": "code",
   "execution_count": 155,
   "metadata": {},
   "outputs": [
    {
     "data": {
      "text/plain": [
       "0    1453\n",
       "1    1153\n",
       "      163\n",
       "Name: no_group_num, dtype: int64"
      ]
     },
     "execution_count": 155,
     "metadata": {},
     "output_type": "execute_result"
    }
   ],
   "source": [
    "df['no_group_num'].value_counts()"
   ]
  },
  {
   "cell_type": "code",
   "execution_count": 156,
   "metadata": {},
   "outputs": [],
   "source": [
    "for col in f_que:\n",
    "    df[col] = pd.to_numeric(df[col], downcast = 'integer', errors = 'coerce')"
   ]
  },
  {
   "cell_type": "code",
   "execution_count": 157,
   "metadata": {},
   "outputs": [],
   "source": [
    "#change their responses from f1 to f3 to 0\n",
    "for index in NoFamppl:\n",
    "    for col in f_que:\n",
    "        df.loc[index, col] = 0"
   ]
  },
  {
   "cell_type": "code",
   "execution_count": 158,
   "metadata": {},
   "outputs": [],
   "source": [
    "f_que.extend(df.loc[:,'F4':'FS98'].columns.tolist())\n",
    "f_que.extend(df.loc[:,'FS100':'F17x'].columns.tolist())\n",
    "f_que.extend(df.loc[:,'F18':'F31b'].columns.tolist())"
   ]
  },
  {
   "cell_type": "code",
   "execution_count": 159,
   "metadata": {},
   "outputs": [],
   "source": [
    "for col in f_que:\n",
    "    df[col] = pd.to_numeric(df[col], downcast = 'integer', errors = 'coerce')"
   ]
  },
  {
   "cell_type": "code",
   "execution_count": 160,
   "metadata": {},
   "outputs": [],
   "source": [
    "#change their resposnes from f4 to f31b to nan\n",
    "for index in NoFamppl:\n",
    "    for col in f_que:\n",
    "        df.loc[index, col] = np.nan"
   ]
  },
  {
   "cell_type": "markdown",
   "metadata": {},
   "source": [
    "### Group Section (clean data for no group people )"
   ]
  },
  {
   "cell_type": "code",
   "execution_count": 161,
   "metadata": {},
   "outputs": [],
   "source": [
    "#list the index for those who don't have group\n",
    "\n",
    "df['no_group_num'] = pd.to_numeric(df['no_group_num'], downcast = 'integer', errors = 'coerce')\n",
    "NoGrppl = df[df['no_group_num'] == 0].index.tolist()\n",
    "NoGrppl.extend(df[df['no_group_num'].isnull()].index.tolist())\n",
    "\n",
    "#list the group questions\n",
    "g_que = df.loc[:,'G2':'G9'].columns.tolist()\n",
    "g_que.extend(df.loc[:,'G10x':'G23x'].columns.tolist())\n",
    "g_que.extend(df.loc[:,'G24':'G37'].columns.tolist())"
   ]
  },
  {
   "cell_type": "code",
   "execution_count": 162,
   "metadata": {},
   "outputs": [
    {
     "data": {
      "text/plain": [
       "0.0    1453\n",
       "1.0    1153\n",
       "Name: no_group_num, dtype: int64"
      ]
     },
     "execution_count": 162,
     "metadata": {},
     "output_type": "execute_result"
    }
   ],
   "source": [
    "df['no_group_num'].value_counts()"
   ]
  },
  {
   "cell_type": "code",
   "execution_count": 163,
   "metadata": {},
   "outputs": [],
   "source": [
    "for col in g_que:\n",
    "    df[col] = pd.to_numeric(df[col], downcast = 'integer', errors = 'coerce')"
   ]
  },
  {
   "cell_type": "code",
   "execution_count": 164,
   "metadata": {},
   "outputs": [],
   "source": [
    "#change their resposnes from G2 to G37 to nan\n",
    "for index in NoGrppl:\n",
    "    for col in g_que:\n",
    "        df.loc[index, col] = np.nan"
   ]
  },
  {
   "cell_type": "markdown",
   "metadata": {},
   "source": [
    "### Other Group (O) Section"
   ]
  },
  {
   "cell_type": "code",
   "execution_count": 165,
   "metadata": {},
   "outputs": [],
   "source": [
    "#change all the columns to numeric\n",
    "\n",
    "#for col in o_que:\n",
    "#    df[col] = pd.to_numeric(df[col], downcast = 'integer', errors = 'coerce')"
   ]
  },
  {
   "cell_type": "code",
   "execution_count": 166,
   "metadata": {},
   "outputs": [],
   "source": [
    "df['no_othgp_num'] = pd.to_numeric(df['no_othgp_num'], downcast = 'integer', errors = 'coerce')\n",
    "NoOGrppl = df[df['no_othgp_num'] != 1].index.tolist()\n"
   ]
  },
  {
   "cell_type": "code",
   "execution_count": 167,
   "metadata": {},
   "outputs": [],
   "source": [
    "for col in o_que:\n",
    "    for index in NoOGrppl:\n",
    "        df.loc[index, col] = np.nan"
   ]
  },
  {
   "cell_type": "code",
   "execution_count": 168,
   "metadata": {},
   "outputs": [
    {
     "data": {
      "text/plain": [
       "3.0      342\n",
       "4.0      215\n",
       "5.0      198\n",
       "2.0      144\n",
       "0.0       80\n",
       "1.0       78\n",
       "999.0      7\n",
       "888.0      1\n",
       "777.0      1\n",
       "555.0      1\n",
       "Name: O4, dtype: int64"
      ]
     },
     "execution_count": 168,
     "metadata": {},
     "output_type": "execute_result"
    }
   ],
   "source": [
    "df['O4'].value_counts()"
   ]
  },
  {
   "cell_type": "markdown",
   "metadata": {},
   "source": [
    "### Getting rid of Nan"
   ]
  },
  {
   "cell_type": "code",
   "execution_count": 171,
   "metadata": {},
   "outputs": [],
   "source": [
    "# S section\n",
    "que = df.loc[:,'S1':'S3'].columns.tolist()\n",
    "que.extend(df.loc[:,'S4x':'S6ax'].columns.tolist())\n",
    "que.extend(df.loc[:,'S9':'S10'].columns.tolist())\n",
    "que.extend(df.loc[:,'S10x':'S11a'].columns.tolist())\n",
    "que.extend(df.loc[:,'S11b':'S16'].columns.tolist())\n",
    "\n",
    "# ME,P,C section\n",
    "que.extend(df.loc[:,'ME17':'C5b'].columns.tolist())\n",
    "\n",
    "# FS section\n",
    "que.extend(df.loc[:,'FS89_foster_now':'FS90_older_adults'].columns.tolist())\n",
    "\n",
    "# F section\n",
    "que.extend(f_que)\n",
    "\n",
    "# G section\n",
    "que.extend(g_que)\n",
    "\n",
    "# X section\n",
    "que.extend(df.loc[:,'X18':'X22'].columns.tolist())\n",
    "que.extend(df.loc[:,'X10':'X17'].columns.tolist())\n",
    "\n",
    "# O section\n",
    "o_que = df.loc[:,'O4':'O9'].columns.tolist()\n",
    "o_que.extend(df.loc[:,'O10':'O15'].columns.tolist())\n",
    "o_que.extend(df.loc[:,'O16':'O24'].columns.tolist())\n",
    "que.extend(o_que)\n",
    "que.extend(['A1','A2','A3'])\n",
    "\n",
    "# IC section\n",
    "que.extend(df.loc[:,'IC1':'IC7'].columns.tolist())\n",
    "\n",
    "# CIW section\n",
    "que.extend(df.loc[:,'CIW1':'CIW5'].columns.tolist())"
   ]
  },
  {
   "cell_type": "code",
   "execution_count": 65,
   "metadata": {},
   "outputs": [
    {
     "name": "stdout",
     "output_type": "stream",
     "text": [
      "['S1', 'S2', 'S3', 'S4x', 'S5x', 'S7x', 'S6ax', 'S9', 'S10', 'S10x', 'S10z', 'S11a', 'S11b', 'S12', 'S13', 'S14', 'S16', 'ME17', 'ME18', 'ME19', 'ME20a', 'ME20b', 'ME20x', 'ME22_ER', 'P22', 'P23', 'P24', 'P25', 'P26', 'C1a', 'C1b', 'C2a', 'C2b', 'C3a', 'C3b', 'C4a', 'C4b', 'C5a', 'C5b', 'FS89_foster_now', 'FS89_foster_past', 'FS89_group_now', 'FS89_group_past', 'FS89_adopted_now', 'FS89_adopted_past', 'FS89_parents_now', 'FS89_parents_past', 'FS89_relatives_now', 'FS89_relatives_past', 'FS89_spouse_now', 'FS89_spouse_past', 'FS89_boygirlfriend_now', 'FS89_boygirlfriend_past', 'FS89_alone_now', 'FS89_alone_past', 'FS90_younger', 'FS90_teenagers', 'FS90_20_29_adults', 'FS90_30_49_adults', 'FS90_older_adults', 'FS90_younger', 'FS90_teenagers', 'FS90_20_29_adults', 'FS90_30_49_adults', 'FS90_older_adults', 'FS90_younger', 'FS90_teenagers', 'FS90_20_29_adults', 'FS90_30_49_adults', 'FS90_older_adults', 'F4', 'F5', 'FS91', 'FS92', 'FS93', 'FS94', 'FS95', 'FS96', 'FS97', 'FS98', 'FS100', 'FS101', 'FS102', 'FS103', 'FS104', 'FS105', 'F7', 'F8', 'F9', 'F10', 'F11', 'F12', 'F13', 'F14', 'F15', 'F16a', 'F16bx', 'F17x', 'F18', 'F19', 'F20', 'F21', 'F22x', 'F23x', 'F24x', 'F25x', 'F26', 'F27', 'F28x', 'F29', 'F31x', 'F31b', 'G2', 'G3a', 'G3b', 'EG1', 'EG2_most', 'EG2_youngest', 'EG2_oldest', 'EG3', 'EG4x', 'G5', 'G5_num', 'G6', 'G7', 'G8', 'G9', 'G10x', 'G11', 'G12x', 'G13', 'G14x', 'G15', 'G16', 'G17', 'G18', 'G19', 'G20', 'G21', 'G22a', 'G22bx', 'G23x', 'G24', 'G25', 'G26', 'G27', 'G28x', 'G29x', 'G30x', 'G31x', 'G32', 'G33', 'G34x', 'G35', 'G36x', 'G36b', 'G37', 'X18', 'X19', 'X20', 'X21', 'X22', 'X10', 'X11', 'X12', 'X13', 'X14', 'X15', 'X16', 'X17', 'O4', 'O5', 'O6', 'O7x', 'O8', 'O9', 'O10', 'O11', 'O12', 'O13', 'O14', 'O15', 'O16', 'O17', 'O18', 'O19a', 'O19b', 'O20x', 'O21', 'O22', 'O23', 'O24', 'A1', 'A2', 'A3']\n"
     ]
    }
   ],
   "source": [
    "print(que)"
   ]
  },
  {
   "cell_type": "code",
   "execution_count": 172,
   "metadata": {},
   "outputs": [],
   "source": [
    "for col in que:\n",
    "    df[col].replace('System',np.NaN)  \n",
    "    df[col] = pd.to_numeric(df[col], downcast = 'integer', errors = 'coerce')\n",
    "    df.loc[(df[col] == 999), col] = np.nan\n",
    "    df.loc[(df[col] == 888), col] = np.nan\n",
    "    df.loc[(df[col] == 777), col] = np.nan\n",
    "    df.loc[(df[col] == 555), col] = np.nan"
   ]
  },
  {
   "cell_type": "markdown",
   "metadata": {},
   "source": [
    "## Create new dataframe"
   ]
  },
  {
   "cell_type": "code",
   "execution_count": 11,
   "metadata": {},
   "outputs": [],
   "source": [
    "df_SETque = df.loc[:,'UniqueID']\n",
    "df_SETque = df.loc[:,'no_intake_question':'no_retest2_question']\n",
    "df_SETque['UniqueID'] = df.loc[:,'UniqueID']\n",
    "cols = df_SETque.columns.tolist()\n",
    "cols = cols[-1:] + cols[:-1]\n",
    "df_SETque = df_SETque[cols]"
   ]
  },
  {
   "cell_type": "code",
   "execution_count": 20,
   "metadata": {},
   "outputs": [],
   "source": [
    "col_needed = df.loc[:,'SET_program_num':'baseline_type'].columns.tolist()\n",
    "col_needed.extend('enroll_SET_type_num')\n",
    "col_needed.extend(df.loc[:,'cycle_1_1':'retest'].columns.tolist())"
   ]
  },
  {
   "cell_type": "code",
   "execution_count": 24,
   "metadata": {},
   "outputs": [
    {
     "ename": "KeyError",
     "evalue": "'e'",
     "output_type": "error",
     "traceback": [
      "\u001b[1;31m---------------------------------------------------------------------------\u001b[0m",
      "\u001b[1;31mKeyError\u001b[0m                                  Traceback (most recent call last)",
      "\u001b[1;32mC:\\Program Files (x86)\\Microsoft Visual Studio\\Shared\\Anaconda3_64\\lib\\site-packages\\pandas\\core\\indexes\\base.py\u001b[0m in \u001b[0;36mget_loc\u001b[1;34m(self, key, method, tolerance)\u001b[0m\n\u001b[0;32m   3062\u001b[0m             \u001b[1;32mtry\u001b[0m\u001b[1;33m:\u001b[0m\u001b[1;33m\u001b[0m\u001b[0m\n\u001b[1;32m-> 3063\u001b[1;33m                 \u001b[1;32mreturn\u001b[0m \u001b[0mself\u001b[0m\u001b[1;33m.\u001b[0m\u001b[0m_engine\u001b[0m\u001b[1;33m.\u001b[0m\u001b[0mget_loc\u001b[0m\u001b[1;33m(\u001b[0m\u001b[0mkey\u001b[0m\u001b[1;33m)\u001b[0m\u001b[1;33m\u001b[0m\u001b[0m\n\u001b[0m\u001b[0;32m   3064\u001b[0m             \u001b[1;32mexcept\u001b[0m \u001b[0mKeyError\u001b[0m\u001b[1;33m:\u001b[0m\u001b[1;33m\u001b[0m\u001b[0m\n",
      "\u001b[1;32mpandas\\_libs\\index.pyx\u001b[0m in \u001b[0;36mpandas._libs.index.IndexEngine.get_loc\u001b[1;34m()\u001b[0m\n",
      "\u001b[1;32mpandas\\_libs\\index.pyx\u001b[0m in \u001b[0;36mpandas._libs.index.IndexEngine.get_loc\u001b[1;34m()\u001b[0m\n",
      "\u001b[1;32mpandas\\_libs\\hashtable_class_helper.pxi\u001b[0m in \u001b[0;36mpandas._libs.hashtable.PyObjectHashTable.get_item\u001b[1;34m()\u001b[0m\n",
      "\u001b[1;32mpandas\\_libs\\hashtable_class_helper.pxi\u001b[0m in \u001b[0;36mpandas._libs.hashtable.PyObjectHashTable.get_item\u001b[1;34m()\u001b[0m\n",
      "\u001b[1;31mKeyError\u001b[0m: 'e'",
      "\nDuring handling of the above exception, another exception occurred:\n",
      "\u001b[1;31mKeyError\u001b[0m                                  Traceback (most recent call last)",
      "\u001b[1;32m<ipython-input-24-9f755998e3a4>\u001b[0m in \u001b[0;36m<module>\u001b[1;34m()\u001b[0m\n\u001b[0;32m      1\u001b[0m \u001b[1;32mfor\u001b[0m \u001b[0mcol\u001b[0m \u001b[1;32min\u001b[0m \u001b[0mcol_needed\u001b[0m\u001b[1;33m:\u001b[0m\u001b[1;33m\u001b[0m\u001b[0m\n\u001b[1;32m----> 2\u001b[1;33m     \u001b[0mdf_SETque\u001b[0m\u001b[1;33m.\u001b[0m\u001b[0massign\u001b[0m\u001b[1;33m(\u001b[0m\u001b[0mcol\u001b[0m \u001b[1;33m=\u001b[0m \u001b[0mdf\u001b[0m\u001b[1;33m[\u001b[0m\u001b[0mcol\u001b[0m\u001b[1;33m]\u001b[0m\u001b[1;33m)\u001b[0m\u001b[1;33m\u001b[0m\u001b[0m\n\u001b[0m",
      "\u001b[1;32mC:\\Program Files (x86)\\Microsoft Visual Studio\\Shared\\Anaconda3_64\\lib\\site-packages\\pandas\\core\\frame.py\u001b[0m in \u001b[0;36m__getitem__\u001b[1;34m(self, key)\u001b[0m\n\u001b[0;32m   2683\u001b[0m             \u001b[1;32mreturn\u001b[0m \u001b[0mself\u001b[0m\u001b[1;33m.\u001b[0m\u001b[0m_getitem_multilevel\u001b[0m\u001b[1;33m(\u001b[0m\u001b[0mkey\u001b[0m\u001b[1;33m)\u001b[0m\u001b[1;33m\u001b[0m\u001b[0m\n\u001b[0;32m   2684\u001b[0m         \u001b[1;32melse\u001b[0m\u001b[1;33m:\u001b[0m\u001b[1;33m\u001b[0m\u001b[0m\n\u001b[1;32m-> 2685\u001b[1;33m             \u001b[1;32mreturn\u001b[0m \u001b[0mself\u001b[0m\u001b[1;33m.\u001b[0m\u001b[0m_getitem_column\u001b[0m\u001b[1;33m(\u001b[0m\u001b[0mkey\u001b[0m\u001b[1;33m)\u001b[0m\u001b[1;33m\u001b[0m\u001b[0m\n\u001b[0m\u001b[0;32m   2686\u001b[0m \u001b[1;33m\u001b[0m\u001b[0m\n\u001b[0;32m   2687\u001b[0m     \u001b[1;32mdef\u001b[0m \u001b[0m_getitem_column\u001b[0m\u001b[1;33m(\u001b[0m\u001b[0mself\u001b[0m\u001b[1;33m,\u001b[0m \u001b[0mkey\u001b[0m\u001b[1;33m)\u001b[0m\u001b[1;33m:\u001b[0m\u001b[1;33m\u001b[0m\u001b[0m\n",
      "\u001b[1;32mC:\\Program Files (x86)\\Microsoft Visual Studio\\Shared\\Anaconda3_64\\lib\\site-packages\\pandas\\core\\frame.py\u001b[0m in \u001b[0;36m_getitem_column\u001b[1;34m(self, key)\u001b[0m\n\u001b[0;32m   2690\u001b[0m         \u001b[1;31m# get column\u001b[0m\u001b[1;33m\u001b[0m\u001b[1;33m\u001b[0m\u001b[0m\n\u001b[0;32m   2691\u001b[0m         \u001b[1;32mif\u001b[0m \u001b[0mself\u001b[0m\u001b[1;33m.\u001b[0m\u001b[0mcolumns\u001b[0m\u001b[1;33m.\u001b[0m\u001b[0mis_unique\u001b[0m\u001b[1;33m:\u001b[0m\u001b[1;33m\u001b[0m\u001b[0m\n\u001b[1;32m-> 2692\u001b[1;33m             \u001b[1;32mreturn\u001b[0m \u001b[0mself\u001b[0m\u001b[1;33m.\u001b[0m\u001b[0m_get_item_cache\u001b[0m\u001b[1;33m(\u001b[0m\u001b[0mkey\u001b[0m\u001b[1;33m)\u001b[0m\u001b[1;33m\u001b[0m\u001b[0m\n\u001b[0m\u001b[0;32m   2693\u001b[0m \u001b[1;33m\u001b[0m\u001b[0m\n\u001b[0;32m   2694\u001b[0m         \u001b[1;31m# duplicate columns & possible reduce dimensionality\u001b[0m\u001b[1;33m\u001b[0m\u001b[1;33m\u001b[0m\u001b[0m\n",
      "\u001b[1;32mC:\\Program Files (x86)\\Microsoft Visual Studio\\Shared\\Anaconda3_64\\lib\\site-packages\\pandas\\core\\generic.py\u001b[0m in \u001b[0;36m_get_item_cache\u001b[1;34m(self, item)\u001b[0m\n\u001b[0;32m   2484\u001b[0m         \u001b[0mres\u001b[0m \u001b[1;33m=\u001b[0m \u001b[0mcache\u001b[0m\u001b[1;33m.\u001b[0m\u001b[0mget\u001b[0m\u001b[1;33m(\u001b[0m\u001b[0mitem\u001b[0m\u001b[1;33m)\u001b[0m\u001b[1;33m\u001b[0m\u001b[0m\n\u001b[0;32m   2485\u001b[0m         \u001b[1;32mif\u001b[0m \u001b[0mres\u001b[0m \u001b[1;32mis\u001b[0m \u001b[1;32mNone\u001b[0m\u001b[1;33m:\u001b[0m\u001b[1;33m\u001b[0m\u001b[0m\n\u001b[1;32m-> 2486\u001b[1;33m             \u001b[0mvalues\u001b[0m \u001b[1;33m=\u001b[0m \u001b[0mself\u001b[0m\u001b[1;33m.\u001b[0m\u001b[0m_data\u001b[0m\u001b[1;33m.\u001b[0m\u001b[0mget\u001b[0m\u001b[1;33m(\u001b[0m\u001b[0mitem\u001b[0m\u001b[1;33m)\u001b[0m\u001b[1;33m\u001b[0m\u001b[0m\n\u001b[0m\u001b[0;32m   2487\u001b[0m             \u001b[0mres\u001b[0m \u001b[1;33m=\u001b[0m \u001b[0mself\u001b[0m\u001b[1;33m.\u001b[0m\u001b[0m_box_item_values\u001b[0m\u001b[1;33m(\u001b[0m\u001b[0mitem\u001b[0m\u001b[1;33m,\u001b[0m \u001b[0mvalues\u001b[0m\u001b[1;33m)\u001b[0m\u001b[1;33m\u001b[0m\u001b[0m\n\u001b[0;32m   2488\u001b[0m             \u001b[0mcache\u001b[0m\u001b[1;33m[\u001b[0m\u001b[0mitem\u001b[0m\u001b[1;33m]\u001b[0m \u001b[1;33m=\u001b[0m \u001b[0mres\u001b[0m\u001b[1;33m\u001b[0m\u001b[0m\n",
      "\u001b[1;32mC:\\Program Files (x86)\\Microsoft Visual Studio\\Shared\\Anaconda3_64\\lib\\site-packages\\pandas\\core\\internals.py\u001b[0m in \u001b[0;36mget\u001b[1;34m(self, item, fastpath)\u001b[0m\n\u001b[0;32m   4113\u001b[0m \u001b[1;33m\u001b[0m\u001b[0m\n\u001b[0;32m   4114\u001b[0m             \u001b[1;32mif\u001b[0m \u001b[1;32mnot\u001b[0m \u001b[0misna\u001b[0m\u001b[1;33m(\u001b[0m\u001b[0mitem\u001b[0m\u001b[1;33m)\u001b[0m\u001b[1;33m:\u001b[0m\u001b[1;33m\u001b[0m\u001b[0m\n\u001b[1;32m-> 4115\u001b[1;33m                 \u001b[0mloc\u001b[0m \u001b[1;33m=\u001b[0m \u001b[0mself\u001b[0m\u001b[1;33m.\u001b[0m\u001b[0mitems\u001b[0m\u001b[1;33m.\u001b[0m\u001b[0mget_loc\u001b[0m\u001b[1;33m(\u001b[0m\u001b[0mitem\u001b[0m\u001b[1;33m)\u001b[0m\u001b[1;33m\u001b[0m\u001b[0m\n\u001b[0m\u001b[0;32m   4116\u001b[0m             \u001b[1;32melse\u001b[0m\u001b[1;33m:\u001b[0m\u001b[1;33m\u001b[0m\u001b[0m\n\u001b[0;32m   4117\u001b[0m                 \u001b[0mindexer\u001b[0m \u001b[1;33m=\u001b[0m \u001b[0mnp\u001b[0m\u001b[1;33m.\u001b[0m\u001b[0marange\u001b[0m\u001b[1;33m(\u001b[0m\u001b[0mlen\u001b[0m\u001b[1;33m(\u001b[0m\u001b[0mself\u001b[0m\u001b[1;33m.\u001b[0m\u001b[0mitems\u001b[0m\u001b[1;33m)\u001b[0m\u001b[1;33m)\u001b[0m\u001b[1;33m[\u001b[0m\u001b[0misna\u001b[0m\u001b[1;33m(\u001b[0m\u001b[0mself\u001b[0m\u001b[1;33m.\u001b[0m\u001b[0mitems\u001b[0m\u001b[1;33m)\u001b[0m\u001b[1;33m]\u001b[0m\u001b[1;33m\u001b[0m\u001b[0m\n",
      "\u001b[1;32mC:\\Program Files (x86)\\Microsoft Visual Studio\\Shared\\Anaconda3_64\\lib\\site-packages\\pandas\\core\\indexes\\base.py\u001b[0m in \u001b[0;36mget_loc\u001b[1;34m(self, key, method, tolerance)\u001b[0m\n\u001b[0;32m   3063\u001b[0m                 \u001b[1;32mreturn\u001b[0m \u001b[0mself\u001b[0m\u001b[1;33m.\u001b[0m\u001b[0m_engine\u001b[0m\u001b[1;33m.\u001b[0m\u001b[0mget_loc\u001b[0m\u001b[1;33m(\u001b[0m\u001b[0mkey\u001b[0m\u001b[1;33m)\u001b[0m\u001b[1;33m\u001b[0m\u001b[0m\n\u001b[0;32m   3064\u001b[0m             \u001b[1;32mexcept\u001b[0m \u001b[0mKeyError\u001b[0m\u001b[1;33m:\u001b[0m\u001b[1;33m\u001b[0m\u001b[0m\n\u001b[1;32m-> 3065\u001b[1;33m                 \u001b[1;32mreturn\u001b[0m \u001b[0mself\u001b[0m\u001b[1;33m.\u001b[0m\u001b[0m_engine\u001b[0m\u001b[1;33m.\u001b[0m\u001b[0mget_loc\u001b[0m\u001b[1;33m(\u001b[0m\u001b[0mself\u001b[0m\u001b[1;33m.\u001b[0m\u001b[0m_maybe_cast_indexer\u001b[0m\u001b[1;33m(\u001b[0m\u001b[0mkey\u001b[0m\u001b[1;33m)\u001b[0m\u001b[1;33m)\u001b[0m\u001b[1;33m\u001b[0m\u001b[0m\n\u001b[0m\u001b[0;32m   3066\u001b[0m \u001b[1;33m\u001b[0m\u001b[0m\n\u001b[0;32m   3067\u001b[0m         \u001b[0mindexer\u001b[0m \u001b[1;33m=\u001b[0m \u001b[0mself\u001b[0m\u001b[1;33m.\u001b[0m\u001b[0mget_indexer\u001b[0m\u001b[1;33m(\u001b[0m\u001b[1;33m[\u001b[0m\u001b[0mkey\u001b[0m\u001b[1;33m]\u001b[0m\u001b[1;33m,\u001b[0m \u001b[0mmethod\u001b[0m\u001b[1;33m=\u001b[0m\u001b[0mmethod\u001b[0m\u001b[1;33m,\u001b[0m \u001b[0mtolerance\u001b[0m\u001b[1;33m=\u001b[0m\u001b[0mtolerance\u001b[0m\u001b[1;33m)\u001b[0m\u001b[1;33m\u001b[0m\u001b[0m\n",
      "\u001b[1;32mpandas\\_libs\\index.pyx\u001b[0m in \u001b[0;36mpandas._libs.index.IndexEngine.get_loc\u001b[1;34m()\u001b[0m\n",
      "\u001b[1;32mpandas\\_libs\\index.pyx\u001b[0m in \u001b[0;36mpandas._libs.index.IndexEngine.get_loc\u001b[1;34m()\u001b[0m\n",
      "\u001b[1;32mpandas\\_libs\\hashtable_class_helper.pxi\u001b[0m in \u001b[0;36mpandas._libs.hashtable.PyObjectHashTable.get_item\u001b[1;34m()\u001b[0m\n",
      "\u001b[1;32mpandas\\_libs\\hashtable_class_helper.pxi\u001b[0m in \u001b[0;36mpandas._libs.hashtable.PyObjectHashTable.get_item\u001b[1;34m()\u001b[0m\n",
      "\u001b[1;31mKeyError\u001b[0m: 'e'"
     ]
    }
   ],
   "source": [
    "for col in col_needed:\n",
    "    df_SETque.assign(col = df[col])"
   ]
  },
  {
   "cell_type": "code",
   "execution_count": 188,
   "metadata": {},
   "outputs": [
    {
     "data": {
      "text/html": [
       "<div>\n",
       "<style scoped>\n",
       "    .dataframe tbody tr th:only-of-type {\n",
       "        vertical-align: middle;\n",
       "    }\n",
       "\n",
       "    .dataframe tbody tr th {\n",
       "        vertical-align: top;\n",
       "    }\n",
       "\n",
       "    .dataframe thead th {\n",
       "        text-align: right;\n",
       "    }\n",
       "</style>\n",
       "<table border=\"1\" class=\"dataframe\">\n",
       "  <thead>\n",
       "    <tr style=\"text-align: right;\">\n",
       "      <th></th>\n",
       "      <th>UniqueID</th>\n",
       "      <th>no_intake_question</th>\n",
       "      <th>no_retest1_question</th>\n",
       "      <th>no_retest2_question</th>\n",
       "    </tr>\n",
       "  </thead>\n",
       "  <tbody>\n",
       "    <tr>\n",
       "      <th>3</th>\n",
       "      <td>49866</td>\n",
       "      <td></td>\n",
       "      <td></td>\n",
       "      <td></td>\n",
       "    </tr>\n",
       "    <tr>\n",
       "      <th>4</th>\n",
       "      <td>49868</td>\n",
       "      <td></td>\n",
       "      <td></td>\n",
       "      <td></td>\n",
       "    </tr>\n",
       "    <tr>\n",
       "      <th>5</th>\n",
       "      <td>49870</td>\n",
       "      <td></td>\n",
       "      <td></td>\n",
       "      <td></td>\n",
       "    </tr>\n",
       "    <tr>\n",
       "      <th>8</th>\n",
       "      <td>47002</td>\n",
       "      <td></td>\n",
       "      <td></td>\n",
       "      <td></td>\n",
       "    </tr>\n",
       "    <tr>\n",
       "      <th>13</th>\n",
       "      <td>41570</td>\n",
       "      <td></td>\n",
       "      <td></td>\n",
       "      <td></td>\n",
       "    </tr>\n",
       "    <tr>\n",
       "      <th>14</th>\n",
       "      <td>42392</td>\n",
       "      <td></td>\n",
       "      <td></td>\n",
       "      <td></td>\n",
       "    </tr>\n",
       "    <tr>\n",
       "      <th>15</th>\n",
       "      <td>43298</td>\n",
       "      <td></td>\n",
       "      <td></td>\n",
       "      <td></td>\n",
       "    </tr>\n",
       "    <tr>\n",
       "      <th>16</th>\n",
       "      <td>45090</td>\n",
       "      <td></td>\n",
       "      <td></td>\n",
       "      <td></td>\n",
       "    </tr>\n",
       "    <tr>\n",
       "      <th>26</th>\n",
       "      <td>26789</td>\n",
       "      <td></td>\n",
       "      <td></td>\n",
       "      <td></td>\n",
       "    </tr>\n",
       "    <tr>\n",
       "      <th>27</th>\n",
       "      <td>35390</td>\n",
       "      <td></td>\n",
       "      <td></td>\n",
       "      <td></td>\n",
       "    </tr>\n",
       "    <tr>\n",
       "      <th>28</th>\n",
       "      <td>31435</td>\n",
       "      <td></td>\n",
       "      <td></td>\n",
       "      <td></td>\n",
       "    </tr>\n",
       "    <tr>\n",
       "      <th>29</th>\n",
       "      <td>33278</td>\n",
       "      <td></td>\n",
       "      <td></td>\n",
       "      <td></td>\n",
       "    </tr>\n",
       "    <tr>\n",
       "      <th>30</th>\n",
       "      <td>24792</td>\n",
       "      <td>2</td>\n",
       "      <td>2</td>\n",
       "      <td></td>\n",
       "    </tr>\n",
       "    <tr>\n",
       "      <th>31</th>\n",
       "      <td>34214</td>\n",
       "      <td></td>\n",
       "      <td></td>\n",
       "      <td></td>\n",
       "    </tr>\n",
       "    <tr>\n",
       "      <th>32</th>\n",
       "      <td>34262</td>\n",
       "      <td></td>\n",
       "      <td></td>\n",
       "      <td></td>\n",
       "    </tr>\n",
       "    <tr>\n",
       "      <th>33</th>\n",
       "      <td>35720</td>\n",
       "      <td></td>\n",
       "      <td></td>\n",
       "      <td></td>\n",
       "    </tr>\n",
       "    <tr>\n",
       "      <th>34</th>\n",
       "      <td>36534</td>\n",
       "      <td></td>\n",
       "      <td></td>\n",
       "      <td></td>\n",
       "    </tr>\n",
       "    <tr>\n",
       "      <th>35</th>\n",
       "      <td>37250</td>\n",
       "      <td></td>\n",
       "      <td></td>\n",
       "      <td></td>\n",
       "    </tr>\n",
       "    <tr>\n",
       "      <th>36</th>\n",
       "      <td>37250</td>\n",
       "      <td></td>\n",
       "      <td></td>\n",
       "      <td></td>\n",
       "    </tr>\n",
       "    <tr>\n",
       "      <th>37</th>\n",
       "      <td>37632</td>\n",
       "      <td></td>\n",
       "      <td></td>\n",
       "      <td></td>\n",
       "    </tr>\n",
       "  </tbody>\n",
       "</table>\n",
       "</div>"
      ],
      "text/plain": [
       "    UniqueID no_intake_question no_retest1_question no_retest2_question\n",
       "3      49866                                                           \n",
       "4      49868                                                           \n",
       "5      49870                                                           \n",
       "8      47002                                                           \n",
       "13     41570                                                           \n",
       "14     42392                                                           \n",
       "15     43298                                                           \n",
       "16     45090                                                           \n",
       "26     26789                                                           \n",
       "27     35390                                                           \n",
       "28     31435                                                           \n",
       "29     33278                                                           \n",
       "30     24792                  2                   2                    \n",
       "31     34214                                                           \n",
       "32     34262                                                           \n",
       "33     35720                                                           \n",
       "34     36534                                                           \n",
       "35     37250                                                           \n",
       "36     37250                                                           \n",
       "37     37632                                                           "
      ]
     },
     "execution_count": 188,
     "metadata": {},
     "output_type": "execute_result"
    }
   ],
   "source": [
    "df_SETque.head(20)"
   ]
  },
  {
   "cell_type": "code",
   "execution_count": 177,
   "metadata": {},
   "outputs": [
    {
     "data": {
      "text/html": [
       "<div>\n",
       "<style scoped>\n",
       "    .dataframe tbody tr th:only-of-type {\n",
       "        vertical-align: middle;\n",
       "    }\n",
       "\n",
       "    .dataframe tbody tr th {\n",
       "        vertical-align: top;\n",
       "    }\n",
       "\n",
       "    .dataframe thead th {\n",
       "        text-align: right;\n",
       "    }\n",
       "</style>\n",
       "<table border=\"1\" class=\"dataframe\">\n",
       "  <thead>\n",
       "    <tr style=\"text-align: right;\">\n",
       "      <th></th>\n",
       "      <th>UniqueID</th>\n",
       "      <th>S1</th>\n",
       "      <th>S2</th>\n",
       "      <th>S3</th>\n",
       "      <th>S4x</th>\n",
       "      <th>S5x</th>\n",
       "      <th>S7x</th>\n",
       "      <th>S6ax</th>\n",
       "      <th>S9</th>\n",
       "      <th>S10</th>\n",
       "      <th>...</th>\n",
       "      <th>IC3</th>\n",
       "      <th>IC4</th>\n",
       "      <th>IC5</th>\n",
       "      <th>IC6</th>\n",
       "      <th>IC7</th>\n",
       "      <th>CIW1</th>\n",
       "      <th>CIW2</th>\n",
       "      <th>CIW3</th>\n",
       "      <th>CIW4</th>\n",
       "      <th>CIW5</th>\n",
       "    </tr>\n",
       "  </thead>\n",
       "  <tbody>\n",
       "    <tr>\n",
       "      <th>3</th>\n",
       "      <td>49866</td>\n",
       "      <td>1.0</td>\n",
       "      <td>1.0</td>\n",
       "      <td>0.0</td>\n",
       "      <td>0.0</td>\n",
       "      <td>0.0</td>\n",
       "      <td>40.0</td>\n",
       "      <td>5.0</td>\n",
       "      <td>3.0</td>\n",
       "      <td>0.0</td>\n",
       "      <td>...</td>\n",
       "      <td>3.0</td>\n",
       "      <td>1.0</td>\n",
       "      <td>3.0</td>\n",
       "      <td>3.0</td>\n",
       "      <td>4.0</td>\n",
       "      <td>1.0</td>\n",
       "      <td>4.0</td>\n",
       "      <td>4.0</td>\n",
       "      <td>1.0</td>\n",
       "      <td>3.0</td>\n",
       "    </tr>\n",
       "    <tr>\n",
       "      <th>4</th>\n",
       "      <td>49868</td>\n",
       "      <td>0.0</td>\n",
       "      <td>0.0</td>\n",
       "      <td>0.0</td>\n",
       "      <td>0.0</td>\n",
       "      <td>0.0</td>\n",
       "      <td>40.0</td>\n",
       "      <td>5.0</td>\n",
       "      <td>3.0</td>\n",
       "      <td>0.0</td>\n",
       "      <td>...</td>\n",
       "      <td>4.0</td>\n",
       "      <td>1.0</td>\n",
       "      <td>3.0</td>\n",
       "      <td>3.0</td>\n",
       "      <td>4.0</td>\n",
       "      <td>2.0</td>\n",
       "      <td>3.0</td>\n",
       "      <td>4.0</td>\n",
       "      <td>1.0</td>\n",
       "      <td>3.0</td>\n",
       "    </tr>\n",
       "    <tr>\n",
       "      <th>5</th>\n",
       "      <td>49870</td>\n",
       "      <td>0.0</td>\n",
       "      <td>1.0</td>\n",
       "      <td>0.0</td>\n",
       "      <td>0.0</td>\n",
       "      <td>0.0</td>\n",
       "      <td>0.0</td>\n",
       "      <td>3.0</td>\n",
       "      <td>3.0</td>\n",
       "      <td>0.0</td>\n",
       "      <td>...</td>\n",
       "      <td>4.0</td>\n",
       "      <td>1.0</td>\n",
       "      <td>3.0</td>\n",
       "      <td>3.0</td>\n",
       "      <td>4.0</td>\n",
       "      <td>2.0</td>\n",
       "      <td>3.0</td>\n",
       "      <td>3.0</td>\n",
       "      <td>1.0</td>\n",
       "      <td>3.0</td>\n",
       "    </tr>\n",
       "    <tr>\n",
       "      <th>8</th>\n",
       "      <td>47002</td>\n",
       "      <td>0.0</td>\n",
       "      <td>0.0</td>\n",
       "      <td>0.0</td>\n",
       "      <td>30.0</td>\n",
       "      <td>14.0</td>\n",
       "      <td>0.0</td>\n",
       "      <td>6.0</td>\n",
       "      <td>0.0</td>\n",
       "      <td>0.0</td>\n",
       "      <td>...</td>\n",
       "      <td>3.0</td>\n",
       "      <td>4.0</td>\n",
       "      <td>0.0</td>\n",
       "      <td>2.0</td>\n",
       "      <td>4.0</td>\n",
       "      <td>2.0</td>\n",
       "      <td>3.0</td>\n",
       "      <td>1.0</td>\n",
       "      <td>4.0</td>\n",
       "      <td>0.0</td>\n",
       "    </tr>\n",
       "    <tr>\n",
       "      <th>13</th>\n",
       "      <td>41570</td>\n",
       "      <td>1.0</td>\n",
       "      <td>0.0</td>\n",
       "      <td>0.0</td>\n",
       "      <td>40.0</td>\n",
       "      <td>5.0</td>\n",
       "      <td>0.0</td>\n",
       "      <td>3.0</td>\n",
       "      <td>0.0</td>\n",
       "      <td>0.0</td>\n",
       "      <td>...</td>\n",
       "      <td>0.0</td>\n",
       "      <td>4.0</td>\n",
       "      <td>2.0</td>\n",
       "      <td>5.0</td>\n",
       "      <td>3.0</td>\n",
       "      <td>NaN</td>\n",
       "      <td>NaN</td>\n",
       "      <td>NaN</td>\n",
       "      <td>NaN</td>\n",
       "      <td>NaN</td>\n",
       "    </tr>\n",
       "  </tbody>\n",
       "</table>\n",
       "<p>5 rows × 238 columns</p>\n",
       "</div>"
      ],
      "text/plain": [
       "    UniqueID   S1   S2   S3   S4x   S5x   S7x  S6ax   S9  S10  ...   IC3  IC4  \\\n",
       "3      49866  1.0  1.0  0.0   0.0   0.0  40.0   5.0  3.0  0.0  ...   3.0  1.0   \n",
       "4      49868  0.0  0.0  0.0   0.0   0.0  40.0   5.0  3.0  0.0  ...   4.0  1.0   \n",
       "5      49870  0.0  1.0  0.0   0.0   0.0   0.0   3.0  3.0  0.0  ...   4.0  1.0   \n",
       "8      47002  0.0  0.0  0.0  30.0  14.0   0.0   6.0  0.0  0.0  ...   3.0  4.0   \n",
       "13     41570  1.0  0.0  0.0  40.0   5.0   0.0   3.0  0.0  0.0  ...   0.0  4.0   \n",
       "\n",
       "    IC5  IC6  IC7  CIW1  CIW2  CIW3  CIW4  CIW5  \n",
       "3   3.0  3.0  4.0   1.0   4.0   4.0   1.0   3.0  \n",
       "4   3.0  3.0  4.0   2.0   3.0   4.0   1.0   3.0  \n",
       "5   3.0  3.0  4.0   2.0   3.0   3.0   1.0   3.0  \n",
       "8   0.0  2.0  4.0   2.0   3.0   1.0   4.0   0.0  \n",
       "13  2.0  5.0  3.0   NaN   NaN   NaN   NaN   NaN  \n",
       "\n",
       "[5 rows x 238 columns]"
      ]
     },
     "execution_count": 177,
     "metadata": {},
     "output_type": "execute_result"
    }
   ],
   "source": [
    "df_question =df.loc[:,que]\n",
    "df_question['UniqueID'] = df['UniqueID']\n",
    "cols = df_question.columns.tolist()\n",
    "cols = cols[-1:] + cols[:-1]\n",
    "df_question = df_question[cols]\n",
    "df_question.head()"
   ]
  }
 ],
 "metadata": {
  "kernelspec": {
   "display_name": "Python 3",
   "language": "python",
   "name": "python3"
  },
  "language_info": {
   "codemirror_mode": {
    "name": "ipython",
    "version": 3
   },
   "file_extension": ".py",
   "mimetype": "text/x-python",
   "name": "python",
   "nbconvert_exporter": "python",
   "pygments_lexer": "ipython3",
   "version": "3.6.5"
  }
 },
 "nbformat": 4,
 "nbformat_minor": 2
}
