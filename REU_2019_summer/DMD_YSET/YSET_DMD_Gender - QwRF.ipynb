{
 "cells": [
  {
   "cell_type": "markdown",
   "metadata": {},
   "source": [
    "## Data Import and Matrix Split"
   ]
  },
  {
   "cell_type": "code",
   "execution_count": 2,
   "metadata": {},
   "outputs": [],
   "source": [
    "import numpy as np\n",
    "import pandas as pd\n",
    "import matplotlib.pyplot as plt\n",
    "import warnings\n",
    "import matplotlib.pyplot as plt\n",
    "warnings.filterwarnings('ignore')"
   ]
  },
  {
   "cell_type": "markdown",
   "metadata": {},
   "source": [
    "### Fill in gender in R1 and R2 matrix"
   ]
  },
  {
   "cell_type": "code",
   "execution_count": 3,
   "metadata": {},
   "outputs": [],
   "source": [
    "df = pd.read_csv('Intersection_Y1R1R2_0702Y1_R1_R2_on_0702clean_data.csv')"
   ]
  },
  {
   "cell_type": "code",
   "execution_count": 4,
   "metadata": {},
   "outputs": [],
   "source": [
    "df = pd.read_csv('Intersection_Y1R1R2_0702Y1_0702.csv')\n",
    "Y1 = df.loc[:, 'UniqueID':'t39_combo']\n",
    "Y1['RiskFactor'] = df['RiskFactor']\n",
    "Y1['Gender'] = df['Gender']"
   ]
  },
  {
   "cell_type": "code",
   "execution_count": 4,
   "metadata": {},
   "outputs": [
    {
     "data": {
      "text/html": [
       "<div>\n",
       "<style scoped>\n",
       "    .dataframe tbody tr th:only-of-type {\n",
       "        vertical-align: middle;\n",
       "    }\n",
       "\n",
       "    .dataframe tbody tr th {\n",
       "        vertical-align: top;\n",
       "    }\n",
       "\n",
       "    .dataframe thead th {\n",
       "        text-align: right;\n",
       "    }\n",
       "</style>\n",
       "<table border=\"1\" class=\"dataframe\">\n",
       "  <thead>\n",
       "    <tr style=\"text-align: right;\">\n",
       "      <th></th>\n",
       "      <th>Unnamed: 0</th>\n",
       "      <th>Unnamed: 0.1</th>\n",
       "      <th>UniqueID</th>\n",
       "      <th>a1_combo</th>\n",
       "      <th>a2_combo</th>\n",
       "      <th>a3_combo</th>\n",
       "      <th>a4_combo</th>\n",
       "      <th>a5_combo</th>\n",
       "      <th>a6_combo</th>\n",
       "      <th>b7_combo</th>\n",
       "      <th>...</th>\n",
       "      <th>Age</th>\n",
       "      <th>Date</th>\n",
       "      <th>Gender</th>\n",
       "      <th>GRYD_Zone</th>\n",
       "      <th>Ethnicity_Asian</th>\n",
       "      <th>Ethnicity_Black</th>\n",
       "      <th>Ethnicity_Latino</th>\n",
       "      <th>Ethnicity_White</th>\n",
       "      <th>Ethnicity_Other</th>\n",
       "      <th>RiskFactor</th>\n",
       "    </tr>\n",
       "  </thead>\n",
       "  <tbody>\n",
       "    <tr>\n",
       "      <th>0</th>\n",
       "      <td>0</td>\n",
       "      <td>851</td>\n",
       "      <td>3538.0</td>\n",
       "      <td>3.0</td>\n",
       "      <td>3.0</td>\n",
       "      <td>4.0</td>\n",
       "      <td>4.0</td>\n",
       "      <td>3.0</td>\n",
       "      <td>2.0</td>\n",
       "      <td>3.0</td>\n",
       "      <td>...</td>\n",
       "      <td>13.0</td>\n",
       "      <td>2009-11-12</td>\n",
       "      <td>1.0</td>\n",
       "      <td>4.0</td>\n",
       "      <td>0.0</td>\n",
       "      <td>0.0</td>\n",
       "      <td>1.0</td>\n",
       "      <td>0.0</td>\n",
       "      <td>0.0</td>\n",
       "      <td>7.0</td>\n",
       "    </tr>\n",
       "    <tr>\n",
       "      <th>1</th>\n",
       "      <td>3</td>\n",
       "      <td>869</td>\n",
       "      <td>3552.0</td>\n",
       "      <td>3.0</td>\n",
       "      <td>4.0</td>\n",
       "      <td>4.0</td>\n",
       "      <td>3.0</td>\n",
       "      <td>4.0</td>\n",
       "      <td>2.0</td>\n",
       "      <td>4.0</td>\n",
       "      <td>...</td>\n",
       "      <td>14.0</td>\n",
       "      <td>2009-11-16</td>\n",
       "      <td>2.0</td>\n",
       "      <td>5.0</td>\n",
       "      <td>0.0</td>\n",
       "      <td>0.0</td>\n",
       "      <td>1.0</td>\n",
       "      <td>0.0</td>\n",
       "      <td>0.0</td>\n",
       "      <td>7.0</td>\n",
       "    </tr>\n",
       "    <tr>\n",
       "      <th>2</th>\n",
       "      <td>6</td>\n",
       "      <td>892</td>\n",
       "      <td>3569.0</td>\n",
       "      <td>3.0</td>\n",
       "      <td>5.0</td>\n",
       "      <td>4.0</td>\n",
       "      <td>1.0</td>\n",
       "      <td>4.0</td>\n",
       "      <td>2.0</td>\n",
       "      <td>5.0</td>\n",
       "      <td>...</td>\n",
       "      <td>13.0</td>\n",
       "      <td>2009-11-17</td>\n",
       "      <td>1.0</td>\n",
       "      <td>17.0</td>\n",
       "      <td>0.0</td>\n",
       "      <td>0.0</td>\n",
       "      <td>1.0</td>\n",
       "      <td>0.0</td>\n",
       "      <td>0.0</td>\n",
       "      <td>7.0</td>\n",
       "    </tr>\n",
       "    <tr>\n",
       "      <th>3</th>\n",
       "      <td>9</td>\n",
       "      <td>895</td>\n",
       "      <td>3570.0</td>\n",
       "      <td>3.0</td>\n",
       "      <td>4.0</td>\n",
       "      <td>2.0</td>\n",
       "      <td>3.0</td>\n",
       "      <td>4.0</td>\n",
       "      <td>3.0</td>\n",
       "      <td>3.0</td>\n",
       "      <td>...</td>\n",
       "      <td>10.0</td>\n",
       "      <td>2009-11-18</td>\n",
       "      <td>1.0</td>\n",
       "      <td>17.0</td>\n",
       "      <td>1.0</td>\n",
       "      <td>0.0</td>\n",
       "      <td>0.0</td>\n",
       "      <td>0.0</td>\n",
       "      <td>0.0</td>\n",
       "      <td>5.0</td>\n",
       "    </tr>\n",
       "    <tr>\n",
       "      <th>4</th>\n",
       "      <td>12</td>\n",
       "      <td>919</td>\n",
       "      <td>3586.0</td>\n",
       "      <td>4.0</td>\n",
       "      <td>4.0</td>\n",
       "      <td>5.0</td>\n",
       "      <td>5.0</td>\n",
       "      <td>4.0</td>\n",
       "      <td>1.0</td>\n",
       "      <td>3.0</td>\n",
       "      <td>...</td>\n",
       "      <td>11.0</td>\n",
       "      <td>2009-11-19</td>\n",
       "      <td>2.0</td>\n",
       "      <td>4.0</td>\n",
       "      <td>0.0</td>\n",
       "      <td>0.0</td>\n",
       "      <td>1.0</td>\n",
       "      <td>0.0</td>\n",
       "      <td>0.0</td>\n",
       "      <td>7.0</td>\n",
       "    </tr>\n",
       "  </tbody>\n",
       "</table>\n",
       "<p>5 rows × 90 columns</p>\n",
       "</div>"
      ],
      "text/plain": [
       "   Unnamed: 0  Unnamed: 0.1  UniqueID  a1_combo  a2_combo  a3_combo  a4_combo  \\\n",
       "0           0           851    3538.0       3.0       3.0       4.0       4.0   \n",
       "1           3           869    3552.0       3.0       4.0       4.0       3.0   \n",
       "2           6           892    3569.0       3.0       5.0       4.0       1.0   \n",
       "3           9           895    3570.0       3.0       4.0       2.0       3.0   \n",
       "4          12           919    3586.0       4.0       4.0       5.0       5.0   \n",
       "\n",
       "   a5_combo  a6_combo  b7_combo     ...       Age        Date  Gender  \\\n",
       "0       3.0       2.0       3.0     ...      13.0  2009-11-12     1.0   \n",
       "1       4.0       2.0       4.0     ...      14.0  2009-11-16     2.0   \n",
       "2       4.0       2.0       5.0     ...      13.0  2009-11-17     1.0   \n",
       "3       4.0       3.0       3.0     ...      10.0  2009-11-18     1.0   \n",
       "4       4.0       1.0       3.0     ...      11.0  2009-11-19     2.0   \n",
       "\n",
       "   GRYD_Zone  Ethnicity_Asian  Ethnicity_Black  Ethnicity_Latino  \\\n",
       "0        4.0              0.0              0.0               1.0   \n",
       "1        5.0              0.0              0.0               1.0   \n",
       "2       17.0              0.0              0.0               1.0   \n",
       "3       17.0              1.0              0.0               0.0   \n",
       "4        4.0              0.0              0.0               1.0   \n",
       "\n",
       "   Ethnicity_White  Ethnicity_Other  RiskFactor  \n",
       "0              0.0              0.0         7.0  \n",
       "1              0.0              0.0         7.0  \n",
       "2              0.0              0.0         7.0  \n",
       "3              0.0              0.0         5.0  \n",
       "4              0.0              0.0         7.0  \n",
       "\n",
       "[5 rows x 90 columns]"
      ]
     },
     "execution_count": 4,
     "metadata": {},
     "output_type": "execute_result"
    }
   ],
   "source": [
    "df.head()"
   ]
  },
  {
   "cell_type": "code",
   "execution_count": 5,
   "metadata": {},
   "outputs": [],
   "source": [
    "df = pd.read_csv('Intersection_Y1R1R2_0702R1_0702.csv')\n",
    "R1 = df.loc[:, 'UniqueID':'t39_combo']\n",
    "R1['RiskFactor'] = df['RiskFactor']\n",
    "R1['Gender'] = df['Gender']"
   ]
  },
  {
   "cell_type": "code",
   "execution_count": 6,
   "metadata": {},
   "outputs": [],
   "source": [
    "df = pd.read_csv('Intersection_Y1R1R2_0702R2_0702.csv')\n",
    "R2 = df.loc[:, 'UniqueID':'t39_combo']\n",
    "R2['RiskFactor'] = df['RiskFactor']\n",
    "R2['Gender'] = df['Gender']"
   ]
  },
  {
   "cell_type": "code",
   "execution_count": 7,
   "metadata": {},
   "outputs": [],
   "source": [
    "# change all nan gender values in R1 according to their values in Y1\n",
    "\n",
    "for index in R1.index:\n",
    "    if pd.isnull(R1.loc[index, 'Gender']):\n",
    "        gender = Y1.loc[index,'Gender']\n",
    "        R1.loc[index, 'Gender'] = gender"
   ]
  },
  {
   "cell_type": "code",
   "execution_count": 8,
   "metadata": {},
   "outputs": [],
   "source": [
    "# change all nan gender values in R2 according to their values in Y1\n",
    "\n",
    "for index in R2.index:\n",
    "    if pd.isnull(R2.loc[index, 'Gender']):\n",
    "        gender = Y1.loc[index,'Gender']\n",
    "        R2.loc[index, 'Gender'] = gender"
   ]
  },
  {
   "cell_type": "code",
   "execution_count": 9,
   "metadata": {},
   "outputs": [],
   "source": [
    "Gender_Incos = []\n",
    "for index in Y1.index:\n",
    "    if (Y1.loc[index, 'Gender'] != R1.loc[index, 'Gender']) or (R1.loc[index, 'Gender'] != R2.loc[index, 'Gender']) or (Y1.loc[index, 'Gender'] != R2.loc[index, 'Gender']) :\n",
    "        Gender_Incos.append(Y1.loc[index, 'UniqueID'])"
   ]
  },
  {
   "cell_type": "markdown",
   "metadata": {},
   "source": [
    "### Drop IDs with Nan values"
   ]
  },
  {
   "cell_type": "code",
   "execution_count": 10,
   "metadata": {},
   "outputs": [
    {
     "data": {
      "text/plain": [
       "[]"
      ]
     },
     "execution_count": 10,
     "metadata": {},
     "output_type": "execute_result"
    }
   ],
   "source": [
    "#indices\n",
    "columns = Y1.columns.tolist()\n",
    "columns = columns[:-1]\n",
    "\n",
    "#create list of indices that have NaN values in their rows\n",
    "index_list=[]\n",
    "for col in columns:   \n",
    "    index_list.extend(Y1[Y1[col].isnull()].index.tolist())\n",
    "index_list\n",
    "\n",
    "#make this list unique\n",
    "my_set = set(index_list)\n",
    "unique_index_list = list(my_set)\n",
    "unique_index_list"
   ]
  },
  {
   "cell_type": "code",
   "execution_count": 11,
   "metadata": {},
   "outputs": [
    {
     "data": {
      "text/plain": [
       "[512, 770, 169, 624, 402, 56, 1087, 927]"
      ]
     },
     "execution_count": 11,
     "metadata": {},
     "output_type": "execute_result"
    }
   ],
   "source": [
    "#create list of indices that have NaN values in their rows\n",
    "index_list=[]\n",
    "for col in columns:   \n",
    "    index_list.extend(R1[R1[col].isnull()].index.tolist())\n",
    "index_list\n",
    "\n",
    "#make this list unique\n",
    "my_set = set(index_list)\n",
    "unique_index_list1 = list(my_set)\n",
    "unique_index_list1"
   ]
  },
  {
   "cell_type": "code",
   "execution_count": 12,
   "metadata": {},
   "outputs": [
    {
     "data": {
      "text/plain": [
       "[1297, 182, 347, 446, 763]"
      ]
     },
     "execution_count": 12,
     "metadata": {},
     "output_type": "execute_result"
    }
   ],
   "source": [
    "#create list of indices that have NaN values in their rows\n",
    "index_list=[]\n",
    "for col in columns:   \n",
    "    index_list.extend(R2[R2[col].isnull()].index.tolist())\n",
    "index_list\n",
    "\n",
    "#make this list unique\n",
    "my_set = set(index_list)\n",
    "unique_index_list2 = list(my_set)\n",
    "unique_index_list2"
   ]
  },
  {
   "cell_type": "code",
   "execution_count": 13,
   "metadata": {},
   "outputs": [
    {
     "data": {
      "text/plain": [
       "[14334.0, 17710.0, 11189.0, 16486.0, 12668.0, 4960.0, 25920.0, 22418.0]"
      ]
     },
     "execution_count": 13,
     "metadata": {},
     "output_type": "execute_result"
    }
   ],
   "source": [
    "#make list of UniqueIDs associated with these NaN values\n",
    "ID_list = []\n",
    "for i in unique_index_list1:\n",
    "    ID_list.append(R1.loc[i,'UniqueID'])\n",
    "ID_list"
   ]
  },
  {
   "cell_type": "code",
   "execution_count": 14,
   "metadata": {},
   "outputs": [
    {
     "data": {
      "text/plain": [
       "[14334.0,\n",
       " 17710.0,\n",
       " 11189.0,\n",
       " 16486.0,\n",
       " 12668.0,\n",
       " 4960.0,\n",
       " 25920.0,\n",
       " 22418.0,\n",
       " 32402.0,\n",
       " 11205.0,\n",
       " 12560.0,\n",
       " 13876.0,\n",
       " 17696.0]"
      ]
     },
     "execution_count": 14,
     "metadata": {},
     "output_type": "execute_result"
    }
   ],
   "source": [
    "#make list of UniqueIDs associated with these NaN values\n",
    "for i in unique_index_list2:\n",
    "    ID_list.append(R2.loc[i,'UniqueID'])\n",
    "ID_list"
   ]
  },
  {
   "cell_type": "code",
   "execution_count": 15,
   "metadata": {},
   "outputs": [],
   "source": [
    "ID_list.extend(Gender_Incos)"
   ]
  },
  {
   "cell_type": "code",
   "execution_count": 16,
   "metadata": {},
   "outputs": [
    {
     "data": {
      "text/plain": [
       "[14334.0,\n",
       " 17710.0,\n",
       " 11189.0,\n",
       " 16486.0,\n",
       " 12668.0,\n",
       " 4960.0,\n",
       " 25920.0,\n",
       " 22418.0,\n",
       " 32402.0,\n",
       " 11205.0,\n",
       " 12560.0,\n",
       " 13876.0,\n",
       " 17696.0,\n",
       " 5957.0,\n",
       " 6183.0,\n",
       " 11177.0,\n",
       " 11195.0,\n",
       " 11218.0,\n",
       " 11394.0,\n",
       " 11419.0,\n",
       " 11752.0,\n",
       " 12926.0,\n",
       " 12952.0,\n",
       " 13071.0,\n",
       " 17040.0,\n",
       " 17651.0,\n",
       " 17851.0,\n",
       " 17959.0,\n",
       " 21493.0,\n",
       " 22624.0,\n",
       " 28767.0,\n",
       " 29298.0,\n",
       " 29415.0,\n",
       " 29542.0,\n",
       " 29704.0,\n",
       " 31457.0,\n",
       " 31947.0,\n",
       " 32298.0,\n",
       " 33616.0,\n",
       " 34230.0,\n",
       " 41607.0,\n",
       " 43947.0]"
      ]
     },
     "execution_count": 16,
     "metadata": {},
     "output_type": "execute_result"
    }
   ],
   "source": [
    "ID_list"
   ]
  },
  {
   "cell_type": "code",
   "execution_count": 17,
   "metadata": {},
   "outputs": [],
   "source": [
    "#drop these IDs from the data\n",
    "for id in ID_list:\n",
    "    Y1 = Y1[Y1['UniqueID']!=id]"
   ]
  },
  {
   "cell_type": "code",
   "execution_count": 18,
   "metadata": {},
   "outputs": [],
   "source": [
    "#drop these IDs from the data\n",
    "for id in ID_list:\n",
    "    R1 = R1[R1['UniqueID']!=id]"
   ]
  },
  {
   "cell_type": "code",
   "execution_count": 19,
   "metadata": {},
   "outputs": [],
   "source": [
    "#drop these IDs from the data\n",
    "for id in ID_list:\n",
    "    R2 = R2[R2['UniqueID']!=id]"
   ]
  },
  {
   "cell_type": "markdown",
   "metadata": {},
   "source": [
    "## Split each matrix by Gender"
   ]
  },
  {
   "cell_type": "code",
   "execution_count": 21,
   "metadata": {},
   "outputs": [],
   "source": [
    "Y1_M = Y1[Y1['Gender'] == 1]\n",
    "Y1_F = Y1[Y1['Gender'] == 2]\n",
    "Y1_M = Y1_M.drop('UniqueID', axis=1)\n",
    "Y1_F = Y1_F.drop('UniqueID', axis=1)\n",
    "Y1_M = Y1_M.drop('Gender', axis=1)\n",
    "Y1_F = Y1_F.drop('Gender', axis=1)\n",
    "Y1_M = Y1_M.transpose()\n",
    "Y1_F = Y1_F.transpose()"
   ]
  },
  {
   "cell_type": "code",
   "execution_count": 22,
   "metadata": {},
   "outputs": [
    {
     "data": {
      "text/plain": [
       "(40, 1007)"
      ]
     },
     "execution_count": 22,
     "metadata": {},
     "output_type": "execute_result"
    }
   ],
   "source": [
    "Y1_M.shape"
   ]
  },
  {
   "cell_type": "code",
   "execution_count": 23,
   "metadata": {},
   "outputs": [
    {
     "data": {
      "text/plain": [
       "(40, 627)"
      ]
     },
     "execution_count": 23,
     "metadata": {},
     "output_type": "execute_result"
    }
   ],
   "source": [
    "Y1_F.shape"
   ]
  },
  {
   "cell_type": "code",
   "execution_count": 24,
   "metadata": {},
   "outputs": [
    {
     "data": {
      "text/plain": [
       "(40, 1007)"
      ]
     },
     "execution_count": 24,
     "metadata": {},
     "output_type": "execute_result"
    }
   ],
   "source": [
    "R1_M = R1[R1['Gender'] == 1]\n",
    "R1_F = R1[R1['Gender'] == 2]\n",
    "R1_M = R1_M.drop('UniqueID', axis=1)\n",
    "R1_F = R1_F.drop('UniqueID', axis=1)\n",
    "R1_M = R1_M.drop('Gender', axis=1)\n",
    "R1_F = R1_F.drop('Gender', axis=1)\n",
    "R1_M = R1_M.transpose()\n",
    "R1_F = R1_F.transpose()\n",
    "R1_M.shape"
   ]
  },
  {
   "cell_type": "code",
   "execution_count": 25,
   "metadata": {},
   "outputs": [
    {
     "data": {
      "text/plain": [
       "(40, 627)"
      ]
     },
     "execution_count": 25,
     "metadata": {},
     "output_type": "execute_result"
    }
   ],
   "source": [
    "R1_F.shape"
   ]
  },
  {
   "cell_type": "code",
   "execution_count": 26,
   "metadata": {},
   "outputs": [
    {
     "data": {
      "text/plain": [
       "(40, 1007)"
      ]
     },
     "execution_count": 26,
     "metadata": {},
     "output_type": "execute_result"
    }
   ],
   "source": [
    "R2_M = R2[R2['Gender'] == 1]\n",
    "R2_F = R2[R2['Gender'] == 2]\n",
    "R2_M = R2_M.drop('UniqueID', axis=1)\n",
    "R2_F = R2_F.drop('UniqueID', axis=1)\n",
    "R2_M = R2_M.drop('Gender', axis=1)\n",
    "R2_F = R2_F.drop('Gender', axis=1)\n",
    "R2_M = R2_M.transpose()\n",
    "R2_F = R2_F.transpose()\n",
    "R2_M.shape"
   ]
  },
  {
   "cell_type": "markdown",
   "metadata": {},
   "source": [
    "## DMD for Gender"
   ]
  },
  {
   "cell_type": "markdown",
   "metadata": {},
   "source": [
    "### Y1 to R1"
   ]
  },
  {
   "cell_type": "markdown",
   "metadata": {},
   "source": [
    "#### Female Y1 to R1"
   ]
  },
  {
   "cell_type": "code",
   "execution_count": 28,
   "metadata": {},
   "outputs": [],
   "source": [
    "U_Y1F,Sig_Y1F,V_Y1F=np.linalg.svd(Y1_F, full_matrices=False)    \n",
    "U_Y1F_T=U_Y1F.conjugate().transpose()\n",
    "V_Y1F_T=V_Y1F.conjugate().transpose()\n",
    "Sig_inv_Y1F=np.zeros((40, 40))\n",
    "for i in range(40):\n",
    "    for j in range(40):\n",
    "        if i==j:\n",
    "            Sig_inv_Y1F[i][j]=1/Sig_Y1F[i]"
   ]
  },
  {
   "cell_type": "code",
   "execution_count": 29,
   "metadata": {},
   "outputs": [
    {
     "data": {
      "text/plain": [
       "array([[ 0.20881979,  0.04493129, -0.03796291, ...,  0.02751805,\n",
       "         0.01877879, -0.01621163],\n",
       "       [ 0.03637258,  0.35174592,  0.15682084, ...,  0.08165186,\n",
       "        -0.0192202 , -0.0850597 ],\n",
       "       [-0.00058333,  0.02515757,  0.19921465, ...,  0.07403117,\n",
       "        -0.00531749, -0.09041798],\n",
       "       ...,\n",
       "       [-0.02399602,  0.07395079,  0.06197742, ...,  0.35537972,\n",
       "         0.02658546, -0.06704567],\n",
       "       [-0.03763274,  0.10522136, -0.03190474, ...,  0.05301494,\n",
       "         0.54978365,  0.00120663],\n",
       "       [ 0.00834244,  0.23974295,  0.02013961, ...,  0.22720731,\n",
       "         0.04774191,  0.10584987]])"
      ]
     },
     "execution_count": 29,
     "metadata": {},
     "output_type": "execute_result"
    }
   ],
   "source": [
    "A_step1=np.dot(R1_F,V_Y1F_T)\n",
    "A_step2=np.dot(A_step1,Sig_inv_Y1F)\n",
    "A_Y1F_R1=np.dot(A_step2,U_Y1F_T)\n",
    "A_Y1F_R1"
   ]
  },
  {
   "cell_type": "code",
   "execution_count": 30,
   "metadata": {},
   "outputs": [],
   "source": [
    "values_Y1_F, vectors_Y1_F = np.linalg.eig(A_Y1F_R1)"
   ]
  },
  {
   "cell_type": "code",
   "execution_count": 31,
   "metadata": {},
   "outputs": [],
   "source": [
    "eiglog_Y1_F = np.log(values_Y1_F)"
   ]
  },
  {
   "cell_type": "code",
   "execution_count": 32,
   "metadata": {},
   "outputs": [],
   "source": [
    "lamphi_Y1_F=np.zeros(40)\n",
    "for i in range (40):\n",
    "    rep=vectors_Y1_F[i]\n",
    "    norm=np.linalg.norm(rep)\n",
    "    val=np.absolute(values_Y1_F[i])*norm\n",
    "    lamphi_Y1_F[i]=val"
   ]
  },
  {
   "cell_type": "markdown",
   "metadata": {},
   "source": [
    "#### Male Y1 to R1"
   ]
  },
  {
   "cell_type": "code",
   "execution_count": 33,
   "metadata": {},
   "outputs": [],
   "source": [
    "U_Y1M,Sig_Y1M,V_Y1M=np.linalg.svd(Y1_M, full_matrices=False)    \n",
    "U_Y1M_T=U_Y1M.conjugate().transpose()\n",
    "V_Y1M_T=V_Y1M.conjugate().transpose()\n",
    "Sig_inv_Y1M=np.zeros((40, 40))\n",
    "for i in range(40):\n",
    "    for j in range(40):\n",
    "        if i==j:\n",
    "            Sig_inv_Y1M[i][j]=1/Sig_Y1M[i]"
   ]
  },
  {
   "cell_type": "code",
   "execution_count": 34,
   "metadata": {},
   "outputs": [
    {
     "data": {
      "text/plain": [
       "array([[ 0.23144925,  0.01210084,  0.01233496, ...,  0.04544599,\n",
       "        -0.01808485, -0.0536752 ],\n",
       "       [ 0.00937156,  0.31783391,  0.01742228, ...,  0.01384424,\n",
       "        -0.03003523, -0.09862578],\n",
       "       [ 0.06178845,  0.00391264,  0.19157174, ...,  0.03428975,\n",
       "        -0.02480651, -0.04301519],\n",
       "       ...,\n",
       "       [-0.01912048, -0.06155558,  0.0205859 , ...,  0.3155704 ,\n",
       "         0.09707547, -0.08391453],\n",
       "       [-0.04936287, -0.0953415 ,  0.03077748, ...,  0.05300537,\n",
       "         0.42148713,  0.0199454 ],\n",
       "       [ 0.00565947, -0.07360601,  0.15092578, ...,  0.22472515,\n",
       "         0.0182786 , -0.05558069]])"
      ]
     },
     "execution_count": 34,
     "metadata": {},
     "output_type": "execute_result"
    }
   ],
   "source": [
    "A_step1=np.dot(R1_M,V_Y1M_T)\n",
    "A_step2=np.dot(A_step1,Sig_inv_Y1M)\n",
    "A_Y1M_R1=np.dot(A_step2,U_Y1M_T)\n",
    "A_Y1M_R1"
   ]
  },
  {
   "cell_type": "code",
   "execution_count": 35,
   "metadata": {},
   "outputs": [],
   "source": [
    "values_Y1_M, vectors_Y1_M = np.linalg.eig(A_Y1M_R1)"
   ]
  },
  {
   "cell_type": "code",
   "execution_count": 36,
   "metadata": {},
   "outputs": [],
   "source": [
    "eiglog_Y1_M = np.log(values_Y1_M)"
   ]
  },
  {
   "cell_type": "code",
   "execution_count": 37,
   "metadata": {},
   "outputs": [],
   "source": [
    "lamphi_Y1_M=np.zeros(40)\n",
    "for i in range (40):\n",
    "    rep=vectors_Y1_M[i]\n",
    "    norm=np.linalg.norm(rep)\n",
    "    val=np.absolute(values_Y1_M[i])*norm\n",
    "    lamphi_Y1_M[i]=val"
   ]
  },
  {
   "cell_type": "markdown",
   "metadata": {},
   "source": [
    "### R1 to R2"
   ]
  },
  {
   "cell_type": "markdown",
   "metadata": {},
   "source": [
    "#### Female R1 to R2"
   ]
  },
  {
   "cell_type": "code",
   "execution_count": 38,
   "metadata": {},
   "outputs": [],
   "source": [
    "U_R1F,Sig_R1F,V_R1F=np.linalg.svd(R1_F, full_matrices=False)    \n",
    "U_R1F_T=U_R1F.conjugate().transpose()\n",
    "V_R1F_T=V_R1F.conjugate().transpose()\n",
    "Sig_inv_R1F=np.zeros((40, 40))\n",
    "for i in range(40):\n",
    "    for j in range(40):\n",
    "        if i==j:\n",
    "            Sig_inv_R1F[i][j]=1/Sig_R1F[i]"
   ]
  },
  {
   "cell_type": "code",
   "execution_count": 45,
   "metadata": {},
   "outputs": [
    {
     "data": {
      "text/plain": [
       "array([[ 2.33986031e-01,  1.08683373e-01,  7.90764813e-02, ...,\n",
       "         1.39699762e-02,  2.66099636e-02, -5.99300175e-02],\n",
       "       [-6.22061659e-02,  3.54871397e-01,  3.56426716e-02, ...,\n",
       "         8.05428869e-02,  6.15366938e-02, -1.92310364e-01],\n",
       "       [-2.87794447e-02,  8.54058530e-02,  2.61911104e-01, ...,\n",
       "         5.28432531e-04, -4.79399738e-03, -1.14605810e-01],\n",
       "       ...,\n",
       "       [-4.59816419e-02,  2.82115723e-02, -6.45747592e-02, ...,\n",
       "         2.28073745e-01,  3.17111467e-02, -1.24200253e-02],\n",
       "       [ 6.19083774e-03,  2.18480343e-02, -7.32441649e-02, ...,\n",
       "         1.51385279e-02,  5.38229096e-01, -2.97597270e-02],\n",
       "       [ 5.35377665e-02, -2.55118464e-02, -3.00685951e-03, ...,\n",
       "         9.96675849e-02,  1.61267801e-01,  7.77448882e-02]])"
      ]
     },
     "execution_count": 45,
     "metadata": {},
     "output_type": "execute_result"
    }
   ],
   "source": [
    "A_step1=np.dot(R2_F,V_R1F_T)\n",
    "A_step2=np.dot(A_step1,Sig_inv_R1F)\n",
    "A_R1F_R2=np.dot(A_step2,U_R1F_T)\n",
    "A_R1F_R2"
   ]
  },
  {
   "cell_type": "code",
   "execution_count": 46,
   "metadata": {},
   "outputs": [],
   "source": [
    "values_R1_F, vectors_R1_F = np.linalg.eig(A_R1F_R2)"
   ]
  },
  {
   "cell_type": "code",
   "execution_count": 47,
   "metadata": {},
   "outputs": [],
   "source": [
    "eiglog_R1_F = np.log(values_R1_F)"
   ]
  },
  {
   "cell_type": "code",
   "execution_count": 48,
   "metadata": {},
   "outputs": [],
   "source": [
    "lamphi_R1_F=np.zeros(40)\n",
    "for i in range (40):\n",
    "    rep=vectors_R1_F[i]\n",
    "    norm=np.linalg.norm(rep)\n",
    "    val=np.absolute(values_R1_F[i])*norm\n",
    "    lamphi_R1_F[i]=val"
   ]
  },
  {
   "cell_type": "markdown",
   "metadata": {},
   "source": [
    "#### Male R1 to R2"
   ]
  },
  {
   "cell_type": "code",
   "execution_count": 49,
   "metadata": {},
   "outputs": [],
   "source": [
    "U_R1M,Sig_R1M,V_R1M=np.linalg.svd(R1_M, full_matrices=False)    \n",
    "U_R1M_T=U_R1M.conjugate().transpose()\n",
    "V_R1M_T=V_R1M.conjugate().transpose()\n",
    "Sig_inv_R1M=np.zeros((40, 40))\n",
    "for i in range(40):\n",
    "    for j in range(40):\n",
    "        if i==j:\n",
    "            Sig_inv_R1M[i][j]=1/Sig_R1M[i]"
   ]
  },
  {
   "cell_type": "code",
   "execution_count": 50,
   "metadata": {},
   "outputs": [
    {
     "data": {
      "text/plain": [
       "array([[ 0.20409385,  0.1233753 ,  0.04305861, ...,  0.04966045,\n",
       "         0.01839863, -0.10877503],\n",
       "       [-0.02306634,  0.36579648,  0.17044416, ...,  0.03814307,\n",
       "         0.06424859, -0.19038575],\n",
       "       [ 0.00949313,  0.10399644,  0.25111558, ...,  0.08291474,\n",
       "         0.05039847, -0.14786463],\n",
       "       ...,\n",
       "       [ 0.00649129, -0.00431045, -0.06039669, ...,  0.39281271,\n",
       "         0.04703848, -0.02529676],\n",
       "       [-0.06869045, -0.02943651, -0.00880631, ...,  0.06284629,\n",
       "         0.5182006 , -0.07193654],\n",
       "       [-0.05626056,  0.01673206,  0.03642054, ...,  0.27816761,\n",
       "         0.16629506,  0.04914327]])"
      ]
     },
     "execution_count": 50,
     "metadata": {},
     "output_type": "execute_result"
    }
   ],
   "source": [
    "A_step1=np.dot(R2_M,V_R1M_T)\n",
    "A_step2=np.dot(A_step1,Sig_inv_R1M)\n",
    "A_R1M_R2=np.dot(A_step2,U_R1M_T)\n",
    "A_R1M_R2"
   ]
  },
  {
   "cell_type": "code",
   "execution_count": 51,
   "metadata": {},
   "outputs": [],
   "source": [
    "values_R1_M, vectors_R1_M = np.linalg.eig(A_R1M_R2)"
   ]
  },
  {
   "cell_type": "code",
   "execution_count": 52,
   "metadata": {},
   "outputs": [],
   "source": [
    "eiglog_R1_M = np.log(values_R1_M)"
   ]
  },
  {
   "cell_type": "code",
   "execution_count": 53,
   "metadata": {},
   "outputs": [],
   "source": [
    "lamphi_R1_M=np.zeros(40)\n",
    "for i in range (40):\n",
    "    rep=vectors_R1_M[i]\n",
    "    norm=np.linalg.norm(rep)\n",
    "    val=np.absolute(values_R1_M[i])*norm\n",
    "    lamphi_R1_M[i]=val"
   ]
  },
  {
   "cell_type": "markdown",
   "metadata": {},
   "source": [
    "## Graphs"
   ]
  },
  {
   "cell_type": "code",
   "execution_count": 65,
   "metadata": {},
   "outputs": [],
   "source": [
    "label=['a1', 'a2',\n",
    "       'a3', 'a4', 'a5', 'a6', 'b7', 'b8',\n",
    "       'b9', 'c10', 'c11', 'c12', 'c13',\n",
    "       'c14', 'c15', 'c16', 'de17', 'de18',\n",
    "       'de19', 'de20', 'f21', 'f22', 'f23o',\n",
    "       'f24', 'f25', 'f26', 'g27', 'g28',\n",
    "       'g29', 'g30', 'g31', 'h32', 'h33',\n",
    "       'h34', 'h35', 'h36', 'h37', 't38',\n",
    "       't39','RiskFactor']"
   ]
  },
  {
   "cell_type": "markdown",
   "metadata": {},
   "source": [
    "### PLOTs of the last row in transformation matrix"
   ]
  },
  {
   "cell_type": "markdown",
   "metadata": {},
   "source": [
    "#### Importance from Y1 to R1 "
   ]
  },
  {
   "cell_type": "code",
   "execution_count": 73,
   "metadata": {},
   "outputs": [
    {
     "data": {
      "text/plain": [
       "<BarContainer object of 39 artists>"
      ]
     },
     "execution_count": 73,
     "metadata": {},
     "output_type": "execute_result"
    },
    {
     "data": {
      "image/png": "[encoded data removed]",
      "text/plain": [
       "<Figure size 1440x432 with 1 Axes>"
      ]
     },
     "metadata": {},
     "output_type": "display_data"
    }
   ],
   "source": [
    "index=np.zeros(39)\n",
    "for i in range (39):\n",
    "    index[i]=i\n",
    "Gender = ['Female','Male']\n",
    "pos = np.arange(len(index))\n",
    "bar_width = 0.35\n",
    "plt.figure(figsize=(20,6))\n",
    "plt.rcParams['axes.edgecolor']='#333F4B'\n",
    "plt.rcParams['axes.linewidth']=0.8\n",
    "plt.rcParams['xtick.color']='#333F4B'\n",
    "plt.rcParams['ytick.color']='#333F4B'\n",
    "plt.title('Juxtaposition of Importance from Y1 to R1', fontsize=20, fontweight=0, color='purple', loc='center', style='italic' ) \n",
    "plt.xticks(np.arange(min(index), max(index)+1, 1.0),label, color='purple',rotation='vertical')\n",
    "plt.xlabel('Question Number',fontsize=20, style='italic' )\n",
    "plt.ylabel('Value of Entries',fontsize=20, color='orange', style='italic' )\n",
    "plt.bar(pos,A_Y1F_R1[-1,:][:39],bar_width,alpha=0.5,color='orange')\n",
    "plt.bar(pos+bar_width,A_Y1M_R1[-1,:][:39],bar_width,alpha=0.5)"
   ]
  },
  {
   "cell_type": "markdown",
   "metadata": {},
   "source": [
    "#### orange represents girls, and blue represents boys "
   ]
  },
  {
   "cell_type": "markdown",
   "metadata": {},
   "source": [
    "#### Importance from R1 to R2"
   ]
  },
  {
   "cell_type": "code",
   "execution_count": 74,
   "metadata": {},
   "outputs": [
    {
     "data": {
      "text/plain": [
       "<BarContainer object of 39 artists>"
      ]
     },
     "execution_count": 74,
     "metadata": {},
     "output_type": "execute_result"
    },
    {
     "data": {
      "image/png": "[encoded data removed]",
      "text/plain": [
       "<Figure size 1440x432 with 1 Axes>"
      ]
     },
     "metadata": {},
     "output_type": "display_data"
    }
   ],
   "source": [
    "index=np.zeros(39)\n",
    "for i in range (39):\n",
    "    index[i]=i\n",
    "Gender = ['Female','Male']\n",
    "pos = np.arange(len(index))\n",
    "bar_width = 0.35\n",
    "plt.figure(figsize=(20,6))\n",
    "plt.rcParams['axes.edgecolor']='#333F4B'\n",
    "plt.rcParams['axes.linewidth']=0.8\n",
    "plt.rcParams['xtick.color']='#333F4B'\n",
    "plt.rcParams['ytick.color']='#333F4B'\n",
    "plt.title('Juxtaposition of Importance from R1 to R2', fontsize=20, fontweight=0, color='purple', loc='center', style='italic' ) \n",
    "plt.xticks(np.arange(min(index), max(index)+1, 1.0),label, color='purple',rotation='vertical')\n",
    "plt.xlabel('Question Number',fontsize=20, style='italic' )\n",
    "plt.ylabel('Value of Entries',fontsize=20, color='orange', style='italic' )\n",
    "plt.bar(pos,A_R1F_R2[-1,:][:39],bar_width,alpha=0.5,color='orange')\n",
    "plt.bar(pos+bar_width,A_R1M_R2[-1,:][:39],bar_width,alpha=0.5)"
   ]
  },
  {
   "cell_type": "markdown",
   "metadata": {},
   "source": [
    "#### Change in girls"
   ]
  },
  {
   "cell_type": "code",
   "execution_count": 85,
   "metadata": {},
   "outputs": [
    {
     "data": {
      "text/plain": [
       "<BarContainer object of 39 artists>"
      ]
     },
     "execution_count": 85,
     "metadata": {},
     "output_type": "execute_result"
    },
    {
     "data": {
      "image/png": "[encoded data removed]",
      "text/plain": [
       "<Figure size 1440x432 with 1 Axes>"
      ]
     },
     "metadata": {},
     "output_type": "display_data"
    }
   ],
   "source": [
    "index=np.zeros(39)\n",
    "for i in range (39):\n",
    "    index[i]=i\n",
    "Year = [\"Y1 to R1\", \"R1 to R2\"]\n",
    "pos = np.arange(len(index))\n",
    "bar_width = 0.35\n",
    "plt.figure(figsize=(20,6))\n",
    "plt.rcParams['axes.edgecolor']='#333F4B'\n",
    "plt.rcParams['axes.linewidth']=0.8\n",
    "plt.rcParams['xtick.color']='#333F4B'\n",
    "plt.rcParams['ytick.color']='#333F4B'\n",
    "plt.title('Juxtaposition of Importance for females', fontsize=20, fontweight=0, color='purple', loc='center', style='italic' ) \n",
    "plt.xticks(np.arange(min(index), max(index)+1, 1.0),label, color='purple',rotation='vertical')\n",
    "plt.xlabel('Question Number',fontsize=20, style='italic' )\n",
    "plt.ylabel('Value of Entries',fontsize=20, color='orange', style='italic' )\n",
    "plt.bar(pos,A_Y1F_R1[-1,:][:39],bar_width,alpha=0.8,color='#b3e5fc')\n",
    "plt.bar(pos+bar_width,A_R1F_R2[-1,:][:39],bar_width,color = '#df744a', alpha=0.8)"
   ]
  },
  {
   "cell_type": "markdown",
   "metadata": {},
   "source": [
    "#### Yellow represents period from Y1 to R1; Olive represents period from R1 to R2"
   ]
  },
  {
   "cell_type": "code",
   "execution_count": 87,
   "metadata": {},
   "outputs": [
    {
     "data": {
      "text/plain": [
       "<BarContainer object of 39 artists>"
      ]
     },
     "execution_count": 87,
     "metadata": {},
     "output_type": "execute_result"
    },
    {
     "data": {
      "image/png": "[encoded data removed]",
      "text/plain": [
       "<Figure size 1440x432 with 1 Axes>"
      ]
     },
     "metadata": {},
     "output_type": "display_data"
    }
   ],
   "source": [
    "index=np.zeros(39)\n",
    "for i in range (39):\n",
    "    index[i]=i\n",
    "Year = [\"Y1 to R1\", \"R1 to R2\"]\n",
    "pos = np.arange(len(index))\n",
    "bar_width = 0.35\n",
    "plt.figure(figsize=(20,6))\n",
    "plt.rcParams['axes.edgecolor']='#333F4B'\n",
    "plt.rcParams['axes.linewidth']=0.8\n",
    "plt.rcParams['xtick.color']='#333F4B'\n",
    "plt.rcParams['ytick.color']='#333F4B'\n",
    "plt.title('Juxtaposition of Importance for males', fontsize=20, fontweight=0, color='purple', loc='center', style='italic' ) \n",
    "plt.xticks(np.arange(min(index), max(index)+1, 1.0),label, color='purple',rotation='vertical')\n",
    "plt.xlabel('Question Number',fontsize=20, style='italic' )\n",
    "plt.ylabel('Value of Entries',fontsize=20, color='orange', style='italic' )\n",
    "plt.bar(pos,A_Y1M_R1[-1,:][:39],bar_width,alpha=0.8,color='#b3e5fc')\n",
    "plt.bar(pos+bar_width,A_R1M_R2[-1,:][:39],bar_width,color = '#df744a', alpha=0.8)"
   ]
  }
 ],
 "metadata": {
  "kernelspec": {
   "display_name": "Python 3",
   "language": "python",
   "name": "python3"
  },
  "language_info": {
   "codemirror_mode": {
    "name": "ipython",
    "version": 3
   },
   "file_extension": ".py",
   "mimetype": "text/x-python",
   "name": "python",
   "nbconvert_exporter": "python",
   "pygments_lexer": "ipython3",
   "version": "3.6.5"
  }
 },
 "nbformat": 4,
 "nbformat_minor": 2
}
