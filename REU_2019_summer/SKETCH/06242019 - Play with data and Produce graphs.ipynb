{
 "cells": [
  {
   "cell_type": "code",
   "execution_count": 1,
   "metadata": {},
   "outputs": [],
   "source": [
    "import pandas as pd\n",
    "import numpy as np\n",
    "import matplotlib.mlab as mlab\n",
    "import matplotlib.pyplot as plt"
   ]
  },
  {
   "cell_type": "code",
   "execution_count": 4,
   "metadata": {},
   "outputs": [],
   "source": [
    "#input data \n",
    "cleanpath = 'YSET_Dec2008_Dec2019_cleaned20190531.csv'\n",
    "df = pd.read_csv(cleanpath)"
   ]
  },
  {
   "cell_type": "code",
   "execution_count": 5,
   "metadata": {},
   "outputs": [
    {
     "data": {
      "text/html": [
       "<div>\n",
       "<style scoped>\n",
       "    .dataframe tbody tr th:only-of-type {\n",
       "        vertical-align: middle;\n",
       "    }\n",
       "\n",
       "    .dataframe tbody tr th {\n",
       "        vertical-align: top;\n",
       "    }\n",
       "\n",
       "    .dataframe thead th {\n",
       "        text-align: right;\n",
       "    }\n",
       "</style>\n",
       "<table border=\"1\" class=\"dataframe\">\n",
       "  <thead>\n",
       "    <tr style=\"text-align: right;\">\n",
       "      <th></th>\n",
       "      <th>Unnamed: 0</th>\n",
       "      <th>UniqueID</th>\n",
       "      <th>YSET_I_R</th>\n",
       "      <th>y_TotalFactors</th>\n",
       "      <th>y_DateS1_Interview</th>\n",
       "      <th>YouthStatus</th>\n",
       "      <th>Agency</th>\n",
       "      <th>GRYD_Zone</th>\n",
       "      <th>Ethnicity_Asian</th>\n",
       "      <th>Ethnicity_Black</th>\n",
       "      <th>...</th>\n",
       "      <th>YSET_Days</th>\n",
       "      <th>YSET_Version</th>\n",
       "      <th>YSETDirections</th>\n",
       "      <th>YSETDirections_ETO</th>\n",
       "      <th>YSETResults</th>\n",
       "      <th>YSETStatus</th>\n",
       "      <th>GRYD_Zone2018</th>\n",
       "      <th>GRYD_ZoneSubRegion</th>\n",
       "      <th>PrimaryLast</th>\n",
       "      <th>PrimaryLast1</th>\n",
       "    </tr>\n",
       "  </thead>\n",
       "  <tbody>\n",
       "    <tr>\n",
       "      <th>0</th>\n",
       "      <td>3131</td>\n",
       "      <td>1010.0</td>\n",
       "      <td>11.0</td>\n",
       "      <td></td>\n",
       "      <td>2010-05-13</td>\n",
       "      <td></td>\n",
       "      <td>9</td>\n",
       "      <td>5</td>\n",
       "      <td>0.0</td>\n",
       "      <td>0</td>\n",
       "      <td>...</td>\n",
       "      <td></td>\n",
       "      <td></td>\n",
       "      <td></td>\n",
       "      <td></td>\n",
       "      <td>2.0</td>\n",
       "      <td></td>\n",
       "      <td></td>\n",
       "      <td></td>\n",
       "      <td></td>\n",
       "      <td>1</td>\n",
       "    </tr>\n",
       "    <tr>\n",
       "      <th>1</th>\n",
       "      <td>6394</td>\n",
       "      <td>1010.0</td>\n",
       "      <td>12.0</td>\n",
       "      <td>1</td>\n",
       "      <td>2011-07-28</td>\n",
       "      <td></td>\n",
       "      <td>9</td>\n",
       "      <td>5</td>\n",
       "      <td>0.0</td>\n",
       "      <td>0</td>\n",
       "      <td>...</td>\n",
       "      <td></td>\n",
       "      <td></td>\n",
       "      <td></td>\n",
       "      <td></td>\n",
       "      <td>1.0</td>\n",
       "      <td></td>\n",
       "      <td></td>\n",
       "      <td></td>\n",
       "      <td></td>\n",
       "      <td>1</td>\n",
       "    </tr>\n",
       "    <tr>\n",
       "      <th>2</th>\n",
       "      <td>6021</td>\n",
       "      <td>1042.0</td>\n",
       "      <td>11.0</td>\n",
       "      <td>7</td>\n",
       "      <td>2011-09-27</td>\n",
       "      <td></td>\n",
       "      <td>17</td>\n",
       "      <td>7</td>\n",
       "      <td>0.0</td>\n",
       "      <td>0</td>\n",
       "      <td>...</td>\n",
       "      <td></td>\n",
       "      <td></td>\n",
       "      <td></td>\n",
       "      <td></td>\n",
       "      <td>2.0</td>\n",
       "      <td></td>\n",
       "      <td></td>\n",
       "      <td></td>\n",
       "      <td></td>\n",
       "      <td>1</td>\n",
       "    </tr>\n",
       "    <tr>\n",
       "      <th>3</th>\n",
       "      <td>3296</td>\n",
       "      <td>1043.0</td>\n",
       "      <td>11.0</td>\n",
       "      <td>8</td>\n",
       "      <td>2010-05-17</td>\n",
       "      <td></td>\n",
       "      <td>9</td>\n",
       "      <td>5</td>\n",
       "      <td>0.0</td>\n",
       "      <td>0</td>\n",
       "      <td>...</td>\n",
       "      <td></td>\n",
       "      <td></td>\n",
       "      <td></td>\n",
       "      <td></td>\n",
       "      <td>2.0</td>\n",
       "      <td></td>\n",
       "      <td></td>\n",
       "      <td></td>\n",
       "      <td></td>\n",
       "      <td>1</td>\n",
       "    </tr>\n",
       "    <tr>\n",
       "      <th>4</th>\n",
       "      <td>6500</td>\n",
       "      <td>1043.0</td>\n",
       "      <td>12.0</td>\n",
       "      <td></td>\n",
       "      <td>2011-07-27</td>\n",
       "      <td></td>\n",
       "      <td>9</td>\n",
       "      <td>5</td>\n",
       "      <td>0.0</td>\n",
       "      <td>0</td>\n",
       "      <td>...</td>\n",
       "      <td></td>\n",
       "      <td></td>\n",
       "      <td></td>\n",
       "      <td></td>\n",
       "      <td>2.0</td>\n",
       "      <td>1</td>\n",
       "      <td></td>\n",
       "      <td></td>\n",
       "      <td></td>\n",
       "      <td>1</td>\n",
       "    </tr>\n",
       "  </tbody>\n",
       "</table>\n",
       "<p>5 rows × 394 columns</p>\n",
       "</div>"
      ],
      "text/plain": [
       "   Unnamed: 0  UniqueID  YSET_I_R y_TotalFactors y_DateS1_Interview  \\\n",
       "0        3131    1010.0      11.0                        2010-05-13   \n",
       "1        6394    1010.0      12.0              1         2011-07-28   \n",
       "2        6021    1042.0      11.0              7         2011-09-27   \n",
       "3        3296    1043.0      11.0              8         2010-05-17   \n",
       "4        6500    1043.0      12.0                        2011-07-27   \n",
       "\n",
       "  YouthStatus Agency GRYD_Zone  Ethnicity_Asian Ethnicity_Black  ...  \\\n",
       "0                  9         5              0.0               0  ...   \n",
       "1                  9         5              0.0               0  ...   \n",
       "2                 17         7              0.0               0  ...   \n",
       "3                  9         5              0.0               0  ...   \n",
       "4                  9         5              0.0               0  ...   \n",
       "\n",
       "   YSET_Days  YSET_Version YSETDirections YSETDirections_ETO YSETResults  \\\n",
       "0                                                                    2.0   \n",
       "1                                                                    1.0   \n",
       "2                                                                    2.0   \n",
       "3                                                                    2.0   \n",
       "4                                                                    2.0   \n",
       "\n",
       "   YSETStatus  GRYD_Zone2018 GRYD_ZoneSubRegion PrimaryLast  PrimaryLast1  \n",
       "0                                                                       1  \n",
       "1                                                                       1  \n",
       "2                                                                       1  \n",
       "3                                                                       1  \n",
       "4           1                                                           1  \n",
       "\n",
       "[5 rows x 394 columns]"
      ]
     },
     "execution_count": 5,
     "metadata": {},
     "output_type": "execute_result"
    }
   ],
   "source": [
    "df.head()"
   ]
  },
  {
   "cell_type": "code",
   "execution_count": 6,
   "metadata": {},
   "outputs": [
    {
     "data": {
      "text/plain": [
       "Text(0, 0.5, 'frequency')"
      ]
     },
     "execution_count": 6,
     "metadata": {},
     "output_type": "execute_result"
    },
    {
     "data": {
      "image/png": "[encoded data removed]",
      "text/plain": [
       "<Figure size 432x288 with 1 Axes>"
      ]
     },
     "metadata": {
      "needs_background": "light"
     },
     "output_type": "display_data"
    }
   ],
   "source": [
    "#build histograms about a particular question \n",
    "plt.hist(df[\"de20_combo\"])\n",
    "plt.xlabel('score in de20_combo')\n",
    "plt.ylabel('frequency')"
   ]
  },
  {
   "cell_type": "code",
   "execution_count": 12,
   "metadata": {},
   "outputs": [
    {
     "data": {
      "image/png": "[encoded data removed]",
      "text/plain": [
       "<Figure size 432x288 with 1 Axes>"
      ]
     },
     "metadata": {
      "needs_background": "light"
     },
     "output_type": "display_data"
    }
   ],
   "source": [
    "#build scatterplot between age and score in de20_combo\n",
    "plt.scatter(x = df[\"Age\"], y = df[\"de20_combo\"])\n",
    "plt.xlabel('age')\n",
    "plt.ylabel('score in de20_combo')\n",
    "plt.show()"
   ]
  },
  {
   "cell_type": "code",
   "execution_count": null,
   "metadata": {},
   "outputs": [],
   "source": []
  }
 ],
 "metadata": {
  "kernelspec": {
   "display_name": "Python 3",
   "language": "python",
   "name": "python3"
  },
  "language_info": {
   "codemirror_mode": {
    "name": "ipython",
    "version": 3
   },
   "file_extension": ".py",
   "mimetype": "text/x-python",
   "name": "python",
   "nbconvert_exporter": "python",
   "pygments_lexer": "ipython3",
   "version": "3.7.3"
  }
 },
 "nbformat": 4,
 "nbformat_minor": 2
}
