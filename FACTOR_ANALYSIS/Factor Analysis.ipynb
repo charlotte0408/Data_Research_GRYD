{
 "cells": [
  {
   "cell_type": "code",
   "execution_count": 3,
   "metadata": {},
   "outputs": [
    {
     "ename": "ModuleNotFoundError",
     "evalue": "No module named 'factor_analyzer'",
     "output_type": "error",
     "traceback": [
      "\u001b[1;31m---------------------------------------------------------------------------\u001b[0m",
      "\u001b[1;31mModuleNotFoundError\u001b[0m                       Traceback (most recent call last)",
      "\u001b[1;32m<ipython-input-3-f8a90685ea30>\u001b[0m in \u001b[0;36m<module>\u001b[1;34m()\u001b[0m\n\u001b[0;32m      2\u001b[0m \u001b[1;32mimport\u001b[0m \u001b[0mnumpy\u001b[0m \u001b[1;32mas\u001b[0m \u001b[0mnp\u001b[0m\u001b[1;33m\u001b[0m\u001b[0m\n\u001b[0;32m      3\u001b[0m \u001b[1;32mimport\u001b[0m \u001b[0msys\u001b[0m\u001b[1;33m\u001b[0m\u001b[0m\n\u001b[1;32m----> 4\u001b[1;33m \u001b[1;32mfrom\u001b[0m \u001b[0mfactor_analyzer\u001b[0m \u001b[1;32mimport\u001b[0m \u001b[0mFactorAnalyzer\u001b[0m\u001b[1;33m\u001b[0m\u001b[0m\n\u001b[0m\u001b[0;32m      5\u001b[0m \u001b[1;32mfrom\u001b[0m \u001b[0mfactor_analyzer\u001b[0m\u001b[1;33m.\u001b[0m\u001b[0mfactor_analyzer\u001b[0m \u001b[1;32mimport\u001b[0m \u001b[0mcalculate_bartlett_sphericity\u001b[0m\u001b[1;33m\u001b[0m\u001b[0m\n\u001b[0;32m      6\u001b[0m \u001b[1;32mfrom\u001b[0m \u001b[0mfactor_analyzer\u001b[0m\u001b[1;33m.\u001b[0m\u001b[0mfactor_analyzer\u001b[0m \u001b[1;32mimport\u001b[0m \u001b[0mcalculate_kmo\u001b[0m\u001b[1;33m\u001b[0m\u001b[0m\n",
      "\u001b[1;31mModuleNotFoundError\u001b[0m: No module named 'factor_analyzer'"
     ]
    }
   ],
   "source": [
    "import pandas as pd\n",
    "import numpy as np\n",
    "import sys\n",
    "from factor_analyzer import FactorAnalyzer\n",
    "from factor_analyzer.factor_analyzer import calculate_bartlett_sphericity\n",
    "from factor_analyzer.factor_analyzer import calculate_kmo\n",
    "import matplotlib.pyplot as plt"
   ]
  },
  {
   "cell_type": "code",
   "execution_count": null,
   "metadata": {},
   "outputs": [],
   "source": [
    "# Processing Data\n",
    "df = pd.read_csv('New_Cleaned_Data.csv')\n",
    "dfr2 = df.loc[:, 'a1_combo':'ij56_ever_combo']\n",
    "d2 = dfr2.convert_objects(convert_numeric=True)\n",
    "n2 = d2.to_numpy()\n",
    "n2 = n2[~np.isnan(n2).any(axis=1)]\n",
    "#print(n2.shape)\n",
    "# Print all the elements in np array\n",
    "np.set_printoptions(threshold=sys.maxsize)"
   ]
  },
  {
   "cell_type": "code",
   "execution_count": null,
   "metadata": {},
   "outputs": [],
   "source": [
    "# Apply Bartlett Test and KMO Test to Verify FA is valid\n",
    "chi_square_value,p_value=calculate_bartlett_sphericity(n2)\n",
    "print()\n",
    "print()\n",
    "print('chi-value: %0.2f, p_value: %0.2f ' % (chi_square_value, p_value))\n",
    "kmo_all,kmo_model=calculate_kmo(n2)\n",
    "print('KMO value: %0.2f' % kmo_model)\n",
    "print()\n",
    "print()\n",
    "\n",
    "pd.set_option('display.max_columns',100)\n",
    "pd.set_option('display.max_row',100)"
   ]
  },
  {
   "cell_type": "code",
   "execution_count": null,
   "metadata": {},
   "outputs": [],
   "source": [
    "# Factor Analysis\n",
    "FA = FactorAnalyzer(n_factors=5, rotation='varimax')\n",
    "FA.fit(n2)\n",
    "# Find the Eigenvalues, we need to pick those that are big\n",
    "eign,vec = FA.get_eigenvalues()\n",
    "percentage = eign/sum(eign)\n",
    "xlabel = []\n",
    "for i in range(73):\n",
    "    xlabel.append(i+1)\n",
    "plt.bar(xlabel,percentage)\n",
    "plt.title(\"Explained Ratio of Each Factor\")\n",
    "plt.show()"
   ]
  },
  {
   "cell_type": "code",
   "execution_count": null,
   "metadata": {},
   "outputs": [],
   "source": [
    "# The loadings are the coefficients, and select those are above threshold\n",
    "factorsnp = FA.loadings_\n",
    "factorsnp[abs(factorsnp)<0.25]=0\n",
    "factors = pd.DataFrame(data=factorsnp)\n",
    "print(factors)"
   ]
  }
 ],
 "metadata": {
  "kernelspec": {
   "display_name": "Python 3",
   "language": "python",
   "name": "python3"
  },
  "language_info": {
   "codemirror_mode": {
    "name": "ipython",
    "version": 3
   },
   "file_extension": ".py",
   "mimetype": "text/x-python",
   "name": "python",
   "nbconvert_exporter": "python",
   "pygments_lexer": "ipython3",
   "version": "3.6.5"
  }
 },
 "nbformat": 4,
 "nbformat_minor": 2
}
