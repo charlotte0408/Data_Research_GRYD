{
 "cells": [
  {
   "cell_type": "markdown",
   "metadata": {},
   "source": [
    "## Data Import and Matrix Split"
   ]
  },
  {
   "cell_type": "code",
   "execution_count": 1,
   "metadata": {},
   "outputs": [],
   "source": [
    "import numpy as np\n",
    "import pandas as pd\n",
    "import matplotlib.pyplot as plt\n",
    "import warnings\n",
    "import matplotlib.pyplot as plt\n",
    "warnings.filterwarnings('ignore')"
   ]
  },
  {
   "cell_type": "markdown",
   "metadata": {},
   "source": [
    "### Fill in gender in R1 and R2 matrix"
   ]
  },
  {
   "cell_type": "code",
   "execution_count": 2,
   "metadata": {},
   "outputs": [],
   "source": [
    "df = pd.read_csv('Intersection_Y1R1R2_0702Y1_R1_R2_on_0702clean_data.csv')"
   ]
  },
  {
   "cell_type": "code",
   "execution_count": 3,
   "metadata": {},
   "outputs": [],
   "source": [
    "df = pd.read_csv('Intersection_Y1R1R2_0702Y1_0702.csv')\n",
    "Y1 = df.loc[:, 'UniqueID':'t39_combo']\n",
    "Y1['RiskFactor'] = df['RiskFactor']\n",
    "Y1['Gender'] = df['Gender']"
   ]
  },
  {
   "cell_type": "code",
   "execution_count": 4,
   "metadata": {},
   "outputs": [
    {
     "data": {
      "text/html": [
       "<div>\n",
       "<style scoped>\n",
       "    .dataframe tbody tr th:only-of-type {\n",
       "        vertical-align: middle;\n",
       "    }\n",
       "\n",
       "    .dataframe tbody tr th {\n",
       "        vertical-align: top;\n",
       "    }\n",
       "\n",
       "    .dataframe thead th {\n",
       "        text-align: right;\n",
       "    }\n",
       "</style>\n",
       "<table border=\"1\" class=\"dataframe\">\n",
       "  <thead>\n",
       "    <tr style=\"text-align: right;\">\n",
       "      <th></th>\n",
       "      <th>Unnamed: 0</th>\n",
       "      <th>UniqueID</th>\n",
       "      <th>a1_combo</th>\n",
       "      <th>a2_combo</th>\n",
       "      <th>a3_combo</th>\n",
       "      <th>a4_combo</th>\n",
       "      <th>a5_combo</th>\n",
       "      <th>a6_combo</th>\n",
       "      <th>b7_combo</th>\n",
       "      <th>b8_combo</th>\n",
       "      <th>...</th>\n",
       "      <th>Section_f</th>\n",
       "      <th>Section_g</th>\n",
       "      <th>Section_h</th>\n",
       "      <th>Section_t</th>\n",
       "      <th>Section_ij_6mos</th>\n",
       "      <th>Section_ij_ever</th>\n",
       "      <th>ClientType</th>\n",
       "      <th>PR: Max Last Status</th>\n",
       "      <th>Dismissal Reason</th>\n",
       "      <th>RiskFactor</th>\n",
       "    </tr>\n",
       "  </thead>\n",
       "  <tbody>\n",
       "    <tr>\n",
       "      <th>0</th>\n",
       "      <td>0</td>\n",
       "      <td>10358.0</td>\n",
       "      <td>3.0</td>\n",
       "      <td>5.0</td>\n",
       "      <td>4.0</td>\n",
       "      <td>5.0</td>\n",
       "      <td>4.0</td>\n",
       "      <td>3.0</td>\n",
       "      <td>3.0</td>\n",
       "      <td>2.0</td>\n",
       "      <td>...</td>\n",
       "      <td>1</td>\n",
       "      <td>0</td>\n",
       "      <td>4</td>\n",
       "      <td>1.0</td>\n",
       "      <td>2</td>\n",
       "      <td>8.0</td>\n",
       "      <td>Secondary Prevention</td>\n",
       "      <td>Graduated program successfully</td>\n",
       "      <td>NaN</td>\n",
       "      <td>8</td>\n",
       "    </tr>\n",
       "    <tr>\n",
       "      <th>1</th>\n",
       "      <td>3</td>\n",
       "      <td>10383.0</td>\n",
       "      <td>4.0</td>\n",
       "      <td>5.0</td>\n",
       "      <td>4.0</td>\n",
       "      <td>4.0</td>\n",
       "      <td>5.0</td>\n",
       "      <td>3.0</td>\n",
       "      <td>3.0</td>\n",
       "      <td>3.0</td>\n",
       "      <td>...</td>\n",
       "      <td>4</td>\n",
       "      <td>4</td>\n",
       "      <td>4</td>\n",
       "      <td>3.0</td>\n",
       "      <td>4</td>\n",
       "      <td>15.0</td>\n",
       "      <td>Secondary Prevention</td>\n",
       "      <td>Other (specify)</td>\n",
       "      <td>NaN</td>\n",
       "      <td>9</td>\n",
       "    </tr>\n",
       "    <tr>\n",
       "      <th>2</th>\n",
       "      <td>6</td>\n",
       "      <td>10392.0</td>\n",
       "      <td>3.0</td>\n",
       "      <td>5.0</td>\n",
       "      <td>3.0</td>\n",
       "      <td>1.0</td>\n",
       "      <td>3.0</td>\n",
       "      <td>1.0</td>\n",
       "      <td>5.0</td>\n",
       "      <td>3.0</td>\n",
       "      <td>...</td>\n",
       "      <td>0</td>\n",
       "      <td>1</td>\n",
       "      <td>0</td>\n",
       "      <td>0.0</td>\n",
       "      <td>0</td>\n",
       "      <td>2.0</td>\n",
       "      <td>Secondary Prevention</td>\n",
       "      <td>Graduated program successfully</td>\n",
       "      <td>NaN</td>\n",
       "      <td>4</td>\n",
       "    </tr>\n",
       "    <tr>\n",
       "      <th>3</th>\n",
       "      <td>9</td>\n",
       "      <td>10393.0</td>\n",
       "      <td>2.0</td>\n",
       "      <td>3.0</td>\n",
       "      <td>4.0</td>\n",
       "      <td>2.0</td>\n",
       "      <td>3.0</td>\n",
       "      <td>2.0</td>\n",
       "      <td>4.0</td>\n",
       "      <td>3.0</td>\n",
       "      <td>...</td>\n",
       "      <td>1</td>\n",
       "      <td>2</td>\n",
       "      <td>4</td>\n",
       "      <td>3.0</td>\n",
       "      <td>1</td>\n",
       "      <td>10.0</td>\n",
       "      <td>Secondary Prevention</td>\n",
       "      <td>Graduated program successfully</td>\n",
       "      <td>NaN</td>\n",
       "      <td>9</td>\n",
       "    </tr>\n",
       "    <tr>\n",
       "      <th>4</th>\n",
       "      <td>12</td>\n",
       "      <td>10397.0</td>\n",
       "      <td>3.0</td>\n",
       "      <td>5.0</td>\n",
       "      <td>2.0</td>\n",
       "      <td>4.0</td>\n",
       "      <td>3.0</td>\n",
       "      <td>3.0</td>\n",
       "      <td>4.0</td>\n",
       "      <td>3.0</td>\n",
       "      <td>...</td>\n",
       "      <td>1</td>\n",
       "      <td>2</td>\n",
       "      <td>0</td>\n",
       "      <td>0.0</td>\n",
       "      <td>0</td>\n",
       "      <td>3.0</td>\n",
       "      <td>Secondary Prevention</td>\n",
       "      <td>Graduated program successfully</td>\n",
       "      <td>NaN</td>\n",
       "      <td>6</td>\n",
       "    </tr>\n",
       "  </tbody>\n",
       "</table>\n",
       "<p>5 rows × 102 columns</p>\n",
       "</div>"
      ],
      "text/plain": [
       "   Unnamed: 0  UniqueID  a1_combo  a2_combo  a3_combo  a4_combo  a5_combo  \\\n",
       "0           0   10358.0       3.0       5.0       4.0       5.0       4.0   \n",
       "1           3   10383.0       4.0       5.0       4.0       4.0       5.0   \n",
       "2           6   10392.0       3.0       5.0       3.0       1.0       3.0   \n",
       "3           9   10393.0       2.0       3.0       4.0       2.0       3.0   \n",
       "4          12   10397.0       3.0       5.0       2.0       4.0       3.0   \n",
       "\n",
       "   a6_combo  b7_combo  b8_combo     ...      Section_f  Section_g  Section_h  \\\n",
       "0       3.0       3.0       2.0     ...              1          0          4   \n",
       "1       3.0       3.0       3.0     ...              4          4          4   \n",
       "2       1.0       5.0       3.0     ...              0          1          0   \n",
       "3       2.0       4.0       3.0     ...              1          2          4   \n",
       "4       3.0       4.0       3.0     ...              1          2          0   \n",
       "\n",
       "   Section_t  Section_ij_6mos  Section_ij_ever            ClientType  \\\n",
       "0        1.0                2              8.0  Secondary Prevention   \n",
       "1        3.0                4             15.0  Secondary Prevention   \n",
       "2        0.0                0              2.0  Secondary Prevention   \n",
       "3        3.0                1             10.0  Secondary Prevention   \n",
       "4        0.0                0              3.0  Secondary Prevention   \n",
       "\n",
       "              PR: Max Last Status  Dismissal Reason  RiskFactor  \n",
       "0  Graduated program successfully               NaN           8  \n",
       "1                 Other (specify)               NaN           9  \n",
       "2  Graduated program successfully               NaN           4  \n",
       "3  Graduated program successfully               NaN           9  \n",
       "4  Graduated program successfully               NaN           6  \n",
       "\n",
       "[5 rows x 102 columns]"
      ]
     },
     "execution_count": 4,
     "metadata": {},
     "output_type": "execute_result"
    }
   ],
   "source": [
    "df.head()"
   ]
  },
  {
   "cell_type": "code",
   "execution_count": 5,
   "metadata": {},
   "outputs": [],
   "source": [
    "df = pd.read_csv('Intersection_Y1R1R2_0702R1_0702.csv')\n",
    "R1 = df.loc[:, 'UniqueID':'t39_combo']\n",
    "R1['RiskFactor'] = df['RiskFactor']\n",
    "R1['Gender'] = df['Gender']"
   ]
  },
  {
   "cell_type": "code",
   "execution_count": 6,
   "metadata": {},
   "outputs": [],
   "source": [
    "df = pd.read_csv('Intersection_Y1R1R2_0702R2_0702.csv')\n",
    "R2 = df.loc[:, 'UniqueID':'t39_combo']\n",
    "R2['RiskFactor'] = df['RiskFactor']\n",
    "R2['Gender'] = df['Gender']"
   ]
  },
  {
   "cell_type": "code",
   "execution_count": 7,
   "metadata": {},
   "outputs": [],
   "source": [
    "# change all nan gender values in R1 according to their values in Y1\n",
    "\n",
    "for index in R1.index:\n",
    "    if pd.isnull(R1.loc[index, 'Gender']):\n",
    "        gender = Y1.loc[index,'Gender']\n",
    "        R1.loc[index, 'Gender'] = gender"
   ]
  },
  {
   "cell_type": "code",
   "execution_count": 8,
   "metadata": {},
   "outputs": [],
   "source": [
    "# change all nan gender values in R2 according to their values in Y1\n",
    "\n",
    "for index in R2.index:\n",
    "    if pd.isnull(R2.loc[index, 'Gender']):\n",
    "        gender = Y1.loc[index,'Gender']\n",
    "        R2.loc[index, 'Gender'] = gender"
   ]
  },
  {
   "cell_type": "code",
   "execution_count": 9,
   "metadata": {},
   "outputs": [],
   "source": [
    "Gender_Incos = []\n",
    "for index in Y1.index:\n",
    "    if (Y1.loc[index, 'Gender'] != R1.loc[index, 'Gender']) or (R1.loc[index, 'Gender'] != R2.loc[index, 'Gender']) or (Y1.loc[index, 'Gender'] != R2.loc[index, 'Gender']) :\n",
    "        Gender_Incos.append(Y1.loc[index, 'UniqueID'])"
   ]
  },
  {
   "cell_type": "markdown",
   "metadata": {},
   "source": [
    "### Drop IDs with Nan values"
   ]
  },
  {
   "cell_type": "code",
   "execution_count": 10,
   "metadata": {},
   "outputs": [
    {
     "data": {
      "text/plain": [
       "[]"
      ]
     },
     "execution_count": 10,
     "metadata": {},
     "output_type": "execute_result"
    }
   ],
   "source": [
    "#indices\n",
    "columns = Y1.columns.tolist()\n",
    "columns = columns[:-1]\n",
    "\n",
    "#create list of indices that have NaN values in their rows\n",
    "index_list=[]\n",
    "for col in columns:   \n",
    "    index_list.extend(Y1[Y1[col].isnull()].index.tolist())\n",
    "index_list\n",
    "\n",
    "#make this list unique\n",
    "my_set = set(index_list)\n",
    "unique_index_list = list(my_set)\n",
    "unique_index_list"
   ]
  },
  {
   "cell_type": "code",
   "execution_count": 11,
   "metadata": {},
   "outputs": [
    {
     "data": {
      "text/plain": [
       "[]"
      ]
     },
     "execution_count": 11,
     "metadata": {},
     "output_type": "execute_result"
    }
   ],
   "source": [
    "#create list of indices that have NaN values in their rows\n",
    "index_list=[]\n",
    "for col in columns:   \n",
    "    index_list.extend(R1[R1[col].isnull()].index.tolist())\n",
    "index_list\n",
    "\n",
    "#make this list unique\n",
    "my_set = set(index_list)\n",
    "unique_index_list1 = list(my_set)\n",
    "unique_index_list1"
   ]
  },
  {
   "cell_type": "code",
   "execution_count": 12,
   "metadata": {},
   "outputs": [
    {
     "data": {
      "text/plain": [
       "[]"
      ]
     },
     "execution_count": 12,
     "metadata": {},
     "output_type": "execute_result"
    }
   ],
   "source": [
    "#create list of indices that have NaN values in their rows\n",
    "index_list=[]\n",
    "for col in columns:   \n",
    "    index_list.extend(R2[R2[col].isnull()].index.tolist())\n",
    "index_list\n",
    "\n",
    "#make this list unique\n",
    "my_set = set(index_list)\n",
    "unique_index_list2 = list(my_set)\n",
    "unique_index_list2"
   ]
  },
  {
   "cell_type": "code",
   "execution_count": 13,
   "metadata": {},
   "outputs": [
    {
     "data": {
      "text/plain": [
       "[]"
      ]
     },
     "execution_count": 13,
     "metadata": {},
     "output_type": "execute_result"
    }
   ],
   "source": [
    "#make list of UniqueIDs associated with these NaN values\n",
    "ID_list = []\n",
    "for i in unique_index_list1:\n",
    "    ID_list.append(R1.loc[i,'UniqueID'])\n",
    "ID_list"
   ]
  },
  {
   "cell_type": "code",
   "execution_count": 14,
   "metadata": {},
   "outputs": [
    {
     "data": {
      "text/plain": [
       "[]"
      ]
     },
     "execution_count": 14,
     "metadata": {},
     "output_type": "execute_result"
    }
   ],
   "source": [
    "#make list of UniqueIDs associated with these NaN values\n",
    "for i in unique_index_list2:\n",
    "    ID_list.append(R2.loc[i,'UniqueID'])\n",
    "ID_list"
   ]
  },
  {
   "cell_type": "code",
   "execution_count": 15,
   "metadata": {},
   "outputs": [],
   "source": [
    "ID_list.extend(Gender_Incos)"
   ]
  },
  {
   "cell_type": "code",
   "execution_count": 16,
   "metadata": {},
   "outputs": [
    {
     "data": {
      "text/plain": [
       "[11177.0,\n",
       " 11195.0,\n",
       " 11218.0,\n",
       " 11394.0,\n",
       " 11419.0,\n",
       " 11752.0,\n",
       " 12926.0,\n",
       " 12952.0,\n",
       " 13071.0,\n",
       " 17040.0,\n",
       " 17651.0,\n",
       " 17851.0,\n",
       " 17959.0,\n",
       " 21493.0,\n",
       " 22624.0,\n",
       " 28767.0,\n",
       " 29298.0,\n",
       " 29415.0,\n",
       " 29542.0,\n",
       " 29704.0,\n",
       " 31457.0,\n",
       " 31947.0,\n",
       " 32298.0,\n",
       " 33616.0,\n",
       " 34230.0,\n",
       " 41607.0]"
      ]
     },
     "execution_count": 16,
     "metadata": {},
     "output_type": "execute_result"
    }
   ],
   "source": [
    "ID_list"
   ]
  },
  {
   "cell_type": "code",
   "execution_count": 17,
   "metadata": {},
   "outputs": [],
   "source": [
    "#drop these IDs from the data\n",
    "for id in ID_list:\n",
    "    Y1 = Y1[Y1['UniqueID']!=id]"
   ]
  },
  {
   "cell_type": "code",
   "execution_count": 18,
   "metadata": {},
   "outputs": [],
   "source": [
    "#drop these IDs from the data\n",
    "for id in ID_list:\n",
    "    R1 = R1[R1['UniqueID']!=id]"
   ]
  },
  {
   "cell_type": "code",
   "execution_count": 19,
   "metadata": {},
   "outputs": [],
   "source": [
    "#drop these IDs from the data\n",
    "for id in ID_list:\n",
    "    R2 = R2[R2['UniqueID']!=id]"
   ]
  },
  {
   "cell_type": "markdown",
   "metadata": {},
   "source": [
    "## Split each matrix by Gender"
   ]
  },
  {
   "cell_type": "code",
   "execution_count": 20,
   "metadata": {},
   "outputs": [],
   "source": [
    "Y1_M = Y1[Y1['Gender'] == 1]\n",
    "Y1_F = Y1[Y1['Gender'] == 2]\n",
    "Y1_M = Y1_M.drop('UniqueID', axis=1)\n",
    "Y1_F = Y1_F.drop('UniqueID', axis=1)\n",
    "Y1_M = Y1_M.drop('Gender', axis=1)\n",
    "Y1_F = Y1_F.drop('Gender', axis=1)\n",
    "Y1_M = Y1_M.transpose()\n",
    "Y1_F = Y1_F.transpose()"
   ]
  },
  {
   "cell_type": "code",
   "execution_count": 21,
   "metadata": {},
   "outputs": [
    {
     "data": {
      "text/plain": [
       "(40, 933)"
      ]
     },
     "execution_count": 21,
     "metadata": {},
     "output_type": "execute_result"
    }
   ],
   "source": [
    "Y1_M.shape"
   ]
  },
  {
   "cell_type": "code",
   "execution_count": 22,
   "metadata": {},
   "outputs": [
    {
     "data": {
      "text/plain": [
       "(40, 588)"
      ]
     },
     "execution_count": 22,
     "metadata": {},
     "output_type": "execute_result"
    }
   ],
   "source": [
    "Y1_F.shape"
   ]
  },
  {
   "cell_type": "code",
   "execution_count": 23,
   "metadata": {},
   "outputs": [
    {
     "data": {
      "text/plain": [
       "(40, 933)"
      ]
     },
     "execution_count": 23,
     "metadata": {},
     "output_type": "execute_result"
    }
   ],
   "source": [
    "R1_M = R1[R1['Gender'] == 1]\n",
    "R1_F = R1[R1['Gender'] == 2]\n",
    "R1_M = R1_M.drop('UniqueID', axis=1)\n",
    "R1_F = R1_F.drop('UniqueID', axis=1)\n",
    "R1_M = R1_M.drop('Gender', axis=1)\n",
    "R1_F = R1_F.drop('Gender', axis=1)\n",
    "R1_M = R1_M.transpose()\n",
    "R1_F = R1_F.transpose()\n",
    "R1_M.shape"
   ]
  },
  {
   "cell_type": "code",
   "execution_count": 24,
   "metadata": {},
   "outputs": [
    {
     "data": {
      "text/plain": [
       "(40, 588)"
      ]
     },
     "execution_count": 24,
     "metadata": {},
     "output_type": "execute_result"
    }
   ],
   "source": [
    "R1_F.shape"
   ]
  },
  {
   "cell_type": "code",
   "execution_count": 25,
   "metadata": {},
   "outputs": [
    {
     "data": {
      "text/plain": [
       "(40, 933)"
      ]
     },
     "execution_count": 25,
     "metadata": {},
     "output_type": "execute_result"
    }
   ],
   "source": [
    "R2_M = R2[R2['Gender'] == 1]\n",
    "R2_F = R2[R2['Gender'] == 2]\n",
    "R2_M = R2_M.drop('UniqueID', axis=1)\n",
    "R2_F = R2_F.drop('UniqueID', axis=1)\n",
    "R2_M = R2_M.drop('Gender', axis=1)\n",
    "R2_F = R2_F.drop('Gender', axis=1)\n",
    "R2_M = R2_M.transpose()\n",
    "R2_F = R2_F.transpose()\n",
    "R2_M.shape"
   ]
  },
  {
   "cell_type": "markdown",
   "metadata": {},
   "source": [
    "## Standardize all responses to (0,1)"
   ]
  },
  {
   "cell_type": "code",
   "execution_count": 26,
   "metadata": {},
   "outputs": [],
   "source": [
    "for i in range(933):\n",
    "    Y1_M.iloc[37,i]=Y1_M.iloc[37,i]+1\n",
    "    Y1_M.iloc[38,i]=Y1_M.iloc[38,i]+1   \n",
    "    R1_M.iloc[37,i]=R1_M.iloc[37,i]+1    \n",
    "    R1_M.iloc[38,i]=R1_M.iloc[38,i]+1       \n",
    "    R2_M.iloc[37,i]=R2_M.iloc[37,i]+1    \n",
    "    R2_M.iloc[38,i]=R2_M.iloc[38,i]+1\n",
    "    \n",
    "for i in range(588): \n",
    "    Y1_F.iloc[37,i]=Y1_F.iloc[37,i]+1\n",
    "    Y1_F.iloc[38,i]=Y1_F.iloc[38,i]+1\n",
    "    R1_F.iloc[37,i]=R1_F.iloc[37,i]+1\n",
    "    R1_F.iloc[38,i]=R1_F.iloc[38,i]+1\n",
    "    R2_F.iloc[37,i]=R2_F.iloc[37,i]+1\n",
    "    R2_F.iloc[38,i]=R2_F.iloc[38,i]+1"
   ]
  },
  {
   "cell_type": "code",
   "execution_count": 27,
   "metadata": {},
   "outputs": [],
   "source": [
    "newlist=[]\n",
    "for i in range(9):\n",
    "    newlist.append(i)\n",
    "for i in range(16,39):\n",
    "    newlist.append(i)"
   ]
  },
  {
   "cell_type": "code",
   "execution_count": 28,
   "metadata": {},
   "outputs": [],
   "source": [
    "for i in newlist:\n",
    "    for j in range (933):\n",
    "        Y1_M.iloc[i,j]=(Y1_M.iloc[i,j]-1)/4\n",
    "        R1_M.iloc[i,j]=(R1_M.iloc[i,j]-1)/4\n",
    "        R2_M.iloc[i,j]=(R2_M.iloc[i,j]-1)/4\n",
    "        \n",
    "for i in newlist:\n",
    "    for j in range (588):\n",
    "        Y1_F.iloc[i,j]=(Y1_F.iloc[i,j]-1)/4\n",
    "        R1_F.iloc[i,j]=(R1_F.iloc[i,j]-1)/4\n",
    "        R2_F.iloc[i,j]=(R2_F.iloc[i,j]-1)/4\n",
    "        \n",
    "for j in range (933):\n",
    "        Y1_M.iloc[39,j]=Y1_M.iloc[39,j]/9\n",
    "        R1_M.iloc[39,j]=R1_M.iloc[39,j]/9\n",
    "        R2_M.iloc[39,j]=R2_M.iloc[39,j]/9\n",
    "\n",
    "for j in range (588):\n",
    "        Y1_F.iloc[39,j]=Y1_F.iloc[39,j]/9\n",
    "        R1_F.iloc[39,j]=R1_F.iloc[39,j]/9\n",
    "        R2_F.iloc[39,j]=R2_F.iloc[39,j]/9"
   ]
  },
  {
   "cell_type": "markdown",
   "metadata": {},
   "source": [
    "## DMD for Gender"
   ]
  },
  {
   "cell_type": "markdown",
   "metadata": {},
   "source": [
    "### Y1 to R1"
   ]
  },
  {
   "cell_type": "markdown",
   "metadata": {},
   "source": [
    "#### Female Y1 to R1"
   ]
  },
  {
   "cell_type": "code",
   "execution_count": 29,
   "metadata": {},
   "outputs": [],
   "source": [
    "U_Y1F,Sig_Y1F,V_Y1F=np.linalg.svd(Y1_F, full_matrices=False)    \n",
    "U_Y1F_T=U_Y1F.conjugate().transpose()\n",
    "V_Y1F_T=V_Y1F.conjugate().transpose()\n",
    "Sig_inv_Y1F=np.zeros((40, 40))\n",
    "for i in range(40):\n",
    "    for j in range(40):\n",
    "        if i==j:\n",
    "            Sig_inv_Y1F[i][j]=1/Sig_Y1F[i]"
   ]
  },
  {
   "cell_type": "code",
   "execution_count": 30,
   "metadata": {},
   "outputs": [
    {
     "data": {
      "text/plain": [
       "array([[ 1.96481712e-01,  1.91685808e-02, -5.76299373e-02, ...,\n",
       "         2.67341658e-02,  2.26922012e-02,  3.93686283e-02],\n",
       "       [ 1.06605427e-02,  3.31251659e-01,  1.30718984e-01, ...,\n",
       "         8.53186488e-02, -2.69091164e-02, -9.21938935e-02],\n",
       "       [-2.05773013e-02,  2.19016357e-02,  1.96855823e-01, ...,\n",
       "         6.81014631e-02, -1.10464760e-03, -8.02136918e-02],\n",
       "       ...,\n",
       "       [-1.92800330e-02,  6.40778368e-02,  9.12441762e-02, ...,\n",
       "         3.70091993e-01,  5.60473395e-02, -1.41698117e-01],\n",
       "       [-4.20858540e-02,  1.02107584e-01,  1.49223540e-04, ...,\n",
       "         5.89355146e-02,  5.67859201e-01, -2.12107731e-02],\n",
       "       [-9.75484687e-03,  1.19192025e-01,  4.58303468e-02, ...,\n",
       "         1.08216452e-01,  3.08913946e-02,  7.75585352e-02]])"
      ]
     },
     "execution_count": 30,
     "metadata": {},
     "output_type": "execute_result"
    }
   ],
   "source": [
    "A_step1=np.dot(R1_F,V_Y1F_T)\n",
    "A_step2=np.dot(A_step1,Sig_inv_Y1F)\n",
    "A_Y1F_R1=np.dot(A_step2,U_Y1F_T)\n",
    "A_Y1F_R1"
   ]
  },
  {
   "cell_type": "code",
   "execution_count": 31,
   "metadata": {},
   "outputs": [],
   "source": [
    "values_Y1_F, vectors_Y1_F = np.linalg.eig(A_Y1F_R1)"
   ]
  },
  {
   "cell_type": "code",
   "execution_count": 32,
   "metadata": {},
   "outputs": [],
   "source": [
    "eiglog_Y1_F = np.log(values_Y1_F)"
   ]
  },
  {
   "cell_type": "code",
   "execution_count": 33,
   "metadata": {},
   "outputs": [],
   "source": [
    "lamphi_Y1_F=np.zeros(40)\n",
    "for i in range (40):\n",
    "    rep=vectors_Y1_F[i]\n",
    "    norm=np.linalg.norm(rep)\n",
    "    val=np.absolute(values_Y1_F[i])*norm\n",
    "    lamphi_Y1_F[i]=val"
   ]
  },
  {
   "cell_type": "markdown",
   "metadata": {},
   "source": [
    "#### Male Y1 to R1"
   ]
  },
  {
   "cell_type": "code",
   "execution_count": 34,
   "metadata": {},
   "outputs": [],
   "source": [
    "U_Y1M,Sig_Y1M,V_Y1M=np.linalg.svd(Y1_M, full_matrices=False)    \n",
    "U_Y1M_T=U_Y1M.conjugate().transpose()\n",
    "V_Y1M_T=V_Y1M.conjugate().transpose()\n",
    "Sig_inv_Y1M=np.zeros((40, 40))\n",
    "for i in range(40):\n",
    "    for j in range(40):\n",
    "        if i==j:\n",
    "            Sig_inv_Y1M[i][j]=1/Sig_Y1M[i]"
   ]
  },
  {
   "cell_type": "code",
   "execution_count": 35,
   "metadata": {},
   "outputs": [
    {
     "data": {
      "text/plain": [
       "array([[ 2.17166533e-01, -1.51583395e-02, -2.17318853e-04, ...,\n",
       "         4.70853793e-02, -2.46797667e-02, -9.38410657e-02],\n",
       "       [ 7.59116031e-03,  3.19782283e-01,  6.57770926e-03, ...,\n",
       "         1.48037527e-02, -3.73807895e-02, -7.54413162e-02],\n",
       "       [ 4.97096281e-02, -3.65014267e-03,  1.76177298e-01, ...,\n",
       "         3.53366528e-02, -3.66699840e-02, -2.32746709e-02],\n",
       "       ...,\n",
       "       [-1.52440963e-02, -4.62542535e-02, -7.10161798e-03, ...,\n",
       "         3.16113629e-01,  8.91346524e-02, -2.39713108e-01],\n",
       "       [-8.01646117e-02, -1.23541966e-01,  3.87783723e-02, ...,\n",
       "         4.81491086e-02,  4.35309346e-01,  3.90276607e-02],\n",
       "       [-4.04952847e-03, -2.30042220e-02,  5.14687229e-02, ...,\n",
       "         9.17473321e-02,  6.79998474e-03, -1.13671248e-01]])"
      ]
     },
     "execution_count": 35,
     "metadata": {},
     "output_type": "execute_result"
    }
   ],
   "source": [
    "A_step1=np.dot(R1_M,V_Y1M_T)\n",
    "A_step2=np.dot(A_step1,Sig_inv_Y1M)\n",
    "A_Y1M_R1=np.dot(A_step2,U_Y1M_T)\n",
    "A_Y1M_R1"
   ]
  },
  {
   "cell_type": "code",
   "execution_count": 36,
   "metadata": {},
   "outputs": [],
   "source": [
    "values_Y1_M, vectors_Y1_M = np.linalg.eig(A_Y1M_R1)"
   ]
  },
  {
   "cell_type": "code",
   "execution_count": 37,
   "metadata": {},
   "outputs": [],
   "source": [
    "eiglog_Y1_M = np.log(values_Y1_M)"
   ]
  },
  {
   "cell_type": "code",
   "execution_count": 38,
   "metadata": {},
   "outputs": [],
   "source": [
    "lamphi_Y1_M=np.zeros(40)\n",
    "for i in range (40):\n",
    "    rep=vectors_Y1_M[i]\n",
    "    norm=np.linalg.norm(rep)\n",
    "    val=np.absolute(values_Y1_M[i])*norm\n",
    "    lamphi_Y1_M[i]=val"
   ]
  },
  {
   "cell_type": "markdown",
   "metadata": {},
   "source": [
    "### R1 to R2"
   ]
  },
  {
   "cell_type": "markdown",
   "metadata": {},
   "source": [
    "#### Female R1 to R2"
   ]
  },
  {
   "cell_type": "code",
   "execution_count": 39,
   "metadata": {},
   "outputs": [],
   "source": [
    "U_R1F,Sig_R1F,V_R1F=np.linalg.svd(R1_F, full_matrices=False)    \n",
    "U_R1F_T=U_R1F.conjugate().transpose()\n",
    "V_R1F_T=V_R1F.conjugate().transpose()\n",
    "Sig_inv_R1F=np.zeros((40, 40))\n",
    "for i in range(40):\n",
    "    for j in range(40):\n",
    "        if i==j:\n",
    "            Sig_inv_R1F[i][j]=1/Sig_R1F[i]"
   ]
  },
  {
   "cell_type": "code",
   "execution_count": 40,
   "metadata": {},
   "outputs": [
    {
     "data": {
      "text/plain": [
       "array([[ 0.19660151,  0.08700029,  0.05504705, ...,  0.03071846,\n",
       "         0.01884593,  0.0039101 ],\n",
       "       [-0.09023071,  0.38378719,  0.06814504, ...,  0.07307031,\n",
       "         0.05997939, -0.24468949],\n",
       "       [-0.05231261,  0.10018537,  0.26666684, ...,  0.01577858,\n",
       "        -0.01113894, -0.16584615],\n",
       "       ...,\n",
       "       [-0.02271462,  0.04027602, -0.01224309, ...,  0.21419469,\n",
       "         0.04506737, -0.17865858],\n",
       "       [ 0.01043452,  0.03758256, -0.05114881, ...,  0.02769049,\n",
       "         0.54986635, -0.0958961 ],\n",
       "       [ 0.0319103 ,  0.02414227,  0.01946357, ...,  0.05892295,\n",
       "         0.09271581, -0.10038457]])"
      ]
     },
     "execution_count": 40,
     "metadata": {},
     "output_type": "execute_result"
    }
   ],
   "source": [
    "A_step1=np.dot(R2_F,V_R1F_T)\n",
    "A_step2=np.dot(A_step1,Sig_inv_R1F)\n",
    "A_R1F_R2=np.dot(A_step2,U_R1F_T)\n",
    "A_R1F_R2"
   ]
  },
  {
   "cell_type": "code",
   "execution_count": 41,
   "metadata": {},
   "outputs": [],
   "source": [
    "values_R1_F, vectors_R1_F = np.linalg.eig(A_R1F_R2)"
   ]
  },
  {
   "cell_type": "code",
   "execution_count": 42,
   "metadata": {},
   "outputs": [],
   "source": [
    "eiglog_R1_F = np.log(values_R1_F)"
   ]
  },
  {
   "cell_type": "code",
   "execution_count": 43,
   "metadata": {},
   "outputs": [],
   "source": [
    "lamphi_R1_F=np.zeros(40)\n",
    "for i in range (40):\n",
    "    rep=vectors_R1_F[i]\n",
    "    norm=np.linalg.norm(rep)\n",
    "    val=np.absolute(values_R1_F[i])*norm\n",
    "    lamphi_R1_F[i]=val"
   ]
  },
  {
   "cell_type": "markdown",
   "metadata": {},
   "source": [
    "#### Male R1 to R2"
   ]
  },
  {
   "cell_type": "code",
   "execution_count": 44,
   "metadata": {},
   "outputs": [],
   "source": [
    "U_R1M,Sig_R1M,V_R1M=np.linalg.svd(R1_M, full_matrices=False)    \n",
    "U_R1M_T=U_R1M.conjugate().transpose()\n",
    "V_R1M_T=V_R1M.conjugate().transpose()\n",
    "Sig_inv_R1M=np.zeros((40, 40))\n",
    "for i in range(40):\n",
    "    for j in range(40):\n",
    "        if i==j:\n",
    "            Sig_inv_R1M[i][j]=1/Sig_R1M[i]"
   ]
  },
  {
   "cell_type": "code",
   "execution_count": 45,
   "metadata": {},
   "outputs": [
    {
     "data": {
      "text/plain": [
       "array([[ 0.19320513,  0.11434351,  0.03710802, ...,  0.05649326,\n",
       "         0.01942554, -0.13921053],\n",
       "       [-0.06395086,  0.40564811,  0.16187217, ...,  0.03765019,\n",
       "         0.06082476, -0.32930817],\n",
       "       [-0.01428076,  0.12118856,  0.25235935, ...,  0.09213419,\n",
       "         0.04473241, -0.23186452],\n",
       "       ...,\n",
       "       [-0.02919136,  0.02720721, -0.06639787, ...,  0.39120197,\n",
       "         0.07625606, -0.10449309],\n",
       "       [-0.08250111, -0.00985182,  0.00071424, ...,  0.06317316,\n",
       "         0.52269995, -0.21650769],\n",
       "       [-0.06692436,  0.05472298,  0.03371883, ...,  0.12892834,\n",
       "         0.08095056, -0.04238037]])"
      ]
     },
     "execution_count": 45,
     "metadata": {},
     "output_type": "execute_result"
    }
   ],
   "source": [
    "A_step1=np.dot(R2_M,V_R1M_T)\n",
    "A_step2=np.dot(A_step1,Sig_inv_R1M)\n",
    "A_R1M_R2=np.dot(A_step2,U_R1M_T)\n",
    "A_R1M_R2"
   ]
  },
  {
   "cell_type": "code",
   "execution_count": 46,
   "metadata": {},
   "outputs": [],
   "source": [
    "values_R1_M, vectors_R1_M = np.linalg.eig(A_R1M_R2)"
   ]
  },
  {
   "cell_type": "code",
   "execution_count": 47,
   "metadata": {},
   "outputs": [],
   "source": [
    "eiglog_R1_M = np.log(values_R1_M)"
   ]
  },
  {
   "cell_type": "code",
   "execution_count": 48,
   "metadata": {},
   "outputs": [],
   "source": [
    "lamphi_R1_M=np.zeros(40)\n",
    "for i in range (40):\n",
    "    rep=vectors_R1_M[i]\n",
    "    norm=np.linalg.norm(rep)\n",
    "    val=np.absolute(values_R1_M[i])*norm\n",
    "    lamphi_R1_M[i]=val"
   ]
  },
  {
   "cell_type": "code",
   "execution_count": 49,
   "metadata": {},
   "outputs": [],
   "source": [
    "#Export datasets\n",
    "\n",
    "df1 = pd.DataFrame(A_Y1F_R1[-1,:][:39])\n",
    "df1.to_csv('Y1_R1_F_importance.csv')\n",
    "df2 = pd.DataFrame(A_Y1M_R1[-1,:][:39])\n",
    "df2.to_csv('Y1_R1_M_importance.csv')\n",
    "df3 = pd.DataFrame(A_R1F_R2[-1,:][:39])\n",
    "df3.to_csv('R1_R2_F_importance.csv')\n",
    "df4 = pd.DataFrame(A_R1M_R2[-1,:][:39])\n",
    "df4.to_csv('R1_R2_M_importance.csv')"
   ]
  },
  {
   "cell_type": "markdown",
   "metadata": {},
   "source": [
    "## Graphs"
   ]
  },
  {
   "cell_type": "code",
   "execution_count": 50,
   "metadata": {},
   "outputs": [],
   "source": [
    "label=['a1', 'a2',\n",
    "       'a3', 'a4', 'a5', 'a6', 'b7', 'b8',\n",
    "       'b9', 'c10', 'c11', 'c12', 'c13',\n",
    "       'c14', 'c15', 'c16', 'de17', 'de18',\n",
    "       'de19', 'de20', 'f21', 'f22', 'f23o',\n",
    "       'f24', 'f25', 'f26', 'g27', 'g28',\n",
    "       'g29', 'g30', 'g31', 'h32', 'h33',\n",
    "       'h34', 'h35', 'h36', 'h37', 't38',\n",
    "       't39','RiskFactor']"
   ]
  },
  {
   "cell_type": "markdown",
   "metadata": {},
   "source": [
    "### PLOTs of the last row in transformation matrix"
   ]
  },
  {
   "cell_type": "markdown",
   "metadata": {},
   "source": [
    "#### Importance from Y1 to R1 "
   ]
  },
  {
   "cell_type": "code",
   "execution_count": 56,
   "metadata": {},
   "outputs": [
    {
     "data": {
      "text/plain": [
       "<BarContainer object of 39 artists>"
      ]
     },
     "execution_count": 56,
     "metadata": {},
     "output_type": "execute_result"
    },
    {
     "data": {
      "image/png": "[encoded data removed]",
      "text/plain": [
       "<Figure size 720x360 with 1 Axes>"
      ]
     },
     "metadata": {},
     "output_type": "display_data"
    }
   ],
   "source": [
    "index=np.zeros(39)\n",
    "for i in range (39):\n",
    "    index[i]=i\n",
    "Gender = ['Female','Male']\n",
    "pos = np.arange(len(index))\n",
    "bar_width = 0.35\n",
    "plt.figure(figsize=(10,5))\n",
    "plt.rcParams['axes.edgecolor']='#333F4B'\n",
    "plt.rcParams['axes.linewidth']=0.8\n",
    "plt.rcParams['xtick.color']='#333F4B'\n",
    "plt.rcParams['ytick.color']='#333F4B'\n",
    "plt.title('Juxtaposition of Importance from Y1 to R1', fontsize=20, fontweight=0, color='purple', loc='center', style='italic' ) \n",
    "plt.xticks(np.arange(min(index), max(index)+1, 1.0),label, color='purple',rotation='vertical')\n",
    "plt.xlabel('Question Number',fontsize=20, style='italic' )\n",
    "plt.ylabel('Value of Entries',fontsize=20, color='orange', style='italic' )\n",
    "plt.bar(pos,abs(A_Y1F_R1[-1,:][:39]),bar_width,alpha=0.5,color='orange')\n",
    "plt.bar(pos+bar_width,abs(A_Y1M_R1[-1,:][:39]),bar_width,alpha=0.5)"
   ]
  },
  {
   "cell_type": "markdown",
   "metadata": {},
   "source": [
    "#### orange represents girls, and blue represents boys "
   ]
  },
  {
   "cell_type": "markdown",
   "metadata": {},
   "source": [
    "#### Importance from R1 to R2"
   ]
  },
  {
   "cell_type": "code",
   "execution_count": 55,
   "metadata": {},
   "outputs": [
    {
     "data": {
      "text/plain": [
       "<BarContainer object of 39 artists>"
      ]
     },
     "execution_count": 55,
     "metadata": {},
     "output_type": "execute_result"
    },
    {
     "data": {
      "image/png": "[encoded data removed]",
      "text/plain": [
       "<Figure size 720x360 with 1 Axes>"
      ]
     },
     "metadata": {},
     "output_type": "display_data"
    }
   ],
   "source": [
    "index=np.zeros(39)\n",
    "for i in range (39):\n",
    "    index[i]=i\n",
    "Gender = ['Female','Male']\n",
    "pos = np.arange(len(index))\n",
    "bar_width = 0.35\n",
    "plt.figure(figsize=(10,5))\n",
    "plt.rcParams['axes.edgecolor']='#333F4B'\n",
    "plt.rcParams['axes.linewidth']=0.8\n",
    "plt.rcParams['xtick.color']='#333F4B'\n",
    "plt.rcParams['ytick.color']='#333F4B'\n",
    "plt.title('Juxtaposition of Importance from R1 to R2', fontsize=20, fontweight=0, color='purple', loc='center', style='italic' ) \n",
    "plt.xticks(np.arange(min(index), max(index)+1, 1.0),label, color='purple',rotation='vertical')\n",
    "plt.xlabel('Question Number',fontsize=20, style='italic' )\n",
    "plt.ylabel('Value of Entries',fontsize=20, color='orange', style='italic' )\n",
    "plt.bar(pos,abs(A_R1F_R2[-1,:][:39]),bar_width,alpha=0.5,color='orange')\n",
    "plt.bar(pos+bar_width,abs(A_R1M_R2[-1,:][:39]),bar_width,alpha=0.5)"
   ]
  },
  {
   "cell_type": "markdown",
   "metadata": {},
   "source": [
    "#### Change in girls"
   ]
  },
  {
   "cell_type": "code",
   "execution_count": 53,
   "metadata": {},
   "outputs": [
    {
     "data": {
      "text/plain": [
       "<BarContainer object of 39 artists>"
      ]
     },
     "execution_count": 53,
     "metadata": {},
     "output_type": "execute_result"
    },
    {
     "data": {
      "image/png": "[encoded data removed]",
      "text/plain": [
       "<Figure size 1440x432 with 1 Axes>"
      ]
     },
     "metadata": {},
     "output_type": "display_data"
    }
   ],
   "source": [
    "index=np.zeros(39)\n",
    "for i in range (39):\n",
    "    index[i]=i\n",
    "Year = [\"Y1 to R1\", \"R1 to R2\"]\n",
    "pos = np.arange(len(index))\n",
    "bar_width = 0.35\n",
    "plt.figure(figsize=(20,6))\n",
    "plt.rcParams['axes.edgecolor']='#333F4B'\n",
    "plt.rcParams['axes.linewidth']=0.8\n",
    "plt.rcParams['xtick.color']='#333F4B'\n",
    "plt.rcParams['ytick.color']='#333F4B'\n",
    "plt.title('Juxtaposition of Importance for females', fontsize=20, fontweight=0, color='purple', loc='center', style='italic' ) \n",
    "plt.xticks(np.arange(min(index), max(index)+1, 1.0),label, color='purple',rotation='vertical')\n",
    "plt.xlabel('Question Number',fontsize=20, style='italic' )\n",
    "plt.ylabel('Value of Entries',fontsize=20, color='orange', style='italic' )\n",
    "plt.bar(pos,abs(A_Y1F_R1[-1,:][:39]),bar_width,alpha=0.8,color='#b3e5fc')\n",
    "plt.bar(pos+bar_width,abs(A_R1F_R2[-1,:][:39]),bar_width,color = '#df744a', alpha=0.8)"
   ]
  },
  {
   "cell_type": "markdown",
   "metadata": {},
   "source": [
    "#### Yellow represents period from Y1 to R1; Olive represents period from R1 to R2"
   ]
  },
  {
   "cell_type": "code",
   "execution_count": 54,
   "metadata": {},
   "outputs": [
    {
     "data": {
      "text/plain": [
       "<BarContainer object of 39 artists>"
      ]
     },
     "execution_count": 54,
     "metadata": {},
     "output_type": "execute_result"
    },
    {
     "data": {
      "image/png": "[encoded data removed]",
      "text/plain": [
       "<Figure size 1440x432 with 1 Axes>"
      ]
     },
     "metadata": {},
     "output_type": "display_data"
    }
   ],
   "source": [
    "index=np.zeros(39)\n",
    "for i in range (39):\n",
    "    index[i]=i\n",
    "Year = [\"Y1 to R1\", \"R1 to R2\"]\n",
    "pos = np.arange(len(index))\n",
    "bar_width = 0.35\n",
    "plt.figure(figsize=(20,6))\n",
    "plt.rcParams['axes.edgecolor']='#333F4B'\n",
    "plt.rcParams['axes.linewidth']=0.8\n",
    "plt.rcParams['xtick.color']='#333F4B'\n",
    "plt.rcParams['ytick.color']='#333F4B'\n",
    "plt.title('Juxtaposition of Importance for males', fontsize=20, fontweight=0, color='purple', loc='center', style='italic' ) \n",
    "plt.xticks(np.arange(min(index), max(index)+1, 1.0),label, color='purple',rotation='vertical')\n",
    "plt.xlabel('Question Number',fontsize=20, style='italic' )\n",
    "plt.ylabel('Value of Entries',fontsize=20, color='orange', style='italic' )\n",
    "plt.bar(pos,abs(A_Y1M_R1[-1,:][:39]),bar_width,alpha=0.8,color='#b3e5fc')\n",
    "plt.bar(pos+bar_width,abs(A_R1M_R2[-1,:][:39]),bar_width,color = '#df744a', alpha=0.8)"
   ]
  }
 ],
 "metadata": {
  "kernelspec": {
   "display_name": "Python 3",
   "language": "python",
   "name": "python3"
  },
  "language_info": {
   "codemirror_mode": {
    "name": "ipython",
    "version": 3
   },
   "file_extension": ".py",
   "mimetype": "text/x-python",
   "name": "python",
   "nbconvert_exporter": "python",
   "pygments_lexer": "ipython3",
   "version": "3.6.5"
  }
 },
 "nbformat": 4,
 "nbformat_minor": 2
}
