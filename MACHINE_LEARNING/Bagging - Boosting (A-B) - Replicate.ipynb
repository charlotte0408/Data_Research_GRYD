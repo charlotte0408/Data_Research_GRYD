{
 "cells": [
  {
   "cell_type": "code",
   "execution_count": 13,
   "metadata": {},
   "outputs": [],
   "source": [
    "import numpy as np\n",
    "import pandas as pd\n",
    "import time\n",
    "from itertools import combinations\n",
    "from sklearn.neighbors import KNeighborsClassifier\n",
    "from sklearn.svm import SVC,NuSVC\n",
    "from sklearn.naive_bayes import GaussianNB\n",
    "from sklearn.tree import DecisionTreeClassifier\n",
    "from sklearn.ensemble import RandomForestClassifier\n",
    "from sklearn.linear_model import SGDClassifier\n",
    "from sklearn.neural_network import MLPClassifier\n",
    "from sklearn.model_selection import train_test_split\n",
    "from sklearn.metrics import classification_report\n",
    "from sklearn.ensemble import VotingClassifier\n",
    "from sklearn.ensemble import AdaBoostClassifier\n",
    "import sys\n",
    "#import tensorflow as tf\n",
    "#from ELM.elm import ELM\n",
    "import os\n",
    "import argparse\n",
    "import warnings\n",
    "warnings.filterwarnings('ignore')"
   ]
  },
  {
   "cell_type": "code",
   "execution_count": 2,
   "metadata": {},
   "outputs": [],
   "source": [
    "# Check if the data is eligible\n",
    "def If_Elig(data):\n",
    "    return (data>=5).astype(int)\n",
    "\n",
    "# Find the position of the data\n",
    "def find_pos(data,value, order):\n",
    "    max_num = np.count_nonzero(data[:,0]==value)\n",
    "    if order > max_num:\n",
    "        return -1\n",
    "    else:\n",
    "        return np.nonzero(data[:,0]==value)[0][order-1]\n",
    "\n",
    "# Model Prediction\n",
    "def model_predict(model,x):\n",
    "    return model.predict(x)\n",
    "\n",
    "# Hand Written Soft Voting\n",
    "def Vote(Classifier,Prediction,Score):\n",
    "    leng = len(Classifier)\n",
    "    sum_score = sum(Score)\n",
    "    Weighted = 0\n",
    "    for i in range(leng):\n",
    "        Weighted += Prediction[i]*Score[i]/sum_score\n",
    "    return Weighted"
   ]
  },
  {
   "cell_type": "code",
   "execution_count": 3,
   "metadata": {},
   "outputs": [],
   "source": [
    "# The following def are packages training, which can be searched on sklearn\n",
    "\n",
    "def KNN(n,x,y):\n",
    "    knn = KNeighborsClassifier(n_neighbors=n, n_jobs=-1)\n",
    "    knn.fit(x,y)\n",
    "    return knn\n",
    "\n",
    "\n",
    "def SVM(x,y):\n",
    "    svc = SVC()\n",
    "    svc.fit(x,y)\n",
    "    return svc\n",
    "\n",
    "\n",
    "def NuSVM(x,y):\n",
    "    nus = [_ / 10 for _ in range(1, 11, 1)]\n",
    "    for nu in nus:\n",
    "        nusvc = NuSVC(nu=nu)\n",
    "        try:\n",
    "            nusvc.fit(x,y)\n",
    "            return nusvc\n",
    "        except ValueError as e:\n",
    "            print(\"nu {} not feasible\".format(nu))\n",
    "\n",
    "def Bayesian(x,y):\n",
    "    bayesian = GaussianNB()\n",
    "    bayesian.fit(x,y)\n",
    "    return bayesian\n",
    "\n",
    "\n",
    "def DecisionTree(x,y,criterion='gini',max_depth=None, min_samples_split=2, min_samples_leaf=1, max_features=None):\n",
    "    Tree = DecisionTreeClassifier(criterion=criterion,max_depth=max_depth,min_samples_split= \\\n",
    "                                               min_samples_split,min_samples_leaf=min_samples_leaf,\n",
    "                                               max_features=max_features)\n",
    "    Tree.fit(x,y)\n",
    "    return Tree\n",
    "\n",
    "\n",
    "def RandomForest(x,y,n_estimator=10,criterion='gini'):\n",
    "    Forest = RandomForestClassifier(n_estimators=n_estimator,criterion=criterion)\n",
    "    Forest.fit(x,y)\n",
    "    return Forest\n",
    "\n",
    "\n",
    "def LinearC(x,y):\n",
    "    linear = SGDClassifier()\n",
    "    linear.fit(x,y)\n",
    "    return linear\n",
    "\n",
    "\n",
    "def MLP(x,y,hidden_layer_size=(100,),activation='relu',solver='adam',learning_rate_init=0.01, learning_rate='adaptive'):\n",
    "    if solver=='adam':\n",
    "        MLP = MLPClassifier(hidden_layer_sizes=hidden_layer_size, activation=activation, solver= \\\n",
    "                                               solver, learning_rate_init=learning_rate_init, learning_rate=learning_rate)\n",
    "    elif solver=='sgd':\n",
    "        MLP = MLPClassifier(hidden_layer_sizes=hidden_layer_size, activation=activation, solver= \\\n",
    "            solver, learning_rate_init=learning_rate_init)\n",
    "    else:\n",
    "        MLP = MLPClassifier(hidden_layer_sizes=hidden_layer_size, activation=activation, solver= \\\n",
    "            solver)\n",
    "    MLP.fit(x,y)\n",
    "    return MLP"
   ]
  },
  {
   "cell_type": "code",
   "execution_count": 8,
   "metadata": {},
   "outputs": [],
   "source": [
    "# Read Data\n",
    "np.set_printoptions(threshold=sys.maxsize)\n",
    "cleaned_filepath = 'YSET_Dec2008_Dec2019_cleaned20190531.csv'\n",
    "df = pd.read_csv(cleaned_filepath)"
   ]
  },
  {
   "cell_type": "code",
   "execution_count": 14,
   "metadata": {},
   "outputs": [
    {
     "ename": "TypeError",
     "evalue": "ufunc 'isnan' not supported for the input types, and the inputs could not be safely coerced to any supported types according to the casting rule ''safe''",
     "output_type": "error",
     "traceback": [
      "\u001b[1;31m---------------------------------------------------------------------------\u001b[0m",
      "\u001b[1;31mTypeError\u001b[0m                                 Traceback (most recent call last)",
      "\u001b[1;32m<ipython-input-14-f7eb07f790d4>\u001b[0m in \u001b[0;36m<module>\u001b[1;34m()\u001b[0m\n\u001b[0;32m      2\u001b[0m \u001b[0md\u001b[0m \u001b[1;33m=\u001b[0m \u001b[0mdfr\u001b[0m\u001b[1;33m.\u001b[0m\u001b[0mconvert_objects\u001b[0m\u001b[1;33m(\u001b[0m\u001b[0mconvert_numeric\u001b[0m\u001b[1;33m=\u001b[0m\u001b[1;32mTrue\u001b[0m\u001b[1;33m)\u001b[0m\u001b[1;33m\u001b[0m\u001b[0m\n\u001b[0;32m      3\u001b[0m \u001b[0mxr\u001b[0m \u001b[1;33m=\u001b[0m \u001b[0md\u001b[0m\u001b[1;33m.\u001b[0m\u001b[0mvalues\u001b[0m\u001b[1;33m\u001b[0m\u001b[0m\n\u001b[1;32m----> 4\u001b[1;33m \u001b[0mx\u001b[0m \u001b[1;33m=\u001b[0m \u001b[0mxr\u001b[0m\u001b[1;33m[\u001b[0m\u001b[1;33m~\u001b[0m\u001b[0mnp\u001b[0m\u001b[1;33m.\u001b[0m\u001b[0misnan\u001b[0m\u001b[1;33m(\u001b[0m\u001b[0mxr\u001b[0m\u001b[1;33m)\u001b[0m\u001b[1;33m.\u001b[0m\u001b[0many\u001b[0m\u001b[1;33m(\u001b[0m\u001b[0maxis\u001b[0m\u001b[1;33m=\u001b[0m\u001b[1;36m1\u001b[0m\u001b[1;33m)\u001b[0m\u001b[1;33m]\u001b[0m\u001b[1;33m\u001b[0m\u001b[0m\n\u001b[0m\u001b[0;32m      5\u001b[0m \u001b[0mx_revise\u001b[0m \u001b[1;33m=\u001b[0m \u001b[0mnp\u001b[0m\u001b[1;33m.\u001b[0m\u001b[0mempty\u001b[0m\u001b[1;33m(\u001b[0m\u001b[1;33m(\u001b[0m\u001b[1;36m0\u001b[0m\u001b[1;33m,\u001b[0m\u001b[1;36m40\u001b[0m\u001b[1;33m)\u001b[0m\u001b[1;33m)\u001b[0m\u001b[1;33m\u001b[0m\u001b[0m\n\u001b[0;32m      6\u001b[0m \u001b[0my_revise\u001b[0m \u001b[1;33m=\u001b[0m \u001b[0mnp\u001b[0m\u001b[1;33m.\u001b[0m\u001b[0mempty\u001b[0m\u001b[1;33m(\u001b[0m\u001b[1;33m(\u001b[0m\u001b[1;36m0\u001b[0m\u001b[1;33m,\u001b[0m\u001b[1;36m17\u001b[0m\u001b[1;33m)\u001b[0m\u001b[1;33m)\u001b[0m\u001b[1;33m\u001b[0m\u001b[0m\n",
      "\u001b[1;31mTypeError\u001b[0m: ufunc 'isnan' not supported for the input types, and the inputs could not be safely coerced to any supported types according to the casting rule ''safe''"
     ]
    }
   ],
   "source": [
    "dfr = df.loc[:, 'UniqueID':'ij56_ever_combo']\n",
    "d = dfr.convert_objects(convert_numeric=True)\n",
    "xr = d.values\n",
    "x = xr[~np.isnan(xr).any(axis=1)]\n",
    "x_revise = np.empty((0,40))\n",
    "y_revise = np.empty((0,17))\n",
    "\n",
    "for i in range(x.shape[0]):\n",
    "    if i == 0 and x[i,0] == x[i+1,0]:\n",
    "        x_revise = np.vstack([x_revise,[x[i,0:40]]])\n",
    "        y_revise = np.vstack([y_revise,[x[i,40:57]]])\n",
    "    elif i == x.shape[0]-1 and x[i,0] == x[i-1,0]:\n",
    "        x_revise = np.vstack([x_revise,[x[i,0:40]]])\n",
    "        y_revise = np.vstack([y_revise,[x[i,40:57]]])\n",
    "    elif i == x.shape[0]-1:\n",
    "        continue\n",
    "    elif x[i,0]==x[i+1,0] or x[i,0]==x[i-1,0]:\n",
    "        x_revise = np.vstack([x_revise,[x[i,0:40]]])\n",
    "        y_revise = np.vstack([y_revise,[x[i,40:57]]])\n",
    "new_x = np.zeros((x_revise.shape[0],9))\n",
    "for i in range(x_revise.shape[0]):\n",
    "    new_x[i,0] = x_revise[i,0]\n",
    "    new_x[i,1] = np.sum(x_revise[i,1:7])\n",
    "    new_x[i,2] = np.sum(x_revise[i,7:10])\n",
    "    new_x[i,3] = np.sum(x_revise[i,10:17])\n",
    "    new_x[i,4] = np.sum(x_revise[i,17:21])\n",
    "    new_x[i,5] = np.sum(x_revise[i,21:27])\n",
    "    new_x[i,6] = np.sum(x_revise[i,27:32])\n",
    "    new_x[i,7] = np.sum(x_revise[i,32:38])\n",
    "    new_x[i,8] = np.sum(x_revise[i,38:40])"
   ]
  },
  {
   "cell_type": "code",
   "execution_count": 14,
   "metadata": {},
   "outputs": [
    {
     "data": {
      "text/plain": [
       "numpy.ndarray"
      ]
     },
     "execution_count": 14,
     "metadata": {},
     "output_type": "execute_result"
    }
   ],
   "source": [
    "type(xr)"
   ]
  }
 ],
 "metadata": {
  "kernelspec": {
   "display_name": "Python 3",
   "language": "python",
   "name": "python3"
  },
  "language_info": {
   "codemirror_mode": {
    "name": "ipython",
    "version": 3
   },
   "file_extension": ".py",
   "mimetype": "text/x-python",
   "name": "python",
   "nbconvert_exporter": "python",
   "pygments_lexer": "ipython3",
   "version": "3.6.5"
  }
 },
 "nbformat": 4,
 "nbformat_minor": 2
}
