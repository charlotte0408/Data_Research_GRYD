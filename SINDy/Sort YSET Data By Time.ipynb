{
 "cells": [
  {
   "cell_type": "code",
   "execution_count": 6,
   "metadata": {},
   "outputs": [],
   "source": [
    "import pandas as pd\n",
    "import numpy as np\n",
    "import warnings\n",
    "warnings.filterwarnings('ignore')\n",
    "\n",
    "df_c= pd.read_csv(\"ConcernLv_RF.csv\")"
   ]
  },
  {
   "cell_type": "code",
   "execution_count": 10,
   "metadata": {},
   "outputs": [
    {
     "data": {
      "text/html": [
       "<div>\n",
       "<style scoped>\n",
       "    .dataframe tbody tr th:only-of-type {\n",
       "        vertical-align: middle;\n",
       "    }\n",
       "\n",
       "    .dataframe tbody tr th {\n",
       "        vertical-align: top;\n",
       "    }\n",
       "\n",
       "    .dataframe thead th {\n",
       "        text-align: right;\n",
       "    }\n",
       "</style>\n",
       "<table border=\"1\" class=\"dataframe\">\n",
       "  <thead>\n",
       "    <tr style=\"text-align: right;\">\n",
       "      <th></th>\n",
       "      <th>Unnamed: 0</th>\n",
       "      <th>UniqueID</th>\n",
       "      <th>Section_a</th>\n",
       "      <th>Section_b</th>\n",
       "      <th>Section_c</th>\n",
       "      <th>Section_de</th>\n",
       "      <th>Section_f</th>\n",
       "      <th>Section_g</th>\n",
       "      <th>Section_h</th>\n",
       "      <th>Section_t</th>\n",
       "      <th>Section_ij</th>\n",
       "      <th>y_TotalFactors</th>\n",
       "    </tr>\n",
       "  </thead>\n",
       "  <tbody>\n",
       "    <tr>\n",
       "      <th>0</th>\n",
       "      <td>0</td>\n",
       "      <td>1010</td>\n",
       "      <td>0</td>\n",
       "      <td>3</td>\n",
       "      <td>1</td>\n",
       "      <td>1</td>\n",
       "      <td>0</td>\n",
       "      <td>0</td>\n",
       "      <td>1</td>\n",
       "      <td>3</td>\n",
       "      <td>0</td>\n",
       "      <td>NaN</td>\n",
       "    </tr>\n",
       "    <tr>\n",
       "      <th>1</th>\n",
       "      <td>1</td>\n",
       "      <td>1010</td>\n",
       "      <td>0</td>\n",
       "      <td>1</td>\n",
       "      <td>0</td>\n",
       "      <td>0</td>\n",
       "      <td>0</td>\n",
       "      <td>0</td>\n",
       "      <td>0</td>\n",
       "      <td>0</td>\n",
       "      <td>0</td>\n",
       "      <td>1.0</td>\n",
       "    </tr>\n",
       "    <tr>\n",
       "      <th>2</th>\n",
       "      <td>2</td>\n",
       "      <td>1042</td>\n",
       "      <td>0</td>\n",
       "      <td>2</td>\n",
       "      <td>1</td>\n",
       "      <td>0</td>\n",
       "      <td>1</td>\n",
       "      <td>2</td>\n",
       "      <td>4</td>\n",
       "      <td>3</td>\n",
       "      <td>1</td>\n",
       "      <td>7.0</td>\n",
       "    </tr>\n",
       "    <tr>\n",
       "      <th>3</th>\n",
       "      <td>3</td>\n",
       "      <td>1043</td>\n",
       "      <td>2</td>\n",
       "      <td>4</td>\n",
       "      <td>0</td>\n",
       "      <td>1</td>\n",
       "      <td>2</td>\n",
       "      <td>2</td>\n",
       "      <td>4</td>\n",
       "      <td>3</td>\n",
       "      <td>0</td>\n",
       "      <td>8.0</td>\n",
       "    </tr>\n",
       "    <tr>\n",
       "      <th>4</th>\n",
       "      <td>4</td>\n",
       "      <td>1043</td>\n",
       "      <td>0</td>\n",
       "      <td>2</td>\n",
       "      <td>0</td>\n",
       "      <td>0</td>\n",
       "      <td>1</td>\n",
       "      <td>1</td>\n",
       "      <td>1</td>\n",
       "      <td>3</td>\n",
       "      <td>0</td>\n",
       "      <td>NaN</td>\n",
       "    </tr>\n",
       "  </tbody>\n",
       "</table>\n",
       "</div>"
      ],
      "text/plain": [
       "   Unnamed: 0  UniqueID  Section_a  Section_b  Section_c  Section_de  \\\n",
       "0           0      1010          0          3          1           1   \n",
       "1           1      1010          0          1          0           0   \n",
       "2           2      1042          0          2          1           0   \n",
       "3           3      1043          2          4          0           1   \n",
       "4           4      1043          0          2          0           0   \n",
       "\n",
       "   Section_f  Section_g  Section_h  Section_t  Section_ij  y_TotalFactors  \n",
       "0          0          0          1          3           0             NaN  \n",
       "1          0          0          0          0           0             1.0  \n",
       "2          1          2          4          3           1             7.0  \n",
       "3          2          2          4          3           0             8.0  \n",
       "4          1          1          1          3           0             NaN  "
      ]
     },
     "execution_count": 10,
     "metadata": {},
     "output_type": "execute_result"
    }
   ],
   "source": [
    "df_c.head()"
   ]
  },
  {
   "cell_type": "code",
   "execution_count": 11,
   "metadata": {},
   "outputs": [],
   "source": [
    "def pos(df,num):\n",
    "    \n",
    "    if df.at[num,'UniqueID']==df.at[num+1,'UniqueID']        and df.at[num,'UniqueID']==df.at[num+2,'UniqueID'] :\n",
    "        return num\n",
    "    else: \n",
    "        return 0"
   ]
  },
  {
   "cell_type": "code",
   "execution_count": 12,
   "metadata": {},
   "outputs": [],
   "source": [
    "#collecting the index of students who took Y1R1R2\n",
    "#each has size 705, intersect_y1_r1_r2 size 2115\n",
    "#The index is used to generate the csv files\n",
    "intersec_y1=[]\n",
    "intersec_r1=[]\n",
    "intersec_r2=[]\n",
    "intersect_y1_r1_r2=[]\n",
    "\n",
    "for i in range(32894):\n",
    "    if pos(df_c,i)!=0:\n",
    "        intersec_y1.append(i)\n",
    "        intersec_r1.append(i+1)\n",
    "        intersec_r2.append(i+2)\n",
    "        intersect_y1_r1_r2.append(i)\n",
    "        intersect_y1_r1_r2.append(i+1)\n",
    "        intersect_y1_r1_r2.append(i+2)"
   ]
  },
  {
   "cell_type": "code",
   "execution_count": 13,
   "metadata": {},
   "outputs": [],
   "source": [
    "#df_new is the extracted students and their Y1R1R2 test results\n",
    "df_new=df_c.ix[intersect_y1_r1_r2]\n",
    "df_new.to_csv('Intersection_Y1R1R2_0702Y1_R1_R2_on_0702clean_data.csv',index=False)"
   ]
  },
  {
   "cell_type": "code",
   "execution_count": 14,
   "metadata": {},
   "outputs": [
    {
     "data": {
      "text/plain": [
       "(7743,)"
      ]
     },
     "execution_count": 14,
     "metadata": {},
     "output_type": "execute_result"
    }
   ],
   "source": [
    "np.shape(intersect_y1_r1_r2)"
   ]
  },
  {
   "cell_type": "code",
   "execution_count": 15,
   "metadata": {},
   "outputs": [],
   "source": [
    "list_1=range(0,7743,3)\n",
    "list_2=range(1,7743,3)\n",
    "list_3=range(2,7743,3)\n",
    "\n",
    "df_1=df_new.iloc[list_1,:]\n",
    "df_2=df_new.iloc[list_2,:]\n",
    "df_3=df_new.iloc[list_3,:]\n",
    "\n",
    "df_1.to_csv('Intersection_Y1R1R2_Y1.csv')\n",
    "df_2.to_csv('Intersection_Y1R1R2_R1.csv')\n",
    "df_3.to_csv('Intersection_Y1R1R2_R2.csv')"
   ]
  }
 ],
 "metadata": {
  "kernelspec": {
   "display_name": "Python 3",
   "language": "python",
   "name": "python3"
  },
  "language_info": {
   "codemirror_mode": {
    "name": "ipython",
    "version": 3
   },
   "file_extension": ".py",
   "mimetype": "text/x-python",
   "name": "python",
   "nbconvert_exporter": "python",
   "pygments_lexer": "ipython3",
   "version": "3.6.5"
  }
 },
 "nbformat": 4,
 "nbformat_minor": 2
}
