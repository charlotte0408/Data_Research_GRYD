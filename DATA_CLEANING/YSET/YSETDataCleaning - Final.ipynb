{
 "cells": [
  {
   "cell_type": "code",
   "execution_count": 1,
   "metadata": {},
   "outputs": [],
   "source": [
    "import pandas as pd\n",
    "import numpy as np\n",
    "import copy\n",
    "import re\n",
    "from datetime import date\n",
    "import warnings\n",
    "warnings.filterwarnings('ignore')"
   ]
  },
  {
   "cell_type": "code",
   "execution_count": 2,
   "metadata": {},
   "outputs": [],
   "source": [
    "## Import data set: \n",
    "## *** Important: Use the cleaned dataset, or run 'csv_cleaning.csv' on raw data before proceeding (as it creates 'UniqueID' for individual participants)!! ***\n",
    "df = pd.read_csv('YSET_Dec2008_Dec2019_cleaned20190531.csv')"
   ]
  },
  {
   "cell_type": "code",
   "execution_count": 3,
   "metadata": {},
   "outputs": [],
   "source": [
    "## Creating new dataframe with UniqueID and Responses for Question 1 through 56 (Section A through Section IJ)\n",
    "df_question = copy.deepcopy(df.loc[:,\"a1_combo\":\"ij56_ever_combo\"])\n",
    "df_question['y_Flag_GangInvolvement'] = copy.deepcopy(df['y_Flag_GangInvolvement'])\n",
    "df_question['YSET_I_R'] = copy.deepcopy(df['YSET_I_R'])\n",
    "df_question['YSETResults'] = copy.deepcopy(df['YSETResults'])\n",
    "df_question['y_TotalFactors'] = copy.deepcopy(df['y_TotalFactors'])\n",
    "df_question['Age'] = copy.deepcopy(df['Age'])\n",
    "df_question['Date'] = copy.deepcopy(df['y_DateS1_Interview'])\n",
    "df_question['Gender'] = copy.deepcopy(df['Gender'])\n",
    "df_question = df_question.join(copy.deepcopy(df.loc[:,'GRYD_Zone':'Ethnicity_Other']))\n",
    "df_question['UniqueID'] = copy.deepcopy(df['UniqueID'])\n",
    "\n",
    "cols = df_question.columns.tolist()\n",
    "cols = cols[-1:] + cols[:-1]\n",
    "df_question = df_question[cols]"
   ]
  },
  {
   "cell_type": "code",
   "execution_count": 4,
   "metadata": {},
   "outputs": [],
   "source": [
    "## Col: 'UniqueID'\n",
    "df_question['UniqueID'] = pd.to_numeric(df_question['UniqueID'], downcast = 'integer', errors = 'coerce')\n"
   ]
  },
  {
   "cell_type": "code",
   "execution_count": 5,
   "metadata": {},
   "outputs": [],
   "source": [
    "## Col: 'y_Flag_GangInvolvement'\n",
    "df_question['y_Flag_GangInvolvement'] = pd.to_numeric(df_question['y_Flag_GangInvolvement'], downcast = 'integer', errors = 'coerce')"
   ]
  },
  {
   "cell_type": "code",
   "execution_count": 6,
   "metadata": {},
   "outputs": [],
   "source": [
    "## Col: 'Date'\n",
    "df_question['Date'] =  pd.to_datetime(df_question['Date'])\n",
    "invalid_date = df_question[df_question['Date'] > pd.to_datetime(date.today())].index.tolist()\n",
    "for index in invalid_date:\n",
    "    df_question.loc[index, 'Date'] = np.nan"
   ]
  },
  {
   "cell_type": "code",
   "execution_count": 7,
   "metadata": {},
   "outputs": [],
   "source": [
    "## Col: 'YSET_I_R'\n",
    "for i in list(df_question[df_question.YSET_I_R == 1].index):\n",
    "    df_question.at[i, 'YSET_I_R'] *= 10\n",
    "    \n",
    "uniIDlist = list(df_question.UniqueID.value_counts().index)\n",
    "for id in uniIDlist:\n",
    "    if len(df_question[df_question.UniqueID == id][df_question[df_question.UniqueID == id].YSET_I_R == 2]) > 0:\n",
    "        for i in df_question[df_question.UniqueID == id][df_question[df_question.UniqueID == id].Date >= df_question[df_question.UniqueID == id][df_question[df_question.UniqueID == id].YSET_I_R == 2].Date.values[0]].YSET_I_R.index:\n",
    "            if df_question.at[i, 'YSET_I_R'] == 2: df_question.at[i, 'YSET_I_R'] *= 10\n",
    "            else: df_question.at[i, 'YSET_I_R'] += 10\n",
    "    if len(df_question[df_question.UniqueID == id][df_question[df_question.UniqueID == id].YSET_I_R == 3]) > 0:\n",
    "        for i in df_question[df_question.UniqueID == id][df_question[df_question.UniqueID == id].Date >= df_question[df_question.UniqueID == id][df_question[df_question.UniqueID == id].YSET_I_R == 3].Date.values[0]].YSET_I_R.index:\n",
    "            if df_question.at[i, 'YSET_I_R'] == 3: df_question.at[i, 'YSET_I_R'] *= 10\n",
    "            else: df_question.at[i, 'YSET_I_R'] += 20\n",
    "    if len(df_question[df_question.UniqueID == id][df_question[df_question.UniqueID == id].YSET_I_R == 4]) > 0:\n",
    "        for i in df_question[df_question.UniqueID == id][df_question[df_question.UniqueID == id].Date >= df_question[df_question.UniqueID == id][df_question[df_question.UniqueID == id].YSET_I_R == 4].Date.values[0]].YSET_I_R.index:\n",
    "            if df_question.at[i, 'YSET_I_R'] == 4: df_question.at[i, 'YSET_I_R'] *= 10\n",
    "            else: df_question.at[i, 'YSET_I_R'] += 30\n"
   ]
  },
  {
   "cell_type": "code",
   "execution_count": 8,
   "metadata": {},
   "outputs": [],
   "source": [
    "## Col: 'y_TotalFactors'\n",
    "df_question['y_TotalFactors'] = pd.to_numeric(df_question['y_TotalFactors'], downcast = 'integer', errors = 'coerce')\n",
    "df_question.loc[(df_question.y_TotalFactors == 88), 'y_TotalFactors'] = np.nan"
   ]
  },
  {
   "cell_type": "code",
   "execution_count": 9,
   "metadata": {},
   "outputs": [],
   "source": [
    "## Col: 'Age'\n",
    "df_question['Age'] = pd.to_numeric(df_question['Age'], downcast = 'integer', errors = 'coerce')\n",
    "df_question.loc[(df_question.Age == 99), 'Age'] = np.nan"
   ]
  },
  {
   "cell_type": "code",
   "execution_count": 10,
   "metadata": {},
   "outputs": [],
   "source": [
    "## Col: 'Gender': 1 Male, 2 Female\n",
    "df_question['Gender'] = pd.to_numeric(df_question['Gender'], downcast = 'integer', errors = 'coerce')\n",
    "df_question.loc[(df_question.Gender == -1), 'Gender'] = np.nan\n",
    "df_question.loc[(df_question.Gender == 99), 'Gender'] = np.nan"
   ]
  },
  {
   "cell_type": "code",
   "execution_count": 11,
   "metadata": {},
   "outputs": [],
   "source": [
    "## Col: 'GRYD_Zone'\n",
    "df_question['GRYD_Zone'] = pd.to_numeric(df_question['GRYD_Zone'], downcast = 'integer', errors = 'coerce')\n",
    "df_question.loc[(df_question.GRYD_Zone == 99), 'GRYD_Zone'] = np.nan"
   ]
  },
  {
   "cell_type": "code",
   "execution_count": 12,
   "metadata": {},
   "outputs": [],
   "source": [
    "## Col: 'Ethnicity_Asian':'Ethnicity_Other'\n",
    "for col in df_question.loc[:,'Ethnicity_Asian':'Ethnicity_Other'].columns.tolist():\n",
    "    \n",
    "    df_question[col] = pd.to_numeric(df_question[col], downcast = 'integer', errors = 'coerce')\n",
    "    df_question.loc[(df_question[col] == 99), col] = np.nan\n",
    "    df_question.loc[(df_question[col] == 9), col] = np.nan\n",
    "    df_question.loc[(df_question[col] == 11), col] = np.nan"
   ]
  },
  {
   "cell_type": "code",
   "execution_count": 13,
   "metadata": {},
   "outputs": [],
   "source": [
    "## Col: 'ij40_6mos_combo':'ij56_ever_combo'\n",
    "for col in df_question.loc[:,'ij40_6mos_combo':'ij56_ever_combo'].columns.tolist():\n",
    "    \n",
    "    df_question[col] = pd.to_numeric(df_question[col], downcast = 'integer', errors = 'coerce')\n",
    "    df_question.loc[(df_question[col] == -1), col] = np.nan\n",
    "    df_question.loc[(df_question[col] == 11), col] = np.nan\n",
    "    df_question.loc[(df_question[col] == 99), col] = np.nan\n",
    "    df_question.loc[(df_question[col] == 9), col] = np.nan"
   ]
  },
  {
   "cell_type": "code",
   "execution_count": 14,
   "metadata": {},
   "outputs": [],
   "source": [
    "# checking IJ consistency\n",
    "for var in range(40,56):\n",
    "    df_question.loc[np.where((df_question['ij{}_6mos_combo'.format(var)] ==1 ) & (df_question['ij{}_ever_combo'.format(var)]== 0), 1, 0), 'ij{}_ever_combo'.format(var)] = np.nan"
   ]
  },
  {
   "cell_type": "code",
   "execution_count": 15,
   "metadata": {},
   "outputs": [],
   "source": [
    "## Col: 't38_combo', 't39_combo'\n",
    "for col in df_question.loc[:,'t38_combo':'t39_combo'].columns.tolist():\n",
    "    \n",
    "    df_question[col] = pd.to_numeric(df_question[col], downcast = 'integer', errors = 'coerce')\n",
    "\n",
    "    df_question.loc[(df_question[col] == 99), col] = np.nan\n",
    "    df_question.loc[(df_question[col] == 999), col] = np.nan\n",
    "    \n",
    "    df_question.loc[(df_question[col] > 4), col] = 4"
   ]
  },
  {
   "cell_type": "code",
   "execution_count": 16,
   "metadata": {},
   "outputs": [],
   "source": [
    "## All the rest columns:    \n",
    "for col in df_question.loc[:,'a1_combo':'h37_combo'].columns.tolist():\n",
    "    \n",
    "    df_question[col] = pd.to_numeric(df_question[col], downcast = 'integer', errors = 'coerce')\n",
    "    df_question.loc[(df_question[col] == -1), col] = np.nan\n",
    "    df_question.loc[(df_question[col] == 11), col] = np.nan\n",
    "    df_question.loc[(df_question[col] == 99), col] = np.nan\n",
    "    df_question.loc[(df_question[col] == 9), col] = np.nan\n",
    "    \n",
    "    df_question.loc[(df_question[col] % 1 != 0), col] = np.nan\n",
    "    \n",
    "    df_question.loc[(df_question[col] > 5), col] = np.nan\n",
    "    \n",
    "    if max(df_question[col]) == 5: \n",
    "        df_question.loc[(df_question[col] == 0), col] = np.nan"
   ]
  },
  {
   "cell_type": "code",
   "execution_count": 17,
   "metadata": {},
   "outputs": [],
   "source": [
    "## Section A through H\n",
    "prev_sect = ''\n",
    "for name in df_question.loc[:,\"a1_combo\":\"h37_combo\"].columns.tolist():\n",
    "    m = re.search(\"\\d\", name)\n",
    "    curr_sect = name[:re.search(\"\\d\", name).start()]\n",
    "    if curr_sect == prev_sect:\n",
    "        df_question['Section_{}'.format(prev_sect)] += copy.deepcopy(df_question[name])\n",
    "    else:\n",
    "        df_question['Section_{}'.format(curr_sect)] = copy.deepcopy(df_question[name])\n",
    "        prev_sect = curr_sect"
   ]
  },
  {
   "cell_type": "code",
   "execution_count": 18,
   "metadata": {},
   "outputs": [],
   "source": [
    "## Section T\n",
    "def sectionT(row):\n",
    "    if row.t38_combo < 2 and row.t39_combo < 2:\n",
    "        return 0\n",
    "    elif row.t38_combo >= 2 and row.t39_combo >= 2:\n",
    "        return 2\n",
    "    else: return 1\n",
    "df_question['Section_t'] = df_question.apply(sectionT, axis = 1)"
   ]
  },
  {
   "cell_type": "code",
   "execution_count": 19,
   "metadata": {},
   "outputs": [],
   "source": [
    "## Section IJ: 6mos\n",
    "df_question['Section_ij_6mos'] = copy.deepcopy(df_question[\"ij40_6mos_combo\"])\n",
    "for col in df_question.loc[:,\"ij41_6mos_combo\":\"ij56_6mos_combo\"].columns.tolist():\n",
    "    df_question['Section_ij_6mos'] += copy.deepcopy(df_question[col])"
   ]
  },
  {
   "cell_type": "code",
   "execution_count": 21,
   "metadata": {},
   "outputs": [],
   "source": [
    "## Section IJ: ever\n",
    "df_question['Section_ij_ever'] = copy.deepcopy(df_question[\"ij40_ever_combo\"])\n",
    "for col in df_question.loc[:,\"ij41_ever_combo\":\"ij56_ever_combo\"].columns.tolist():\n",
    "    df_question['Section_ij_ever'] += copy.deepcopy(df_question[col]) \n",
    "\n",
    "df_question.to_csv('YSET_Dec08_Dec19_a1_ij56ever_cleaned.csv')"
   ]
  }
 ],
 "metadata": {
  "kernelspec": {
   "display_name": "Python 3",
   "language": "python",
   "name": "python3"
  },
  "language_info": {
   "codemirror_mode": {
    "name": "ipython",
    "version": 3
   },
   "file_extension": ".py",
   "mimetype": "text/x-python",
   "name": "python",
   "nbconvert_exporter": "python",
   "pygments_lexer": "ipython3",
   "version": "3.6.5"
  }
 },
 "nbformat": 4,
 "nbformat_minor": 2
}
